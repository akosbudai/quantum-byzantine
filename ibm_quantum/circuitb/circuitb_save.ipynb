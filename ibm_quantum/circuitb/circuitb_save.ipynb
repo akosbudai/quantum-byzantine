{
 "cells": [
  {
   "cell_type": "code",
   "execution_count": null,
   "id": "7411d876-5363-428c-85a1-e9d27f98ddaf",
   "metadata": {
    "tags": []
   },
   "outputs": [],
   "source": [
    "import numpy as np\n",
    "from scipy.linalg import sqrtm\n",
    "import json\n",
    "from qiskit_ibm_runtime import QiskitRuntimeService\n",
    "service = QiskitRuntimeService(channel=\"ibm_quantum\")"
   ]
  },
  {
   "cell_type": "code",
   "execution_count": null,
   "id": "5f8d7461-d152-4f7a-a297-0e7ee23283e3",
   "metadata": {
    "tags": []
   },
   "outputs": [],
   "source": [
    "# layouts that achieve a 9 CNOT circuit on the 7 qubit topology\n",
    "layouts_7qubit = [\n",
    "    [1,3,0,5], \n",
    "    [3,5,1,4],\n",
    "    [1,3,2,5],\n",
    "    [3,5,1,6],\n",
    "    [3,1,5,0],\n",
    "    [5,3,4,1],\n",
    "    [3,1,5,2],\n",
    "    [5,3,6,1]\n",
    "          ]"
   ]
  },
  {
   "cell_type": "code",
   "execution_count": null,
   "id": "f35d4109-ca5a-4ddc-9598-2c1d53bc0259",
   "metadata": {
    "tags": []
   },
   "outputs": [],
   "source": [
    "# layouts that achieve a 9 CNOT circuit on the 5 qubit linear topology\n",
    "layouts_5qubit_linear = [\n",
    "    [1,2,0,3],\n",
    "    [2,1,3,0],\n",
    "    [2,3,1,4],\n",
    "    [3,2,4,1]\n",
    "]"
   ]
  },
  {
   "cell_type": "code",
   "execution_count": null,
   "id": "eb8c1d36-24b5-40ed-a300-46c129110565",
   "metadata": {
    "tags": []
   },
   "outputs": [],
   "source": [
    "# layouts that achieve a 9 CNOT circuit on the 5 qubit T-shape topology\n",
    "layouts_5qubit_Tshape = [\n",
    "    [1,3,0,4],\n",
    "    [3,1,4,0],\n",
    "    [1,3,2,4],\n",
    "    [3,1,4,2]\n",
    "]"
   ]
  },
  {
   "cell_type": "code",
   "execution_count": null,
   "id": "f5085d74-b7ea-45c0-bb5a-4fa6ec45dbbb",
   "metadata": {
    "tags": []
   },
   "outputs": [],
   "source": [
    "def save_results(job_id, layout_num):\n",
    "    '''save the results of a job to a text file\n",
    "    parameters:\n",
    "    -----------\n",
    "    job_id: the job id of the job\n",
    "    layout_num: the initial layout of the circuit\n",
    "    '''\n",
    "    job = service.job(job_id)\n",
    "    backend = job.backend().name\n",
    "    finish_date = job.metrics()['timestamps']['finished']\n",
    "    n = job.backend().configuration().n_qubits\n",
    "    if n == 7:\n",
    "        layout = layouts_7qubit[layout_num]\n",
    "    if n == 5:\n",
    "        if job.backend().name == 'ibmq_manila':\n",
    "            layout = layouts_5qubit_linear[layout_num]\n",
    "        else:\n",
    "            layout = layouts_5qubit_Tshape[layout_num]\n",
    "    with open(f'{backend}_{layout_num}.txt', 'w') as f:\n",
    "        f.write(backend)\n",
    "        f.write('/n')\n",
    "        f.write(str(layout))\n",
    "        f.write('/n')\n",
    "        f.write(finish_date)\n",
    "        f.write('/n')\n",
    "        f.write(json.dumps(job.result().quasi_dists))"
   ]
  },
  {
   "cell_type": "code",
   "execution_count": null,
   "id": "d038def2-d811-44de-8d4f-4c7441f7de54",
   "metadata": {},
   "outputs": [],
   "source": []
  }
 ],
 "metadata": {
  "kernelspec": {
   "display_name": "Python 3 (ipykernel)",
   "language": "python",
   "name": "python3"
  },
  "language_info": {
   "codemirror_mode": {
    "name": "ipython",
    "version": 3
   },
   "file_extension": ".py",
   "mimetype": "text/x-python",
   "name": "python",
   "nbconvert_exporter": "python",
   "pygments_lexer": "ipython3",
   "version": "3.10.8"
  },
  "widgets": {
   "application/vnd.jupyter.widget-state+json": {
    "state": {},
    "version_major": 2,
    "version_minor": 0
   }
  }
 },
 "nbformat": 4,
 "nbformat_minor": 5
}
