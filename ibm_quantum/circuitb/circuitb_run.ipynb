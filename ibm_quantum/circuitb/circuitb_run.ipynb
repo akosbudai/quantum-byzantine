{
 "cells": [
  {
   "cell_type": "code",
   "execution_count": null,
   "id": "fc5540dc-7a30-4d3d-a108-7cef07dae7a5",
   "metadata": {
    "tags": []
   },
   "outputs": [],
   "source": [
    "# Importing standard Qiskit libraries\n",
    "from qiskit import QuantumCircuit, transpile\n",
    "from qiskit.tools.jupyter import *\n",
    "from qiskit.visualization import *\n",
    "from ibm_quantum_widgets import *\n",
    "from qiskit_aer import AerSimulator\n",
    "\n",
    "from qiskit_ibm_runtime import QiskitRuntimeService, Sampler, Estimator, Session, Options\n",
    "\n",
    "service = QiskitRuntimeService(channel=\"ibm_quantum\")"
   ]
  },
  {
   "cell_type": "code",
   "execution_count": null,
   "id": "76fa93d6-2350-4b7b-8321-a7dc894326a8",
   "metadata": {
    "tags": []
   },
   "outputs": [],
   "source": [
    "# the bases we need to measure the state in, 81=3^4 in total\n",
    "# the bases go from XXXX to ZZZZ in lexicographical order\n",
    "bases = []\n",
    "for i in range(3):\n",
    "    for j in range(3):\n",
    "        for k in range(3):\n",
    "            for l in range(3):\n",
    "                bases.append([i, j, k, l])"
   ]
  },
  {
   "cell_type": "code",
   "execution_count": null,
   "id": "af8421e1-d2d8-4606-9908-cb31592ef6c0",
   "metadata": {
    "tags": []
   },
   "outputs": [],
   "source": [
    "# layouts that achieve a 9 CNOT circuit on the 7 qubit topology\n",
    "layouts_7qubit = [\n",
    "    [1,3,0,5], \n",
    "    [3,5,1,4],\n",
    "    [1,3,2,5],\n",
    "    [3,5,1,6],\n",
    "    [3,1,5,0],\n",
    "    [5,3,4,1],\n",
    "    [3,1,5,2],\n",
    "    [5,3,6,1]\n",
    "          ]"
   ]
  },
  {
   "cell_type": "code",
   "execution_count": null,
   "id": "7dd6304a-0281-48e3-8b07-9aa12943bc8f",
   "metadata": {
    "tags": []
   },
   "outputs": [],
   "source": [
    "# layouts that achieve a 9 CNOT circuit on the 5 qubit linear topology\n",
    "layouts_5qubit_linear = [\n",
    "    [1,2,0,3],\n",
    "    [2,1,3,0],\n",
    "    [2,3,1,4],\n",
    "    [3,2,4,1]\n",
    "]"
   ]
  },
  {
   "cell_type": "code",
   "execution_count": null,
   "id": "020d1ca7-778e-4fae-9c5d-af81ba50b739",
   "metadata": {
    "tags": []
   },
   "outputs": [],
   "source": [
    "# layouts that achieve a 9 CNOT circuit on the 5 qubit T-shape topology\n",
    "layouts_5qubit_Tshape = [\n",
    "    [1,3,0,4],\n",
    "    [3,1,4,0],\n",
    "    [1,3,2,4],\n",
    "    [3,1,4,2]\n",
    "]"
   ]
  },
  {
   "cell_type": "code",
   "execution_count": null,
   "id": "a298edf6-903c-413b-8d64-801f8ab7f0ce",
   "metadata": {
    "tags": []
   },
   "outputs": [],
   "source": [
    "def create_tomo_circuit(basis, initial_layout, backend):\n",
    "    '''\n",
    "    create the quantum circuit of the cabello state and measure in the chosen basis\n",
    "    the basis is a 4-element vector containing 0s, 1s and 2s \n",
    "    from [0, 0, 0, 0] meaning XXXX to [2, 2, 2, 2] meaning ZZZZ\n",
    "    parameters:\n",
    "    ----------\n",
    "    basis: the basis is a 4-element vector containing 0s, 1s and 2s \n",
    "        from [0, 0, 0, 0] meaning XXXX to [2, 2, 2, 2] meaning ZZZZ\n",
    "    initial_layout: which qubits of the backend to use\n",
    "    backend: which backend to use\n",
    "    '''\n",
    "    # the cabello circuit creating the state 2|1100>+2|0011>-|1010>-|0101>-|1001>-|0110>\n",
    "    istvan_circ = QuantumCircuit(4, 4)\n",
    "    istvan_circ.h(0)\n",
    "    istvan_circ.h(1)\n",
    "    istvan_circ.h(2)\n",
    "    istvan_circ.rz(-0.73304, 0)\n",
    "    istvan_circ.rz(2.67908, 2)\n",
    "    istvan_circ.cnot(2, 0)\n",
    "    istvan_circ.ry(-2.67908, 0)\n",
    "    istvan_circ.h(2)\n",
    "    istvan_circ.cnot(1, 0)\n",
    "    istvan_circ.cnot(2, 3)\n",
    "    istvan_circ.rz(1.5708, 2)\n",
    "    istvan_circ.cnot(1, 3)\n",
    "    istvan_circ.cnot(0, 2)\n",
    "    # measurement. result '0' in the X basis means state |+>, in the Y basis |+i> and in the Z basis |0>\n",
    "    for i in range(4):\n",
    "        if basis[i] == 0:\n",
    "            istvan_circ.h(i)\n",
    "            istvan_circ.measure(i, i)\n",
    "        elif basis[i] == 1:\n",
    "            istvan_circ.sdg(i)\n",
    "            istvan_circ.h(i)\n",
    "            istvan_circ.measure(i, i)\n",
    "        else:\n",
    "            istvan_circ.measure(i, i)\n",
    "    return transpile(istvan_circ, backend=backend, initial_layout=initial_layout, optimization_level=3)"
   ]
  },
  {
   "cell_type": "code",
   "execution_count": null,
   "id": "a6b00cfa-f16b-4612-871d-86c5445d771c",
   "metadata": {
    "tags": []
   },
   "outputs": [],
   "source": [
    "def error_circuits(layout, backend):\n",
    "    '''create the quantum circuit for tensor product readout error measurement\n",
    "    parameters: \n",
    "    ----------\n",
    "    layout: which qubits of the computer to measure\n",
    "    n: number of qubits in the circuit'''\n",
    "    circs = []\n",
    "    n = backend.configuration().n_qubits\n",
    "    for qubit in layout:\n",
    "        circs.append(QuantumCircuit(n, n))\n",
    "        circs[-1].x(qubit)\n",
    "        circs[-1].measure(range(n), range(n))\n",
    "    return circs"
   ]
  },
  {
   "cell_type": "code",
   "execution_count": null,
   "id": "93418014-d7b0-49f9-bb97-680adbbebb1d",
   "metadata": {
    "tags": []
   },
   "outputs": [],
   "source": [
    "backend = service.get_backend('ibmq_quito')"
   ]
  },
  {
   "cell_type": "code",
   "execution_count": null,
   "id": "e176b359-263c-446f-bb01-a5d5b1434214",
   "metadata": {
    "tags": []
   },
   "outputs": [],
   "source": [
    "def run_circuits(backend)\n",
    "    '''runs the circuits on all layouts that achieve a 9 CNOT circuit'''\n",
    "    all_res = []\n",
    "    n = backend.configuration().n_qubits\n",
    "    if n == 7:\n",
    "        layouts = layouts_7qubit\n",
    "    if n == 5:\n",
    "        if backend.name == 'ibmq_manila':\n",
    "            layouts = layouts_5qubit_linear\n",
    "        else:\n",
    "            layouts = layouts_5qubit_Tshape\n",
    "    for ind, layout in enumerate(layouts):\n",
    "        sampler = Sampler(backend)\n",
    "        circs = []\n",
    "        for basis in bases:\n",
    "            circs.append(create_tomo_circuit(basis, layout, backend))\n",
    "        circs.extend(error_circuits(layout, backend))\n",
    "        res = sampler.run(circs, resilience_level=0, optimization_level=0)\n",
    "        all_res.append(res)"
   ]
  }
 ],
 "metadata": {
  "kernelspec": {
   "display_name": "Python 3 (ipykernel)",
   "language": "python",
   "name": "python3"
  },
  "language_info": {
   "codemirror_mode": {
    "name": "ipython",
    "version": 3
   },
   "file_extension": ".py",
   "mimetype": "text/x-python",
   "name": "python",
   "nbconvert_exporter": "python",
   "pygments_lexer": "ipython3",
   "version": "3.10.8"
  },
  "widgets": {
   "application/vnd.jupyter.widget-state+json": {
    "state": {},
    "version_major": 2,
    "version_minor": 0
   }
  }
 },
 "nbformat": 4,
 "nbformat_minor": 5
}
