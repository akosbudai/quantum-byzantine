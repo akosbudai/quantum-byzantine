{
 "cells": [
  {
   "cell_type": "code",
   "execution_count": null,
   "id": "283b0077-bb22-4397-9785-b469950dbd02",
   "metadata": {},
   "outputs": [],
   "source": [
    "import numpy as np\n",
    "from scipy.linalg import sqrtm\n",
    "from qiskit_ibm_runtime import QiskitRuntimeService\n",
    "service = QiskitRuntimeService(channel=\"ibm_quantum\")"
   ]
  },
  {
   "cell_type": "code",
   "execution_count": null,
   "id": "197b8e94-34f6-4e9d-bddb-93b990b0de7b",
   "metadata": {
    "tags": []
   },
   "outputs": [],
   "source": [
    "# the bases we need to measure the state in, 81=3^4 in total\n",
    "# the bases go from XXXX to ZZZZ in lexicographical order\n",
    "bases = []\n",
    "for i in range(3):\n",
    "    for j in range(3):\n",
    "        for k in range(3):\n",
    "            for l in range(3):\n",
    "                bases.append([i, j, k, l])"
   ]
  },
  {
   "cell_type": "code",
   "execution_count": null,
   "id": "ffa54f8c-468e-4e26-9100-ed40cbd47c19",
   "metadata": {},
   "outputs": [],
   "source": [
    "# layouts that achieve a 9 CNOT circuit on the 7 qubit topology\n",
    "layouts_7qubit = [\n",
    "    [1,3,0,5], \n",
    "    [3,5,1,4],\n",
    "    [1,3,2,5],\n",
    "    [3,5,1,6],\n",
    "    [3,1,5,0],\n",
    "    [5,3,4,1],\n",
    "    [3,1,5,2],\n",
    "    [5,3,6,1]\n",
    "          ]"
   ]
  },
  {
   "cell_type": "code",
   "execution_count": null,
   "id": "8579d1a5-8b52-4661-8d35-e167d624c65a",
   "metadata": {
    "tags": []
   },
   "outputs": [],
   "source": [
    "# layouts that achieve a 9 CNOT circuit on the 5 qubit linear topology\n",
    "layouts_5qubit_linear = [\n",
    "    [1,2,0,3],\n",
    "    [2,1,3,0],\n",
    "    [2,3,1,4],\n",
    "    [3,2,4,1]\n",
    "]"
   ]
  },
  {
   "cell_type": "code",
   "execution_count": null,
   "id": "e36152f4-33db-499d-aefc-a29d824ce441",
   "metadata": {},
   "outputs": [],
   "source": [
    "# layouts that achieve a 9 CNOT circuit on the 5 qubit T-shape topology\n",
    "layouts_5qubit_Tshape = [\n",
    "    [1,3,0,4],\n",
    "    [3,1,4,0],\n",
    "    [1,3,2,4],\n",
    "    [3,1,4,2]\n",
    "]"
   ]
  },
  {
   "cell_type": "code",
   "execution_count": null,
   "id": "16d77d9c-303e-4e44-a333-b3c36b94ecfa",
   "metadata": {
    "tags": []
   },
   "outputs": [],
   "source": [
    "# definition of basis measurement gates and pauli basis gates, needed for density matrix reconstruction\n",
    "I = np.array([[1, 0], [0, 1]])\n",
    "H = (1/np.sqrt(2))*np.array([[1, 1], [1, -1]])\n",
    "HSi = (1/np.sqrt(2))*np.array([[1, -1j], [1, 1j]])\n",
    "X = np.array([[0, 1], [1, 0]])\n",
    "Y = np.array([[0, -1j], [1j, 0]])\n",
    "Z = np.array([[1, 0], [0, -1]])\n",
    "# ideal Cabello state\n",
    "state = (1/np.sqrt(3))*np.array([0, 0, 0, 1, 0, -0.5, -0.5, 0, 0, -0.5, -0.5, 0, 1, 0, 0, 0])\n",
    "# list basis gates for tomography measurement and pauli basis gates, \n",
    "tomo_gates = [H, HSi, I, I]\n",
    "pauli_gates = [X, Y, Z, I]"
   ]
  },
  {
   "cell_type": "code",
   "execution_count": null,
   "id": "620b0389-e786-4abb-8482-177fcea21ec4",
   "metadata": {
    "tags": []
   },
   "outputs": [],
   "source": [
    "# extra bases, the bases containing the identity operator. we don't need to measure these\n",
    "# basis states here are of the form [i, j, k, l] with i, j, k, l going from 0 to 3, \n",
    "# 0 = X, 1 = Y, 2 = Z and 3 = I\n",
    "# and at least one of i, j, k, or l is 3\n",
    "extra_bases = []\n",
    "extra_bases.append([3, 3, 3, 3])\n",
    "for i in range(3):\n",
    "    extra_bases.append([i, 3, 3, 3])\n",
    "    extra_bases.append([3, i, 3, 3])\n",
    "    extra_bases.append([3, 3, i, 3])\n",
    "    extra_bases.append([3, 3, 3, i])\n",
    "    for j in range(3):\n",
    "        extra_bases.append([3, 3, i, j])\n",
    "        extra_bases.append([3, i, 3, j])\n",
    "        extra_bases.append([3, i, j, 3])\n",
    "        extra_bases.append([i, 3, 3, j])\n",
    "        extra_bases.append([i, 3, j, 3])\n",
    "        extra_bases.append([i, j, 3, 3])\n",
    "        for k in range(3):\n",
    "                extra_bases.append([i, j, k, 3])\n",
    "                extra_bases.append([i, j, 3, k])\n",
    "                extra_bases.append([i, 3, j, k])\n",
    "                extra_bases.append([3, i, j, k])"
   ]
  },
  {
   "cell_type": "code",
   "execution_count": null,
   "id": "d9599381-dd7e-4305-b9eb-7c9dc5ba08bc",
   "metadata": {
    "tags": []
   },
   "outputs": [],
   "source": [
    "def classical_fidelity(basis, num_run):\n",
    "    '''calculates the classical fidelity of the measured result\n",
    "    with respect to the ideal cabello state in the chosen basis'''\n",
    "    gates = [H, HSi, I]\n",
    "    gate = np.kron(np.kron(np.kron(gates[basis[0]], gates[basis[1]]), gates[basis[2]]), gates[basis[3]])\n",
    "    final_state = gate.dot(state)\n",
    "    perf_probs = {f'{k:04b}': abs(final_state[k])**2 for k in range(16)}\n",
    "    meas_probs = {f'{bitstring:04b}'[::-1]: prob for (bitstring, prob) in res.quasi_dists[num_run].items()}\n",
    "    fidelity = 0\n",
    "    for bitstring in perf_probs:\n",
    "        fidelity += np.sqrt(perf_probs[bitstring]*meas_probs.get(bitstring, 0))\n",
    "    return fidelity**2"
   ]
  },
  {
   "cell_type": "code",
   "execution_count": null,
   "id": "f6a6df71-3fbd-4050-8365-3a8a7ed65a2f",
   "metadata": {
    "tags": []
   },
   "outputs": [],
   "source": [
    "def mitigate(probs, p01s, p10s):\n",
    "    '''create readout error mitigated probability distribution\n",
    "    from raw measurement probability distribution and tensor product readout error parameters\n",
    "    parameters:\n",
    "    ----------\n",
    "    probs: unmitigated probability distribution\n",
    "    p01s: p(0->1) readout errors in order for the relevant qubits\n",
    "    p10s: p(1->0) readout errors in order for the relevant qubits\n",
    "    \n",
    "    output:\n",
    "    error mitigated probability distribution.\n",
    "    '''\n",
    "    ps = list(probs.values())\n",
    "    As = []\n",
    "    for p01, p10 in zip(p01s, p10s):\n",
    "        As.append([[1-p01, p10], [p01, 1-p10]])\n",
    "    T = np.kron(As[0], As[1])\n",
    "    for A in As[2:]:\n",
    "        T = np.kron(T, A)\n",
    "    mitig_probs = np.linalg.inv(T).dot(ps)\n",
    "    return {key: mitig_probs[i] for i, key in enumerate(probs.keys())}"
   ]
  },
  {
   "cell_type": "code",
   "execution_count": null,
   "id": "89c9b611-c8eb-465a-a1d2-65850dd07772",
   "metadata": {
    "tags": []
   },
   "outputs": [],
   "source": [
    "def classical_fidelity_mitig(basis, num_run):\n",
    "    '''calculates the classical fidelity of the error mitigated result\n",
    "    with respect to the ideal cabello state in the chosen basis'''\n",
    "    gates = [H, HSi, I]\n",
    "    gate = np.kron(np.kron(np.kron(gates[basis[0]], gates[basis[1]]), gates[basis[2]]), gates[basis[3]])\n",
    "    final_state = gate.dot(state)\n",
    "    perf_probs = {f'{k:04b}': abs(final_state[k])**2 for k in range(16)}\n",
    "    meas_probs = {f'{bitstring:04b}'[::-1]: prob for (bitstring, prob) in res.quasi_dists[num_run].items()}\n",
    "    mitig_probs = mitigate(meas_probs, p01s, p10s)\n",
    "    fidelity = 0\n",
    "    for bitstring in perf_probs:\n",
    "        fidelity += np.sqrt(perf_probs[bitstring]*mitig_probs.get(bitstring, 0))\n",
    "    return fidelity**2"
   ]
  },
  {
   "cell_type": "code",
   "execution_count": null,
   "id": "95e80f90-619d-4dc9-9b37-3ffe275201e7",
   "metadata": {
    "tags": []
   },
   "outputs": [],
   "source": [
    "# calculates the p(1->0) readout error from the error circuit measurements for the chosen qubit\n",
    "def calc_p10(prob_dist, qubit):\n",
    "    p = 0\n",
    "    for (bs, prob) in prob_dist.items():\n",
    "        if f'{bs:07b}'[::-1][qubit] == '0':\n",
    "            p += prob\n",
    "    return p"
   ]
  },
  {
   "cell_type": "code",
   "execution_count": null,
   "id": "61d305af-de6b-462e-a645-32bfff58c2fa",
   "metadata": {
    "tags": []
   },
   "outputs": [],
   "source": [
    "# calculates the p(0->1) readout error from the error circuit measurements for the chosen qubit\n",
    "def calc_p01(prob_dists, qubit):\n",
    "    p = 0\n",
    "    for prob_dist in prob_dists:\n",
    "        for (bs, prob) in prob_dist.items():\n",
    "            if f'{bs:07b}'[::-1][qubit] == '1':\n",
    "                p += prob\n",
    "    return p / len(prob_dists)"
   ]
  },
  {
   "cell_type": "code",
   "execution_count": null,
   "id": "5157a4dd-502c-4bee-8f4a-33cd37796079",
   "metadata": {},
   "outputs": [],
   "source": [
    "def density_matrix(res):\n",
    "    '''\n",
    "    Reconstructing the density matrix from the measurement results.\n",
    "    The equation used (\\sigma are the four Pauli matrices): \n",
    "    \\rho = (1/16)*sum_{ijkl=0}^{3} {\\sigma_i \\sigma_j \\sigma_k \\sigma_l \\Tr{\\sigma_i \\sigma_j \\sigma_k \\sigma_l \\rho}},\n",
    "    where \\Tr{\\sigma_i \\sigma_j \\sigma_k \\sigma_l \\rho} is estimated from the measurement results.\n",
    "    parameters:\n",
    "    ----------\n",
    "    res: the qiskit SamplerResult object\n",
    "    \n",
    "    output: \n",
    "    the reconstructed density matrix.\n",
    "    '''\n",
    "    rho = np.zeros((16, 16), dtype='complex128')\n",
    "    for (basis, num_run) in zip(bases, range(len(bases))):\n",
    "        meas_probs = {f'{bitstring:04b}'[::-1]: prob for (bitstring, prob) in res.quasi_dists[num_run].items()}\n",
    "        pauli_matrix = np.kron(np.kron(np.kron(pauli_gates[basis[0]], pauli_gates[basis[1]]),\n",
    "                                       pauli_gates[basis[2]]), pauli_gates[basis[3]])\n",
    "        trace_rho = sum((-1)**(state.count('1') % 2)*meas_probs[state] for state in meas_probs)\n",
    "        rho += trace_rho * pauli_matrix\n",
    "    for basis in extra_bases:\n",
    "        og_basis = [b if b!=3 else 2 for b in basis]\n",
    "        no = og_basis[0]*27+og_basis[1]*9+og_basis[2]*3+og_basis[3]\n",
    "        meas_probs = {f'{bitstring:04b}'[::-1]: prob for (bitstring, prob) in res.quasi_dists[no].items()}\n",
    "        pauli_matrix = np.kron(np.kron(np.kron(pauli_gates[basis[0]], pauli_gates[basis[1]]),\n",
    "                                       pauli_gates[basis[2]]), pauli_gates[basis[3]])\n",
    "        trace_rho = 0\n",
    "        for curr_state in meas_probs:\n",
    "            new_state = curr_state\n",
    "            for i in range(len(basis)):\n",
    "                if basis[i] == 3:\n",
    "                    new_state = new_state[:i] + '0' + new_state[i+1:]\n",
    "            trace_rho += (-1)**(new_state.count('1') % 2)*meas_probs[curr_state]\n",
    "        rho += trace_rho * pauli_matrix\n",
    "    return (1/16)*rho"
   ]
  },
  {
   "cell_type": "code",
   "execution_count": null,
   "id": "fea9b86c-2679-4793-9023-ed3a5f114f44",
   "metadata": {
    "tags": []
   },
   "outputs": [],
   "source": [
    "def density_matrix_mitig(res, p01s, p10s):\n",
    "    '''\n",
    "    Reconstructing the density matrix from the measurement results.\n",
    "    The equation used (\\sigma are the four Pauli matrices): \n",
    "    \\rho = (1/16)*sum_{ijkl=0}^{3} {\\sigma_i \\sigma_j \\sigma_k \\sigma_l \\Tr{\\sigma_i \\sigma_j \\sigma_k \\sigma_l \\rho}},\n",
    "    where \\Tr{\\sigma_i \\sigma_j \\sigma_k \\sigma_l \\rho} is estimated from the measurement results\n",
    "    and mitigated using simple inversion assuming a tensor product matrix readout error noise model.\n",
    "    parameters:\n",
    "    ----------\n",
    "    res: the qiskit SamplerResult object\n",
    "    p01s: p(0->1) readout errors in order for the relevant qubits\n",
    "    p10s: p(1->0) readout errors in order for the relevant qubits\n",
    "    \n",
    "    output:\n",
    "    the reconstructed density matrix.\n",
    "    '''\n",
    "    rho = np.zeros((16, 16), dtype='complex128')\n",
    "    for (basis, num_run) in zip(bases, range(len(bases))):\n",
    "        meas_probs = {f'{bitstring:04b}'[::-1]: prob for (bitstring, prob) in res.quasi_dists[num_run].items()}\n",
    "        mitig_probs = mitigate(meas_probs, p01s, p10s)\n",
    "        pauli_matrix = np.kron(np.kron(np.kron(pauli_gates[basis[0]], pauli_gates[basis[1]]),\n",
    "                                       pauli_gates[basis[2]]), pauli_gates[basis[3]])\n",
    "        trace_rho = sum((-1)**(state.count('1') % 2)*mitig_probs[state] for state in mitig_probs)\n",
    "        rho += trace_rho * pauli_matrix\n",
    "    for basis in extra_bases:\n",
    "        og_basis = [b if b!=3 else 2 for b in basis]\n",
    "        no = og_basis[0]*27+og_basis[1]*9+og_basis[2]*3+og_basis[3]\n",
    "        meas_probs = {f'{bitstring:04b}'[::-1]: prob for (bitstring, prob) in res.quasi_dists[no].items()}\n",
    "        mitig_probs = mitigate(meas_probs, p01s, p10s)\n",
    "        pauli_matrix = np.kron(np.kron(np.kron(pauli_gates[basis[0]], pauli_gates[basis[1]]),\n",
    "                                       pauli_gates[basis[2]]), pauli_gates[basis[3]])\n",
    "        trace_rho = 0\n",
    "        for curr_state in mitig_probs:\n",
    "            new_state = curr_state\n",
    "            for i in range(len(basis)):\n",
    "                if basis[i] == 3:\n",
    "                    new_state = new_state[:i] + '0' + new_state[i+1:]\n",
    "            trace_rho += (-1)**(new_state.count('1') % 2)*mitig_probs[curr_state]\n",
    "        rho += trace_rho * pauli_matrix\n",
    "    return (1/16)*rho"
   ]
  },
  {
   "cell_type": "code",
   "execution_count": null,
   "id": "53424211-c18b-4afc-8318-c73a960fa734",
   "metadata": {
    "tags": []
   },
   "outputs": [],
   "source": [
    "def quantum_fidelity(rho1, rho2):\n",
    "    '''Function to calculate the quantum fidelity between two density matrices rho1 and rho2'''\n",
    "    return (np.trace(sqrtm(np.matmul(np.matmul(sqrtm(rho1), rho2), sqrtm(rho1)))))**2"
   ]
  },
  {
   "cell_type": "code",
   "execution_count": null,
   "id": "3dec1234-4cac-4d77-b21e-0f0769778694",
   "metadata": {
    "tags": []
   },
   "outputs": [],
   "source": [
    "def calculate_QST_quantum_fidelity(job_id, layout):\n",
    "    '''calculates raw and mitigated quantum fidelity of Cabello state tomography measurement result.\n",
    "    parameters:\n",
    "    ----------\n",
    "    job_id: id of the qiskit job to evaluate\n",
    "    layout_num: layout of the qubits used in the job\n",
    "    \n",
    "    output:\n",
    "    quantum fidelity of the unmitigated and the mitigated state tomography measurement result'''\n",
    "    job = service.job(job_id)\n",
    "    res = job.result()\n",
    "    n = job.backend().configuration().n_qubits\n",
    "    if n == 7:\n",
    "        layouts = layouts_7qubit\n",
    "    if n == 5:\n",
    "        layouts = layouts_5qubit\n",
    "    p01s = []\n",
    "    p10s = []\n",
    "    readout_meas = res.quasi_dists[81:]\n",
    "    for i, qubit in enumerate(layout):\n",
    "        p01s.append(calc_p01(readout_meas[:i]+readout_meas[i+1:], qubit))\n",
    "        p10s.append(calc_p10(readout_meas[i], qubit))\n",
    "    rho_meas = density_matrix(res) # unmitigated density matrix\n",
    "    rho_mitig = density_matrix_mitig(res, p01s, p10s) # mitigated density matrix\n",
    "    rho_ideal = np.outer(state, state)\n",
    "    return quantum_fidelity(rho_meas, rho_ideal).real, quantum_fidelity(rho_mitig, rho_ideal).real"
   ]
  }
 ],
 "metadata": {
  "kernelspec": {
   "display_name": "Python 3 (ipykernel)",
   "language": "python",
   "name": "python3"
  },
  "language_info": {
   "codemirror_mode": {
    "name": "ipython",
    "version": 3
   },
   "file_extension": ".py",
   "mimetype": "text/x-python",
   "name": "python",
   "nbconvert_exporter": "python",
   "pygments_lexer": "ipython3",
   "version": "3.10.8"
  },
  "widgets": {
   "application/vnd.jupyter.widget-state+json": {
    "state": {
     "00e02a2b413148d2ab6a00954899f33b": {
      "model_module": "@jupyter-widgets/controls",
      "model_module_version": "2.0.0",
      "model_name": "ButtonModel",
      "state": {
       "button_style": "primary",
       "description": "Clear",
       "layout": "IPY_MODEL_c808df5a922f478a9c4fe79fb4b8e2dc",
       "style": "IPY_MODEL_867c96f6753f474b83ac2c4b6f774543",
       "tooltip": null
      }
     },
     "02a9156bb38a4c96a3d502c6aa53f02f": {
      "model_module": "@jupyter-widgets/base",
      "model_module_version": "2.0.0",
      "model_name": "LayoutModel",
      "state": {
       "margin": "0px 0px 10px 0px"
      }
     },
     "074cdbe7d2d64ca49e531e7965aa9ec4": {
      "model_module": "@jupyter-widgets/base",
      "model_module_version": "2.0.0",
      "model_name": "LayoutModel",
      "state": {}
     },
     "12a254b5c56b4e1b87fa88947ab62f31": {
      "model_module": "@jupyter-widgets/controls",
      "model_module_version": "2.0.0",
      "model_name": "HTMLStyleModel",
      "state": {
       "description_width": "",
       "font_size": null,
       "text_color": null
      }
     },
     "2e0cd893a9c940eaaa9b814189615eeb": {
      "model_module": "@jupyter-widgets/controls",
      "model_module_version": "2.0.0",
      "model_name": "GridBoxModel",
      "state": {
       "children": [
        "IPY_MODEL_00e02a2b413148d2ab6a00954899f33b"
       ],
       "layout": "IPY_MODEL_e91137d8d49b40678b82b2462341ecea"
      }
     },
     "3ea86be77bdf43bfa9a6b303783c75fa": {
      "model_module": "@jupyter-widgets/controls",
      "model_module_version": "2.0.0",
      "model_name": "HTMLModel",
      "state": {
       "layout": "IPY_MODEL_02a9156bb38a4c96a3d502c6aa53f02f",
       "style": "IPY_MODEL_c0d5733399284e41aa036d68ad048775",
       "value": "<p style='font-family: IBM Plex Sans, Arial, Helvetica, sans-serif; font-size: 20px; font-weight: medium;'>Circuit Properties</p>"
      }
     },
     "496ca1d35b8f4bc3a1f4b0bf7e4d8997": {
      "model_module": "@jupyter-widgets/controls",
      "model_module_version": "2.0.0",
      "model_name": "HTMLModel",
      "state": {
       "layout": "IPY_MODEL_8f29623499b14fe9967734dfdefecc03",
       "style": "IPY_MODEL_ecc9fd46df4e4dbd9f8415ac0615bb6c",
       "value": "<h5>Backend</h5>"
      }
     },
     "581a44f815f14499bc814d64cd460828": {
      "model_module": "@jupyter-widgets/base",
      "model_module_version": "2.0.0",
      "model_name": "LayoutModel",
      "state": {
       "width": "70px"
      }
     },
     "6270161e081c46e496009a9c249ff005": {
      "model_module": "@jupyter-widgets/controls",
      "model_module_version": "2.0.0",
      "model_name": "HTMLModel",
      "state": {
       "layout": "IPY_MODEL_984e9ae2c8ac47a2804f7a194b69241a",
       "style": "IPY_MODEL_762d3c0629f943728c803dbd2151db64",
       "value": "<h5>Status</h5>"
      }
     },
     "6a487c2e3d434607841b8f1b2dbe1bce": {
      "model_module": "@jupyter-widgets/controls",
      "model_module_version": "2.0.0",
      "model_name": "HTMLModel",
      "state": {
       "layout": "IPY_MODEL_fce9db331e294d35b95e54527fd620c1",
       "style": "IPY_MODEL_8fc1bea517c449a3a943acc7a00e3daa",
       "value": "<h5>Job ID</h5>"
      }
     },
     "762d3c0629f943728c803dbd2151db64": {
      "model_module": "@jupyter-widgets/controls",
      "model_module_version": "2.0.0",
      "model_name": "HTMLStyleModel",
      "state": {
       "description_width": "",
       "font_size": null,
       "text_color": null
      }
     },
     "867c96f6753f474b83ac2c4b6f774543": {
      "model_module": "@jupyter-widgets/controls",
      "model_module_version": "2.0.0",
      "model_name": "ButtonStyleModel",
      "state": {
       "font_family": null,
       "font_size": null,
       "font_style": null,
       "font_variant": null,
       "font_weight": null,
       "text_color": null,
       "text_decoration": null
      }
     },
     "8f29623499b14fe9967734dfdefecc03": {
      "model_module": "@jupyter-widgets/base",
      "model_module_version": "2.0.0",
      "model_name": "LayoutModel",
      "state": {
       "width": "145px"
      }
     },
     "8fc1bea517c449a3a943acc7a00e3daa": {
      "model_module": "@jupyter-widgets/controls",
      "model_module_version": "2.0.0",
      "model_name": "HTMLStyleModel",
      "state": {
       "description_width": "",
       "font_size": null,
       "text_color": null
      }
     },
     "984e9ae2c8ac47a2804f7a194b69241a": {
      "model_module": "@jupyter-widgets/base",
      "model_module_version": "2.0.0",
      "model_name": "LayoutModel",
      "state": {
       "width": "95px"
      }
     },
     "a5474e181e3444f0bf8b13a9c6cec761": {
      "model_module": "@jupyter-widgets/controls",
      "model_module_version": "2.0.0",
      "model_name": "HTMLStyleModel",
      "state": {
       "description_width": "",
       "font_size": null,
       "text_color": null
      }
     },
     "abb2e68a053d4896be5ff5f4cf72113b": {
      "model_module": "@jupyter-widgets/controls",
      "model_module_version": "2.0.0",
      "model_name": "HTMLModel",
      "state": {
       "layout": "IPY_MODEL_581a44f815f14499bc814d64cd460828",
       "style": "IPY_MODEL_12a254b5c56b4e1b87fa88947ab62f31",
       "value": "<h5>Queue</h5>"
      }
     },
     "c0d5733399284e41aa036d68ad048775": {
      "model_module": "@jupyter-widgets/controls",
      "model_module_version": "2.0.0",
      "model_name": "HTMLStyleModel",
      "state": {
       "description_width": "",
       "font_size": null,
       "text_color": null
      }
     },
     "c808df5a922f478a9c4fe79fb4b8e2dc": {
      "model_module": "@jupyter-widgets/base",
      "model_module_version": "2.0.0",
      "model_name": "LayoutModel",
      "state": {
       "grid_area": "right",
       "padding": "0px 0px 0px 0px",
       "width": "70px"
      }
     },
     "ce6c0ba64c5942e58ea0c2b0b432cd6d": {
      "model_module": "@jupyter-widgets/base",
      "model_module_version": "2.0.0",
      "model_name": "LayoutModel",
      "state": {
       "margin": "0px 0px 0px 37px",
       "width": "600px"
      }
     },
     "d2df22c3a3ca4ecd94c8708b8843a103": {
      "model_module": "@jupyter-widgets/controls",
      "model_module_version": "2.0.0",
      "model_name": "HBoxModel",
      "state": {
       "children": [
        "IPY_MODEL_6a487c2e3d434607841b8f1b2dbe1bce",
        "IPY_MODEL_496ca1d35b8f4bc3a1f4b0bf7e4d8997",
        "IPY_MODEL_6270161e081c46e496009a9c249ff005",
        "IPY_MODEL_abb2e68a053d4896be5ff5f4cf72113b",
        "IPY_MODEL_f0af17d435694a6c8f4c5ad1baa60657"
       ],
       "layout": "IPY_MODEL_ce6c0ba64c5942e58ea0c2b0b432cd6d"
      }
     },
     "e91137d8d49b40678b82b2462341ecea": {
      "model_module": "@jupyter-widgets/base",
      "model_module_version": "2.0.0",
      "model_name": "LayoutModel",
      "state": {
       "grid_template_areas": "\n                                       \". . . . right \"\n                                        ",
       "grid_template_columns": "20% 20% 20% 20% 20%",
       "width": "100%"
      }
     },
     "ecc9fd46df4e4dbd9f8415ac0615bb6c": {
      "model_module": "@jupyter-widgets/controls",
      "model_module_version": "2.0.0",
      "model_name": "HTMLStyleModel",
      "state": {
       "description_width": "",
       "font_size": null,
       "text_color": null
      }
     },
     "f0af17d435694a6c8f4c5ad1baa60657": {
      "model_module": "@jupyter-widgets/controls",
      "model_module_version": "2.0.0",
      "model_name": "HTMLModel",
      "state": {
       "layout": "IPY_MODEL_074cdbe7d2d64ca49e531e7965aa9ec4",
       "style": "IPY_MODEL_a5474e181e3444f0bf8b13a9c6cec761",
       "value": "<h5>Message</h5>"
      }
     },
     "fce9db331e294d35b95e54527fd620c1": {
      "model_module": "@jupyter-widgets/base",
      "model_module_version": "2.0.0",
      "model_name": "LayoutModel",
      "state": {
       "width": "190px"
      }
     }
    },
    "version_major": 2,
    "version_minor": 0
   }
  }
 },
 "nbformat": 4,
 "nbformat_minor": 5
}
