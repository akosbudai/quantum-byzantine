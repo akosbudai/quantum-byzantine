{
 "cells": [
  {
   "cell_type": "code",
   "execution_count": 66,
   "id": "fc5540dc-7a30-4d3d-a108-7cef07dae7a5",
   "metadata": {
    "tags": []
   },
   "outputs": [],
   "source": [
    "# Importing standard Qiskit libraries\n",
    "from qiskit import QuantumCircuit, transpile\n",
    "from qiskit.tools.jupyter import *\n",
    "from qiskit.visualization import *\n",
    "from ibm_quantum_widgets import *\n",
    "from qiskit_aer import AerSimulator\n",
    "\n",
    "# qiskit-ibmq-provider has been deprecated.\n",
    "# Please see the Migration Guides in https://ibm.biz/provider_migration_guide for more detail.\n",
    "from qiskit_ibm_runtime import QiskitRuntimeService, Sampler, Estimator, Session, Options\n",
    "\n",
    "# Loading your IBM Quantum account(s)\n",
    "service = QiskitRuntimeService(channel=\"ibm_quantum\")\n",
    "\n",
    "# Invoke a primitive inside a session. For more details see https://qiskit.org/documentation/partners/qiskit_ibm_runtime/tutorials.html\n",
    "# with Session(backend=service.backend(\"ibmq_qasm_simulator\")):\n",
    "#     result = Sampler().run(circuits).result()"
   ]
  },
  {
   "cell_type": "code",
   "execution_count": 67,
   "id": "afef8a51-6417-4ca5-b710-84cfd29cca4c",
   "metadata": {
    "tags": []
   },
   "outputs": [],
   "source": [
    "backend = service.get_backend('ibm_nairobi')"
   ]
  },
  {
   "cell_type": "code",
   "execution_count": 68,
   "id": "bab7418f-8cc6-4d4e-871d-82ade2b857e4",
   "metadata": {
    "tags": []
   },
   "outputs": [],
   "source": [
    "sampler = Sampler(backend)"
   ]
  },
  {
   "cell_type": "code",
   "execution_count": 69,
   "id": "ca01052f-6928-453f-9136-4c58fda2b08d",
   "metadata": {
    "tags": []
   },
   "outputs": [],
   "source": [
    "def create_tomo_circuit(basis, initial_layout, backend):\n",
    "    '''\n",
    "    create the quantum circuit of the cabello state and measure in the chosen basis\n",
    "    the basis is a 4-element vector containing 0s, 1s and 2s \n",
    "    from [0, 0, 0, 0] meaning XXXX to [2, 2, 2, 2] meaning ZZZZ\n",
    "    '''\n",
    "    # the cabello circuit creating the state 2|1100>+2|0011>-|1010>-|0101>-|1001>-|0110>\n",
    "    istvan_circ = QuantumCircuit(4, 4)\n",
    "    istvan_circ.h(0)\n",
    "    istvan_circ.h(1)\n",
    "    istvan_circ.h(2)\n",
    "    istvan_circ.rz(-0.73304, 0)\n",
    "    istvan_circ.rz(2.67908, 2)\n",
    "    istvan_circ.cnot(2, 0)\n",
    "    istvan_circ.ry(-2.67908, 0)\n",
    "    istvan_circ.h(2)\n",
    "    istvan_circ.cnot(1, 0)\n",
    "    istvan_circ.cnot(2, 3)\n",
    "    istvan_circ.rz(1.5708, 2)\n",
    "    istvan_circ.cnot(1, 3)\n",
    "    istvan_circ.cnot(0, 2)\n",
    "    # measurement. result '0' in the X basis means state |+>, in the Y basis |+i> and in the Z basis |0>\n",
    "    for i in range(4):\n",
    "        if basis[i] == 0:\n",
    "            istvan_circ.h(i)\n",
    "        elif basis[i] == 1:\n",
    "            istvan_circ.sdg(i)\n",
    "            istvan_circ.h(i)\n",
    "    return transpile(istvan_circ, backend=backend, initial_layout=initial_layout)"
   ]
  },
  {
   "cell_type": "code",
   "execution_count": 70,
   "id": "76fa93d6-2350-4b7b-8321-a7dc894326a8",
   "metadata": {
    "tags": []
   },
   "outputs": [],
   "source": [
    "# the bases we need to measure the state in, 81=3^4 in total\n",
    "# the bases go from XXXX to ZZZZ in lexicographical order, just like the results in counts.txt\n",
    "bases = []\n",
    "for i in range(3):\n",
    "    for j in range(3):\n",
    "        for k in range(3):\n",
    "            for l in range(3):\n",
    "                bases.append([i, j, k, l])"
   ]
  },
  {
   "cell_type": "code",
   "execution_count": 71,
   "id": "71497491-3410-4df5-a44f-f9aad34185ff",
   "metadata": {
    "tags": []
   },
   "outputs": [],
   "source": [
    "layouts = []\n",
    "for i in range(7):\n",
    "    for j in range(7):\n",
    "        for k in range(7):\n",
    "            for l in range(7):\n",
    "                if i != j and i != k and i != l and j != k and j != l and k != l:\n",
    "                    layouts.append([i,j,k,l])"
   ]
  },
  {
   "cell_type": "code",
   "execution_count": 72,
   "id": "a6b00cfa-f16b-4612-871d-86c5445d771c",
   "metadata": {
    "tags": []
   },
   "outputs": [],
   "source": [
    "def error_circuits(layout):\n",
    "    circs = []\n",
    "    n = 7 # number of qubits of the device\n",
    "    for qubit in layout:\n",
    "        circs.append(QuantumCircuit(n, n))\n",
    "        circs[-1].x(qubit)\n",
    "        circs[-1].measure(range(n), range(n))\n",
    "    return circs"
   ]
  },
  {
   "cell_type": "code",
   "execution_count": 73,
   "id": "e176b359-263c-446f-bb01-a5d5b1434214",
   "metadata": {
    "tags": []
   },
   "outputs": [],
   "source": [
    "all_res = []\n",
    "for ind, layout in enumerate(layouts):\n",
    "    # cycles over all possible qubit layouts and runs the circuit if it needs less than or equal to 11 CNOTs\n",
    "    if not create_tomo_circuit([3,3,3,3], layout, backend).count_ops().get('cx', 0)>11:\n",
    "        circs = []\n",
    "        for basis in bases:\n",
    "            circs.append(create_tomo_circuit(basis, layout, backend))\n",
    "        #circs.extend(error_circuits(layout))\n",
    "        res = sampler.run(circs, resilience_level=0, optimization_level=0)\n",
    "        all_res.append(res)"
   ]
  },
  {
   "cell_type": "code",
   "execution_count": 75,
   "id": "ab779042-7b14-4482-9703-1eac9eee30a0",
   "metadata": {
    "tags": []
   },
   "outputs": [
    {
     "data": {
      "text/plain": [
       "64"
      ]
     },
     "execution_count": 75,
     "metadata": {},
     "output_type": "execute_result"
    }
   ],
   "source": [
    "len(all_res)"
   ]
  },
  {
   "cell_type": "code",
   "execution_count": 63,
   "id": "cfdfd553-8d56-4310-8f5e-d84bfd578de6",
   "metadata": {
    "tags": []
   },
   "outputs": [
    {
     "data": {
      "text/plain": [
       "<qiskit.circuit.instructionset.InstructionSet at 0x7fe36ce70790>"
      ]
     },
     "execution_count": 63,
     "metadata": {},
     "output_type": "execute_result"
    }
   ],
   "source": [
    "circ = QuantumCircuit(1, 1)\n",
    "circ.x(0)\n",
    "circ.measure(0, 0)"
   ]
  },
  {
   "cell_type": "code",
   "execution_count": 65,
   "id": "df0fe93e-5932-4a80-9ac6-00c135a2054e",
   "metadata": {
    "tags": []
   },
   "outputs": [
    {
     "name": "stdout",
     "output_type": "stream",
     "text": [
      "Traceback \u001b[1;36m(most recent call last)\u001b[0m:\n",
      "\u001b[0m  Cell \u001b[0;32mIn[65], line 1\u001b[0m\n",
      "    res2 = sampler.run(circ).result()\u001b[0m\n",
      "\u001b[1;36m  File \u001b[1;32m/opt/conda/lib/python3.10/site-packages/qiskit_ibm_runtime/runtime_job.py:226\u001b[1;36m in \u001b[1;35mresult\u001b[1;36m\n",
      "\u001b[1;33m    raise RuntimeJobFailureError(\u001b[1;36m\n",
      "\u001b[1;31mRuntimeJobFailureError\u001b[0m\u001b[1;31m:\u001b[0m 'Unable to retrieve job result. Job chufp6ai3durlgrlo5v0 has failed:\\n2023-06-04T21:04:29.196985424Z Setting up watches.\\n2023-06-04T21:04:29.196985424Z Watches established.\\n2023-06-04T21:04:30.789593523Z INFO:     Started server process [7]\\n2023-06-04T21:04:30.789734812Z INFO:     Waiting for application startup.\\n2023-06-04T21:04:30.790017779Z INFO:     Application startup complete.\\n2023-06-04T21:04:30.791453165Z INFO:     Uvicorn running on http://127.0.0.1:8081 (Press CTRL+C to quit)\\n2023-06-04T21:05:31.190709402Z INFO:     127.0.0.1:39470 - \"POST /run HTTP/1.1\" 202 Accepted\\n2023-06-04T21:05:33.406519267Z programruntime.runtime_backend - ERROR Job compilation status is error for job sampler_chufp6nnhfna4d6c2os0_3edd_0: \\n2023-06-04T21:05:33.406565136Z programruntime.runtime_backend - ERROR Failure during build: Problem uploading payload over NATS: NoRespondersError(). Error code: 9999.\\n2023-06-04T21:05:35.429572181Z programruntime.runtime_backend - ERROR Job compilation status is error for job sampler_chufp6nnhfna4d6c2os0_22dd_1: \\n2023-06-04T21:05:35.429572181Z programruntime.runtime_backend - ERROR Failure during build: Problem uploading payload over NATS: NoRespondersError(). Error code: 9999.\\n2023-06-04T21:05:35.433173045Z programruntime.program_starter_wrapper - ERROR Error executing program job chufp6nnhfna4d6c2os0\\n2023-06-04T21:05:35.457104016Z webserver-starter - ERROR Failed to execute program: Failure during build: Problem uploading payload over NATS: NoRespondersError()\\n2023-06-04T21:05:35.460303402Z /pod-data/ CLOSE_WRITE,CLOSE terminated\\n2023-06-04T21:05:35.460775069Z Termination marker file found. Kill process (7).\\n2023-06-04T21:05:35.480030321Z /bin/bash: line 3:     7 Killed                  python -m uvicorn server.main:app --port 8081\\n2023-06-04T21:05:35.480412052Z Termination signal received, exited.\\n'\n",
      "\n",
      "Use %tb to get the full traceback.\n"
     ]
    },
    {
     "data": {
      "text/html": [
       "\n",
       "<style>\n",
       ".button {\n",
       "  border: none;\n",
       "  color: white;\n",
       "  padding: 4px 8px;\n",
       "  text-align: center;\n",
       "  text-decoration: none;\n",
       "  display: inline-block;\n",
       "  font-size: 12px;\n",
       "  margin: 4px 2px;\n",
       "  transition-duration: 0.2s;\n",
       "  cursor: pointer;\n",
       "}\n",
       ".iqx-button {\n",
       "  background-color: #0f62fe; \n",
       "  color: white; \n",
       "}\n",
       ".iqx-button:hover {\n",
       "  background-color: #0043ce;\n",
       "  color: white;\n",
       "}\n",
       "</style>\n",
       "<a href=\"https://stackoverflow.com/search?q=RuntimeJobFailureError: Unable to retrieve job result. Job chufp6ai3durlgrlo5v0 has failed:\n",
       "2023-06-04T21:04:29.196985424Z Setting up watches.\n",
       "2023-06-04T21:04:29.196985424Z Watches established.\n",
       "2023-06-04T21:04:30.789593523Z INFO:     Started server process [7]\n",
       "2023-06-04T21:04:30.789734812Z INFO:     Waiting for application startup.\n",
       "2023-06-04T21:04:30.790017779Z INFO:     Application startup complete.\n",
       "2023-06-04T21:04:30.791453165Z INFO:     Uvicorn running on http://127.0.0.1:8081 (Press CTRL+C to quit)\n",
       "2023-06-04T21:05:31.190709402Z INFO:     127.0.0.1:39470 - \"POST /run HTTP/1.1\" 202 Accepted\n",
       "2023-06-04T21:05:33.406519267Z programruntime.runtime_backend - ERROR Job compilation status is error for job sampler_chufp6nnhfna4d6c2os0_3edd_0: \n",
       "2023-06-04T21:05:33.406565136Z programruntime.runtime_backend - ERROR Failure during build: Problem uploading payload over NATS: NoRespondersError(). Error code: 9999.\n",
       "2023-06-04T21:05:35.429572181Z programruntime.runtime_backend - ERROR Job compilation status is error for job sampler_chufp6nnhfna4d6c2os0_22dd_1: \n",
       "2023-06-04T21:05:35.429572181Z programruntime.runtime_backend - ERROR Failure during build: Problem uploading payload over NATS: NoRespondersError(). Error code: 9999.\n",
       "2023-06-04T21:05:35.433173045Z programruntime.program_starter_wrapper - ERROR Error executing program job chufp6nnhfna4d6c2os0\n",
       "2023-06-04T21:05:35.457104016Z webserver-starter - ERROR Failed to execute program: Failure during build: Problem uploading payload over NATS: NoRespondersError()\n",
       "2023-06-04T21:05:35.460303402Z /pod-data/ CLOSE_WRITE,CLOSE terminated\n",
       "2023-06-04T21:05:35.460775069Z Termination marker file found. Kill process (7).\n",
       "2023-06-04T21:05:35.480030321Z /bin/bash: line 3:     7 Killed                  python -m uvicorn server.main:app --port 8081\n",
       "2023-06-04T21:05:35.480412052Z Termination signal received, exited.\n",
       "\" target='_blank'><button class='button iqx-button'>Search for solution online</button></a>\n"
      ],
      "text/plain": [
       "<IPython.core.display.HTML object>"
      ]
     },
     "metadata": {},
     "output_type": "display_data"
    }
   ],
   "source": [
    "res2 = sampler.run(circ).result()"
   ]
  },
  {
   "cell_type": "code",
   "execution_count": null,
   "id": "10d54547-4260-4c41-8bb3-54f73f7a094f",
   "metadata": {},
   "outputs": [],
   "source": []
  }
 ],
 "metadata": {
  "kernelspec": {
   "display_name": "Python 3 (ipykernel)",
   "language": "python",
   "name": "python3"
  },
  "language_info": {
   "codemirror_mode": {
    "name": "ipython",
    "version": 3
   },
   "file_extension": ".py",
   "mimetype": "text/x-python",
   "name": "python",
   "nbconvert_exporter": "python",
   "pygments_lexer": "ipython3",
   "version": "3.10.8"
  },
  "widgets": {
   "application/vnd.jupyter.widget-state+json": {
    "state": {
     "00bc4c1add2340eebb78eb58bea41257": {
      "model_module": "@jupyter-widgets/controls",
      "model_module_version": "2.0.0",
      "model_name": "HTMLModel",
      "state": {
       "layout": "IPY_MODEL_9c625aec84334861ac574588a76f6da6",
       "style": "IPY_MODEL_0dd11bc0f09448a8905fd6c37e8421ff",
       "value": "<h5>Job ID</h5>"
      }
     },
     "0a84ba4f5fba4544aa63a60183ccb5c4": {
      "model_module": "@jupyter-widgets/controls",
      "model_module_version": "2.0.0",
      "model_name": "ButtonModel",
      "state": {
       "button_style": "primary",
       "description": "Clear",
       "layout": "IPY_MODEL_8bec6e155bc744bc9090d8545a245a13",
       "style": "IPY_MODEL_f59c2001266b41388f9ba504246862c1",
       "tooltip": null
      }
     },
     "0dd11bc0f09448a8905fd6c37e8421ff": {
      "model_module": "@jupyter-widgets/controls",
      "model_module_version": "2.0.0",
      "model_name": "HTMLStyleModel",
      "state": {
       "description_width": "",
       "font_size": null,
       "text_color": null
      }
     },
     "1d40d29594bb4ccfaa48a4f955dea05c": {
      "model_module": "@jupyter-widgets/controls",
      "model_module_version": "2.0.0",
      "model_name": "HTMLModel",
      "state": {
       "layout": "IPY_MODEL_f7508587fa084571a20b2aef28ab4ef4",
       "style": "IPY_MODEL_a68bf09906f94c59a276c3aa2d640a89",
       "value": "<p style='font-family: IBM Plex Sans, Arial, Helvetica, sans-serif; font-size: 20px; font-weight: medium;'>Circuit Properties</p>"
      }
     },
     "207f59aae39a4d41893d54151148604f": {
      "model_module": "@jupyter-widgets/controls",
      "model_module_version": "2.0.0",
      "model_name": "HTMLModel",
      "state": {
       "layout": "IPY_MODEL_c1a28fe4783e40b785f2f200b73c3ba7",
       "style": "IPY_MODEL_6686e5ba3f02437480bba9d2cd1854be",
       "value": "<h5>Queue</h5>"
      }
     },
     "36c806114e2f4033b6a33412562593e5": {
      "model_module": "@jupyter-widgets/base",
      "model_module_version": "2.0.0",
      "model_name": "LayoutModel",
      "state": {
       "margin": "0px 0px 0px 37px",
       "width": "600px"
      }
     },
     "5296a0a9193343cbbafc8ed0b92d910d": {
      "model_module": "@jupyter-widgets/controls",
      "model_module_version": "2.0.0",
      "model_name": "HTMLStyleModel",
      "state": {
       "description_width": "",
       "font_size": null,
       "text_color": null
      }
     },
     "5482b683fa0f431b94d8f52b29e632e3": {
      "model_module": "@jupyter-widgets/controls",
      "model_module_version": "2.0.0",
      "model_name": "HTMLModel",
      "state": {
       "layout": "IPY_MODEL_9778528c9de54e708065bca6da2f6cc0",
       "style": "IPY_MODEL_6706356b36714625a6338dba7535e702",
       "value": "<h5>Message</h5>"
      }
     },
     "65e6223043a744f88714c7697ef0e8b7": {
      "model_module": "@jupyter-widgets/base",
      "model_module_version": "2.0.0",
      "model_name": "LayoutModel",
      "state": {
       "width": "95px"
      }
     },
     "6686e5ba3f02437480bba9d2cd1854be": {
      "model_module": "@jupyter-widgets/controls",
      "model_module_version": "2.0.0",
      "model_name": "HTMLStyleModel",
      "state": {
       "description_width": "",
       "font_size": null,
       "text_color": null
      }
     },
     "6706356b36714625a6338dba7535e702": {
      "model_module": "@jupyter-widgets/controls",
      "model_module_version": "2.0.0",
      "model_name": "HTMLStyleModel",
      "state": {
       "description_width": "",
       "font_size": null,
       "text_color": null
      }
     },
     "6fc3be830c0b4b4d8ce9b55889e77de7": {
      "model_module": "@jupyter-widgets/base",
      "model_module_version": "2.0.0",
      "model_name": "LayoutModel",
      "state": {
       "width": "145px"
      }
     },
     "7551e1c64e464e3cb1f4a499cc011cd3": {
      "model_module": "@jupyter-widgets/controls",
      "model_module_version": "2.0.0",
      "model_name": "HTMLModel",
      "state": {
       "layout": "IPY_MODEL_6fc3be830c0b4b4d8ce9b55889e77de7",
       "style": "IPY_MODEL_5296a0a9193343cbbafc8ed0b92d910d",
       "value": "<h5>Backend</h5>"
      }
     },
     "8bec6e155bc744bc9090d8545a245a13": {
      "model_module": "@jupyter-widgets/base",
      "model_module_version": "2.0.0",
      "model_name": "LayoutModel",
      "state": {
       "grid_area": "right",
       "padding": "0px 0px 0px 0px",
       "width": "70px"
      }
     },
     "9778528c9de54e708065bca6da2f6cc0": {
      "model_module": "@jupyter-widgets/base",
      "model_module_version": "2.0.0",
      "model_name": "LayoutModel",
      "state": {}
     },
     "9c625aec84334861ac574588a76f6da6": {
      "model_module": "@jupyter-widgets/base",
      "model_module_version": "2.0.0",
      "model_name": "LayoutModel",
      "state": {
       "width": "190px"
      }
     },
     "a68bf09906f94c59a276c3aa2d640a89": {
      "model_module": "@jupyter-widgets/controls",
      "model_module_version": "2.0.0",
      "model_name": "HTMLStyleModel",
      "state": {
       "description_width": "",
       "font_size": null,
       "text_color": null
      }
     },
     "b8018e49d6be4c7c9917c0d94a86e70a": {
      "model_module": "@jupyter-widgets/controls",
      "model_module_version": "2.0.0",
      "model_name": "HTMLStyleModel",
      "state": {
       "description_width": "",
       "font_size": null,
       "text_color": null
      }
     },
     "c1a28fe4783e40b785f2f200b73c3ba7": {
      "model_module": "@jupyter-widgets/base",
      "model_module_version": "2.0.0",
      "model_name": "LayoutModel",
      "state": {
       "width": "70px"
      }
     },
     "c4b4d76d86154e239f58292750ce9daa": {
      "model_module": "@jupyter-widgets/controls",
      "model_module_version": "2.0.0",
      "model_name": "GridBoxModel",
      "state": {
       "children": [
        "IPY_MODEL_0a84ba4f5fba4544aa63a60183ccb5c4"
       ],
       "layout": "IPY_MODEL_fcc584c818c74c8fa6535869b0bd238f"
      }
     },
     "db71bf86d5ce435fa262e727e3c259b3": {
      "model_module": "@jupyter-widgets/controls",
      "model_module_version": "2.0.0",
      "model_name": "HTMLModel",
      "state": {
       "layout": "IPY_MODEL_65e6223043a744f88714c7697ef0e8b7",
       "style": "IPY_MODEL_b8018e49d6be4c7c9917c0d94a86e70a",
       "value": "<h5>Status</h5>"
      }
     },
     "f59c2001266b41388f9ba504246862c1": {
      "model_module": "@jupyter-widgets/controls",
      "model_module_version": "2.0.0",
      "model_name": "ButtonStyleModel",
      "state": {
       "font_family": null,
       "font_size": null,
       "font_style": null,
       "font_variant": null,
       "font_weight": null,
       "text_color": null,
       "text_decoration": null
      }
     },
     "f7508587fa084571a20b2aef28ab4ef4": {
      "model_module": "@jupyter-widgets/base",
      "model_module_version": "2.0.0",
      "model_name": "LayoutModel",
      "state": {
       "margin": "0px 0px 10px 0px"
      }
     },
     "f96f428632bf40cea959fe8e287767d0": {
      "model_module": "@jupyter-widgets/controls",
      "model_module_version": "2.0.0",
      "model_name": "HBoxModel",
      "state": {
       "children": [
        "IPY_MODEL_00bc4c1add2340eebb78eb58bea41257",
        "IPY_MODEL_7551e1c64e464e3cb1f4a499cc011cd3",
        "IPY_MODEL_db71bf86d5ce435fa262e727e3c259b3",
        "IPY_MODEL_207f59aae39a4d41893d54151148604f",
        "IPY_MODEL_5482b683fa0f431b94d8f52b29e632e3"
       ],
       "layout": "IPY_MODEL_36c806114e2f4033b6a33412562593e5"
      }
     },
     "fcc584c818c74c8fa6535869b0bd238f": {
      "model_module": "@jupyter-widgets/base",
      "model_module_version": "2.0.0",
      "model_name": "LayoutModel",
      "state": {
       "grid_template_areas": "\n                                       \". . . . right \"\n                                        ",
       "grid_template_columns": "20% 20% 20% 20% 20%",
       "width": "100%"
      }
     }
    },
    "version_major": 2,
    "version_minor": 0
   }
  }
 },
 "nbformat": 4,
 "nbformat_minor": 5
}
