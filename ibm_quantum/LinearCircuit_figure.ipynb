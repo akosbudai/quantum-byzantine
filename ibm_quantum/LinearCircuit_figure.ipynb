{
 "cells": [
  {
   "cell_type": "code",
   "execution_count": 1,
   "id": "9d162563-2a93-4473-a2b9-88a553d0364b",
   "metadata": {
    "tags": []
   },
   "outputs": [],
   "source": [
    "# Importing standard Qiskit libraries\n",
    "from qiskit import QuantumCircuit, transpile\n",
    "from qiskit.tools.jupyter import *\n",
    "from qiskit.visualization import *\n",
    "from ibm_quantum_widgets import *\n",
    "import numpy as np\n",
    "\n",
    "# qiskit-ibmq-provider has been deprecated.\n",
    "# Please see the Migration Guides in https://ibm.biz/provider_migration_guide for more detail.\n",
    "from qiskit_ibm_runtime import QiskitRuntimeService, Sampler, Estimator, Session, Options\n",
    "\n",
    "# Loading your IBM Quantum account(s)\n",
    "service = QiskitRuntimeService(channel=\"ibm_quantum\")\n",
    "\n",
    "# Invoke a primitive. For more details see https://qiskit.org/documentation/partners/qiskit_ibm_runtime/tutorials.html\n",
    "# result = Sampler(\"ibmq_qasm_simulator\").run(circuits).result()"
   ]
  },
  {
   "cell_type": "code",
   "execution_count": 2,
   "id": "ad170435-645c-4dfa-b510-9536f00acc2b",
   "metadata": {
    "tags": []
   },
   "outputs": [
    {
     "data": {
      "text/plain": [
       "<qiskit.circuit.instructionset.InstructionSet at 0x7f84ca056620>"
      ]
     },
     "execution_count": 2,
     "metadata": {},
     "output_type": "execute_result"
    }
   ],
   "source": [
    "linear_circ = QuantumCircuit(4)\n",
    "linear_circ.rz(np.pi/2, [0, 1, 2])\n",
    "linear_circ.sx([0, 1, 2])\n",
    "linear_circ.rz(0.838, 0)\n",
    "linear_circ.rz(np.pi/2, 1)\n",
    "linear_circ.rz(-0.463, 2)\n",
    "linear_circ.cnot(2, 0)\n",
    "linear_circ.sx([0, 2])\n",
    "linear_circ.rz(0.463, 0)\n",
    "linear_circ.rz(np.pi/2, 2)\n",
    "linear_circ.sx(0)\n",
    "linear_circ.rz(-np.pi, 0)\n",
    "linear_circ.cnot(1, 0)\n",
    "linear_circ.cnot(2, 0)\n",
    "linear_circ.cnot(3, 1)\n",
    "linear_circ.cnot(0, 2)\n",
    "linear_circ.cnot(1, 3)\n",
    "linear_circ.cnot(2, 0)\n",
    "linear_circ.cnot(0, 1)\n",
    "linear_circ.rz(1.5708, 0)\n",
    "linear_circ.cnot(2, 0)"
   ]
  },
  {
   "cell_type": "code",
   "execution_count": 3,
   "id": "6a55ccd1-ba1c-4f99-8164-c70eb91d0806",
   "metadata": {
    "tags": []
   },
   "outputs": [
    {
     "data": {
      "image/png": "[encoded data removed]",
      "text/plain": [
       "<Figure size 1541.66x367.889 with 1 Axes>"
      ]
     },
     "execution_count": 3,
     "metadata": {},
     "output_type": "execute_result"
    }
   ],
   "source": [
    "linear_circ.draw(filename='linear_circuit.png')"
   ]
  }
 ],
 "metadata": {
  "kernelspec": {
   "display_name": "Python 3 (ipykernel)",
   "language": "python",
   "name": "python3"
  },
  "language_info": {
   "codemirror_mode": {
    "name": "ipython",
    "version": 3
   },
   "file_extension": ".py",
   "mimetype": "text/x-python",
   "name": "python",
   "nbconvert_exporter": "python",
   "pygments_lexer": "ipython3",
   "version": "3.10.8"
  },
  "widgets": {
   "application/vnd.jupyter.widget-state+json": {
    "state": {
     "0b0dacfd91864f8b89b5fefaf30cded1": {
      "model_module": "@jupyter-widgets/controls",
      "model_module_version": "2.0.0",
      "model_name": "HTMLStyleModel",
      "state": {
       "description_width": "",
       "font_size": null,
       "text_color": null
      }
     },
     "12ca85d1fe5d49a29b3e77446333f51a": {
      "model_module": "@jupyter-widgets/controls",
      "model_module_version": "2.0.0",
      "model_name": "HTMLStyleModel",
      "state": {
       "description_width": "",
       "font_size": null,
       "text_color": null
      }
     },
     "3335501816a448ec9e19b3b318d34efc": {
      "model_module": "@jupyter-widgets/controls",
      "model_module_version": "2.0.0",
      "model_name": "HTMLStyleModel",
      "state": {
       "description_width": "",
       "font_size": null,
       "text_color": null
      }
     },
     "4819b2d5f5184572b413dc43165d7cc6": {
      "model_module": "@jupyter-widgets/base",
      "model_module_version": "2.0.0",
      "model_name": "LayoutModel",
      "state": {
       "margin": "0px 0px 10px 0px"
      }
     },
     "513e1bb3b76b4a2d90fc13e3bf359fc2": {
      "model_module": "@jupyter-widgets/controls",
      "model_module_version": "2.0.0",
      "model_name": "HTMLStyleModel",
      "state": {
       "description_width": "",
       "font_size": null,
       "text_color": null
      }
     },
     "5467a26b9b984f5986142a36e2a924cb": {
      "model_module": "@jupyter-widgets/base",
      "model_module_version": "2.0.0",
      "model_name": "LayoutModel",
      "state": {
       "margin": "0px 0px 0px 37px",
       "width": "600px"
      }
     },
     "55a4d606509f440dbea08a784d6a693a": {
      "model_module": "@jupyter-widgets/controls",
      "model_module_version": "2.0.0",
      "model_name": "HTMLStyleModel",
      "state": {
       "description_width": "",
       "font_size": null,
       "text_color": null
      }
     },
     "5961e0939a624dd9b9c32c5ba2c95f84": {
      "model_module": "@jupyter-widgets/controls",
      "model_module_version": "2.0.0",
      "model_name": "HTMLModel",
      "state": {
       "layout": "IPY_MODEL_f08e8813bdeb4e83a1ba4f0ebced6a6b",
       "style": "IPY_MODEL_0b0dacfd91864f8b89b5fefaf30cded1",
       "value": "<h5>Job ID</h5>"
      }
     },
     "5c3023e929f443688f35c31a77494e0f": {
      "model_module": "@jupyter-widgets/controls",
      "model_module_version": "2.0.0",
      "model_name": "ButtonStyleModel",
      "state": {
       "font_family": null,
       "font_size": null,
       "font_style": null,
       "font_variant": null,
       "font_weight": null,
       "text_color": null,
       "text_decoration": null
      }
     },
     "70d6dbae65774086aebcbc4fbcca8031": {
      "model_module": "@jupyter-widgets/base",
      "model_module_version": "2.0.0",
      "model_name": "LayoutModel",
      "state": {
       "width": "70px"
      }
     },
     "82a69bdab72e4b848d4a752251ce344e": {
      "model_module": "@jupyter-widgets/base",
      "model_module_version": "2.0.0",
      "model_name": "LayoutModel",
      "state": {
       "width": "95px"
      }
     },
     "867453812b6f4ea9aa4c88c380f76f2b": {
      "model_module": "@jupyter-widgets/controls",
      "model_module_version": "2.0.0",
      "model_name": "HTMLModel",
      "state": {
       "layout": "IPY_MODEL_b96cfdbaf6a44746b587eb416a839ebb",
       "style": "IPY_MODEL_3335501816a448ec9e19b3b318d34efc",
       "value": "<h5>Message</h5>"
      }
     },
     "924c83fca1da4e7a8c09c4efcad4979a": {
      "model_module": "@jupyter-widgets/controls",
      "model_module_version": "2.0.0",
      "model_name": "HTMLStyleModel",
      "state": {
       "description_width": "",
       "font_size": null,
       "text_color": null
      }
     },
     "941986449b6b4ec2be774808fee0aaa1": {
      "model_module": "@jupyter-widgets/controls",
      "model_module_version": "2.0.0",
      "model_name": "HTMLModel",
      "state": {
       "layout": "IPY_MODEL_70d6dbae65774086aebcbc4fbcca8031",
       "style": "IPY_MODEL_12ca85d1fe5d49a29b3e77446333f51a",
       "value": "<h5>Queue</h5>"
      }
     },
     "a106ef76a8e24a8e950df1f0e71b1df1": {
      "model_module": "@jupyter-widgets/controls",
      "model_module_version": "2.0.0",
      "model_name": "ButtonModel",
      "state": {
       "button_style": "primary",
       "description": "Clear",
       "layout": "IPY_MODEL_a76a4c942aa044f8a0a1a8b9e74d2b55",
       "style": "IPY_MODEL_5c3023e929f443688f35c31a77494e0f",
       "tooltip": null
      }
     },
     "a76a4c942aa044f8a0a1a8b9e74d2b55": {
      "model_module": "@jupyter-widgets/base",
      "model_module_version": "2.0.0",
      "model_name": "LayoutModel",
      "state": {
       "grid_area": "right",
       "padding": "0px 0px 0px 0px",
       "width": "70px"
      }
     },
     "b96cfdbaf6a44746b587eb416a839ebb": {
      "model_module": "@jupyter-widgets/base",
      "model_module_version": "2.0.0",
      "model_name": "LayoutModel",
      "state": {}
     },
     "ccfa6261bef6440d872f66bafb0006b2": {
      "model_module": "@jupyter-widgets/base",
      "model_module_version": "2.0.0",
      "model_name": "LayoutModel",
      "state": {
       "grid_template_areas": "\n                                       \". . . . right \"\n                                        ",
       "grid_template_columns": "20% 20% 20% 20% 20%",
       "width": "100%"
      }
     },
     "d5fa875961bb42bdb6a9ca039c45f086": {
      "model_module": "@jupyter-widgets/controls",
      "model_module_version": "2.0.0",
      "model_name": "HBoxModel",
      "state": {
       "children": [
        "IPY_MODEL_5961e0939a624dd9b9c32c5ba2c95f84",
        "IPY_MODEL_e842512766d04eb3a1c990bff078d2db",
        "IPY_MODEL_fad3bf08495843bea1710f294d4e4ac5",
        "IPY_MODEL_941986449b6b4ec2be774808fee0aaa1",
        "IPY_MODEL_867453812b6f4ea9aa4c88c380f76f2b"
       ],
       "layout": "IPY_MODEL_5467a26b9b984f5986142a36e2a924cb"
      }
     },
     "e842512766d04eb3a1c990bff078d2db": {
      "model_module": "@jupyter-widgets/controls",
      "model_module_version": "2.0.0",
      "model_name": "HTMLModel",
      "state": {
       "layout": "IPY_MODEL_e84a0d22c94d44ac852d1a06ce050dbc",
       "style": "IPY_MODEL_924c83fca1da4e7a8c09c4efcad4979a",
       "value": "<h5>Backend</h5>"
      }
     },
     "e84a0d22c94d44ac852d1a06ce050dbc": {
      "model_module": "@jupyter-widgets/base",
      "model_module_version": "2.0.0",
      "model_name": "LayoutModel",
      "state": {
       "width": "145px"
      }
     },
     "efddce4ee2174a8db98e8b9fa8e5b991": {
      "model_module": "@jupyter-widgets/controls",
      "model_module_version": "2.0.0",
      "model_name": "GridBoxModel",
      "state": {
       "children": [
        "IPY_MODEL_a106ef76a8e24a8e950df1f0e71b1df1"
       ],
       "layout": "IPY_MODEL_ccfa6261bef6440d872f66bafb0006b2"
      }
     },
     "f08e8813bdeb4e83a1ba4f0ebced6a6b": {
      "model_module": "@jupyter-widgets/base",
      "model_module_version": "2.0.0",
      "model_name": "LayoutModel",
      "state": {
       "width": "190px"
      }
     },
     "f5897d73d37748ee8ead027d8988c363": {
      "model_module": "@jupyter-widgets/controls",
      "model_module_version": "2.0.0",
      "model_name": "HTMLModel",
      "state": {
       "layout": "IPY_MODEL_4819b2d5f5184572b413dc43165d7cc6",
       "style": "IPY_MODEL_513e1bb3b76b4a2d90fc13e3bf359fc2",
       "value": "<p style='font-family: IBM Plex Sans, Arial, Helvetica, sans-serif; font-size: 20px; font-weight: medium;'>Circuit Properties</p>"
      }
     },
     "fad3bf08495843bea1710f294d4e4ac5": {
      "model_module": "@jupyter-widgets/controls",
      "model_module_version": "2.0.0",
      "model_name": "HTMLModel",
      "state": {
       "layout": "IPY_MODEL_82a69bdab72e4b848d4a752251ce344e",
       "style": "IPY_MODEL_55a4d606509f440dbea08a784d6a693a",
       "value": "<h5>Status</h5>"
      }
     }
    },
    "version_major": 2,
    "version_minor": 0
   }
  }
 },
 "nbformat": 4,
 "nbformat_minor": 5
}
