{
 "cells": [
  {
   "cell_type": "code",
   "execution_count": 1,
   "id": "c3d85152-5ead-421d-b8ce-f81ffeb9e91b",
   "metadata": {
    "tags": []
   },
   "outputs": [],
   "source": [
    "import numpy as np\n",
    "from qiskit import *\n",
    "from qiskit.visualization import *\n",
    "from qiskit import QuantumCircuit, ClassicalRegister, QuantumRegister\n",
    "from qiskit import execute, BasicAer\n",
    "from qiskit.compiler import transpile\n",
    "from qiskit.quantum_info.operators import Operator, Pauli\n",
    "from qiskit.extensions import RXGate, XGate, CXGate\n",
    "from qiskit.utils.mitigation import (complete_meas_cal,CompleteMeasFitter)\n",
    "\n",
    "import time\n",
    "import qiskit.quantum_info as qi\n",
    "from qiskit_experiments.library.tomography.qst_experiment import StateTomography, StateTomographyAnalysis\n",
    "from qiskit.quantum_info import state_fidelity\n",
    "from qiskit.providers.ibmq.managed import IBMQJobManager"
   ]
  },
  {
   "cell_type": "markdown",
   "id": "978136b3-1668-47a6-9215-5eff9d540f85",
   "metadata": {},
   "source": [
    "# Creating Circuit A"
   ]
  },
  {
   "cell_type": "code",
   "execution_count": 2,
   "id": "5eb82c7f-bfbc-4517-b660-f95258d517ad",
   "metadata": {
    "tags": []
   },
   "outputs": [],
   "source": [
    "def A_gate(theta, qubits, circ, phi=0, l = 0, f = True):\n",
    "    '''Adds the gates to the circuit circ A'''\n",
    "    a = qubits[0] # first qubit\n",
    "    b = qubits[1] # second qubit\n",
    "    \n",
    "    if f == True:\n",
    "        circ.cx(b,a) # adding the first CNOT, for which qubit b is the control and qubit a is the target\n",
    "    else: \n",
    "        circ.x(a)\n",
    "    # now comes the R dagger gate which has two parameters: theta and phi\n",
    "    # but in our case phi is always zero\n",
    "    ry1 = r\"Y_\"+str(l)+\"^-1\"\n",
    "    ry  = r\"Y_\"+str(l)\n",
    "    rz = r\"Z_\"+str(l)\n",
    "    rz1 = r\"Z_\"+str(l)+\"^-1\"\n",
    "    circ.ry(-(theta+np.pi/2),b, label = ry1) # rotation around the y axis\n",
    "    circ.rz(-(phi+np.pi),b) # rotation around the z axis \n",
    "    \n",
    "    # now the second CNOT for which target: b, control:a\n",
    "    circ.cx(a,b)\n",
    "    \n",
    "    # and now the R gate for which we use the same two parameters\n",
    "    circ.rz((phi+np.pi),b)\n",
    "    circ.ry((theta+np.pi/2),b, label = ry)\n",
    "    \n",
    "    # and the last CNOT\n",
    "    circ.cx(b,a)"
   ]
  },
  {
   "cell_type": "code",
   "execution_count": 3,
   "id": "6b43fae3-4716-4dd0-ab1f-eb8985e3e204",
   "metadata": {
    "tags": []
   },
   "outputs": [],
   "source": [
    "def circ_maker(n, qubits, measure=False, f=True, classic=False): \n",
    "    '''Creates the full circuit A'''\n",
    "    \n",
    "    theta1 = 3*np.pi/4\n",
    "    theta2 = -2.97167\n",
    "    theta3 = -2.18628 \n",
    "    theta4 = np.pi\n",
    "    theta5 = 5.23599\n",
    "    \n",
    "    a = qubits[0]\n",
    "    b = qubits[1]\n",
    "    c = qubits[2]\n",
    "    d = qubits[3]\n",
    "    \n",
    "    qreg = QuantumRegister(n)\n",
    "    if classic: \n",
    "        creg = ClassicalRegister(4)\n",
    "        circ = QuantumCircuit(qreg, creg)\n",
    "    else: \n",
    "        circ = QuantumCircuit(qreg)\n",
    "    circ.x(b)\n",
    "    circ.x(d)\n",
    "    \n",
    "    A_gate(theta=theta1, qubits=[a,b], circ=circ, l=1, f=f)\n",
    "    A_gate(theta=theta2, qubits=[c,d], circ=circ, l=2, f=f)\n",
    "    A_gate(theta=theta3, qubits=[b,c], circ=circ, l=3)\n",
    "    A_gate(theta=theta4, qubits=[a,b], circ=circ, l=4)\n",
    "    A_gate(theta=theta5, qubits=[c,d], circ=circ, l=5)\n",
    "    A_gate(theta=theta3, qubits=[b,c], circ=circ, l=3)\n",
    "\n",
    "    if measure:\n",
    "        circ.measure([a,b,c,d], [0,1,2,3])\n",
    "    else: \n",
    "        pass \n",
    "    if classic:\n",
    "        return circ, qreg, creg\n",
    "    else: \n",
    "        return circ, qreg"
   ]
  },
  {
   "cell_type": "code",
   "execution_count": 4,
   "id": "a2d417d8-fe3f-43cd-9ee3-aecd9fd5c5e7",
   "metadata": {
    "tags": []
   },
   "outputs": [],
   "source": [
    "def saver(filename, backend_name, time, shots, qubits, F, rho_mes, target_state, tomo_fitter_data, F_mit, \n",
    "          rho_mit, cal_matrix):  \n",
    "    '''Saves the data to a file'''\n",
    "    \n",
    "    with open (filename+\".txt\", \"w\") as f: \n",
    "        f.write(\"Backend: \"+backend_name+\"\\n\")\n",
    "        f.write(\"date: \"+ str(time)+\"\\n\")\n",
    "        f.write(\"Qubits in use: \"+str(qubits)+\"\\n\")\n",
    "        f.write(\"Shots: \"+str(shots)+\"\\n\")\n",
    "        f.write(\"\\n\")\n",
    "        f.write(\"Target state: \"+ str(target_state)+\"\\n\"+\"\\n\")\n",
    "        f.write(\"Fidelity: \"+str(F)+\"\\n\")\n",
    "        f.write(\"Mitigated Fidelity: \"+str(F_mit)+\"\\n\"+\"\\n\")\n",
    "        \n",
    "        f.write(\"Measured density matrix:\"+ \"\\n\")\n",
    "        for i, line in enumerate(rho_mes):\n",
    "            f.write(str(line))\n",
    "            f.write(\"\\n\")\n",
    "        f.write(\"\\n\")\n",
    "            \n",
    "        f.write(\"Mitigated density matrix:\"+\"\\n\")\n",
    "        for i, line in enumerate(rho_mit):\n",
    "            f.write(str(line))\n",
    "            f.write(\"\\n\")\n",
    "                    \n",
    "        f.write(\"\\n\")\n",
    "        f.write(\"Measurement results for the circuits:\"+ \"\\n\")\n",
    "        \n",
    "        \n",
    "        #print(dictionary, file = f)\n",
    "        for key in tomo_fitter_data:\n",
    "            f.write(str(key)+\": \"+\"\\n\")\n",
    "            for subkey in tomo_fitter_data[key]:\n",
    "                f.write(\"\\t\"+str(subkey)+\": \"+str(tomo_fitter_data[key][subkey])+\"\\n\")\n",
    "                \n",
    "        f.write(\"\\n\")\n",
    "        \n",
    "        f.write(\"Calibration matrix:\"+\"\\n\")\n",
    "        for line in cal_matrix:\n",
    "            f.write(str(line)+\"\\n\")"
   ]
  },
  {
   "cell_type": "code",
   "execution_count": 5,
   "id": "8a9d0ff7-8ad0-4e04-97fc-39959dc98f64",
   "metadata": {
    "tags": []
   },
   "outputs": [
    {
     "name": "stdout",
     "output_type": "stream",
     "text": [
      "Statevector([-1.38777878e-17+2.93780988e-17j,\n",
      "              0.00000000e+00+0.00000000e+00j,\n",
      "              0.00000000e+00+0.00000000e+00j,\n",
      "             -5.77350310e-01-2.90185755e-16j,\n",
      "              0.00000000e+00+0.00000000e+00j,\n",
      "              2.88675671e-01+1.24752636e-16j,\n",
      "              2.88674690e-01+2.16227266e-16j,\n",
      "              0.00000000e+00+0.00000000e+00j,\n",
      "              0.00000000e+00+0.00000000e+00j,\n",
      "              2.88674517e-01+8.26955458e-17j,\n",
      "              2.88668804e-01+2.60761812e-16j,\n",
      "              0.00000000e+00+0.00000000e+00j,\n",
      "             -5.77353657e-01-5.55801360e-16j,\n",
      "              0.00000000e+00+0.00000000e+00j,\n",
      "              0.00000000e+00+0.00000000e+00j,\n",
      "              1.38777878e-17-2.98888736e-18j],\n",
      "            dims=(2, 2, 2, 2))\n"
     ]
    }
   ],
   "source": [
    "# Example run on a statevector simulator\n",
    "circ, qreg = circ_maker(n=4, qubits = [0,1,2,3])\n",
    "job = execute(circ, backend=Aer.get_backend('statevector_simulator'))\n",
    "target_state = job.result().get_statevector(circ)\n",
    "print(target_state)"
   ]
  },
  {
   "cell_type": "markdown",
   "id": "e9e1b862-dea7-4cbc-b215-8338ec7053aa",
   "metadata": {},
   "source": [
    "## State tomography of Circuit A on IBMQ backends"
   ]
  },
  {
   "cell_type": "code",
   "execution_count": 20,
   "id": "ec214351-2064-4704-a8ae-412e3c80037c",
   "metadata": {
    "tags": []
   },
   "outputs": [
    {
     "name": "stdout",
     "output_type": "stream",
     "text": [
      "Traceback \u001b[1;36m(most recent call last)\u001b[0m:\n",
      "\u001b[1;36m  Cell \u001b[1;32mIn[20], line 1\u001b[1;36m\n",
      "\u001b[1;33m    backend = provider.get_backend('ibmq_santiago')\u001b[1;36m\n",
      "\u001b[1;31mNameError\u001b[0m\u001b[1;31m:\u001b[0m name 'provider' is not defined\n",
      "\n",
      "Use %tb to get the full traceback.\n"
     ]
    },
    {
     "data": {
      "text/html": [
       "\n",
       "<style>\n",
       ".button {\n",
       "  border: none;\n",
       "  color: white;\n",
       "  padding: 4px 8px;\n",
       "  text-align: center;\n",
       "  text-decoration: none;\n",
       "  display: inline-block;\n",
       "  font-size: 12px;\n",
       "  margin: 4px 2px;\n",
       "  transition-duration: 0.2s;\n",
       "  cursor: pointer;\n",
       "}\n",
       ".iqx-button {\n",
       "  background-color: #0f62fe; \n",
       "  color: white; \n",
       "}\n",
       ".iqx-button:hover {\n",
       "  background-color: #0043ce;\n",
       "  color: white;\n",
       "}\n",
       "</style>\n",
       "<a href=\"https://stackoverflow.com/search?q=NameError: name 'provider' is not defined\" target='_blank'><button class='button iqx-button'>Search for solution online</button></a>\n"
      ],
      "text/plain": [
       "<IPython.core.display.HTML object>"
      ]
     },
     "metadata": {},
     "output_type": "display_data"
    }
   ],
   "source": [
    "# choose the backend and data\n",
    "backend = provider.get_backend('ibmq_santiago') \n",
    "backend_name = 'Santiago'\n",
    "time = \"2022.06.01.\"\n",
    "n = 4 # number of qubits needed for the state\n",
    "shots = 8192\n",
    "\n",
    "filename = \"Athens1\"\n",
    "initial_layout = np.array([3, 2, 1, 0]) # the initial layout of the qubits"
   ]
  },
  {
   "cell_type": "code",
   "execution_count": null,
   "id": "cc1af139-977e-4d91-beee-bd66dee96ec2",
   "metadata": {},
   "outputs": [],
   "source": [
    "# Create Cabello Circuit A\n",
    "circ, qreg = circ_maker(n=n, qubits=qubits, f=False)"
   ]
  },
  {
   "cell_type": "code",
   "execution_count": 83,
   "id": "070e52eb-5af8-4846-9e92-4194334486e1",
   "metadata": {
    "tags": []
   },
   "outputs": [],
   "source": [
    "# Create the state tomography experiment instance\n",
    "tomo_exp = StateTomography(circuit=circ, qubits=qubits)"
   ]
  },
  {
   "cell_type": "code",
   "execution_count": 84,
   "id": "aff9ae93-61a4-4b70-bb4c-03db185a1068",
   "metadata": {
    "tags": []
   },
   "outputs": [],
   "source": [
    "# Run the state tomography experiment\n",
    "tomo_data = tomo_exp.run(backend=backend, optimization_level=3, initial_layout=initial_layout)"
   ]
  },
  {
   "cell_type": "code",
   "execution_count": 85,
   "id": "cbb2e648-0639-4fae-9469-d0385221405a",
   "metadata": {
    "tags": []
   },
   "outputs": [],
   "source": [
    "# Get measurement results from the state tomography experiment\n",
    "tomo_results = tomo_data.jobs()[0].result()"
   ]
  },
  {
   "cell_type": "code",
   "execution_count": 86,
   "id": "07d0ffde-ec75-48cf-b2c4-16a5b547f3d2",
   "metadata": {
    "tags": []
   },
   "outputs": [],
   "source": [
    "# Create the measurement error calibration experiment instance\n",
    "meas_calibs, state_labels = complete_meas_cal(qubit_list=qubits)\n",
    "meas_calibs = transpile(meas_calibs, backend=backend)"
   ]
  },
  {
   "cell_type": "code",
   "execution_count": 87,
   "id": "bdcb3f1f-34c6-4348-a50c-a6e1c761bbcc",
   "metadata": {
    "tags": []
   },
   "outputs": [],
   "source": [
    "# Run the measurement error calibration experiment\n",
    "cal_job = backend.run(meas_calibs)"
   ]
  },
  {
   "cell_type": "code",
   "execution_count": 88,
   "id": "77ab4259-c259-496e-897e-45c26691c006",
   "metadata": {
    "tags": []
   },
   "outputs": [],
   "source": [
    "# Get measurement results from the measurement error calibration experiment\n",
    "cal_results = cal_job.result()"
   ]
  },
  {
   "cell_type": "code",
   "execution_count": 90,
   "id": "7f7f0df8-6975-4a13-931e-6b81d410fce1",
   "metadata": {
    "tags": []
   },
   "outputs": [],
   "source": [
    "# Create measurement error matrix\n",
    "meas_fitter = CompleteMeasFitter(cal_results, state_labels)"
   ]
  },
  {
   "cell_type": "code",
   "execution_count": 127,
   "id": "332c63f0-7fa3-4cb6-bfce-a6488da913be",
   "metadata": {
    "tags": []
   },
   "outputs": [
    {
     "data": {
      "text/plain": [
       "0.974830330777996"
      ]
     },
     "execution_count": 127,
     "metadata": {},
     "output_type": "execute_result"
    }
   ],
   "source": [
    "# Mitigate measurement errors of tomography results using the measurement error matrix\n",
    "mitigated_tomo_results = meas_fitter.filter.apply(tomo_results, method='least_squares')"
   ]
  }
 ],
 "metadata": {
  "kernelspec": {
   "display_name": "Python 3 (ipykernel)",
   "language": "python",
   "name": "python3"
  },
  "language_info": {
   "codemirror_mode": {
    "name": "ipython",
    "version": 3
   },
   "file_extension": ".py",
   "mimetype": "text/x-python",
   "name": "python",
   "nbconvert_exporter": "python",
   "pygments_lexer": "ipython3",
   "version": "3.10.8"
  },
  "widgets": {
   "application/vnd.jupyter.widget-state+json": {
    "state": {},
    "version_major": 2,
    "version_minor": 0
   }
  }
 },
 "nbformat": 4,
 "nbformat_minor": 5
}
