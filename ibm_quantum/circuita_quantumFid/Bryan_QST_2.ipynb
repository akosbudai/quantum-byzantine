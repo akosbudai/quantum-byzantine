{
 "cells": [
  {
   "cell_type": "code",
   "execution_count": 1,
   "id": "explicit-albany",
   "metadata": {},
   "outputs": [
    {
     "name": "stderr",
     "output_type": "stream",
     "text": [
      "/tmp/ipykernel_36229/3486435410.py:10: DeprecationWarning: The qiskit.ignis package is deprecated and has been supersceded by the qiskit-experiments project. Refer to the migration guide: https://github.com/Qiskit/qiskit-ignis#migration-guide on how to migrate to the new project.\n",
      "  from qiskit.ignis.mitigation.measurement import (complete_meas_cal,CompleteMeasFitter)\n"
     ]
    }
   ],
   "source": [
    "import numpy as np\n",
    "from qiskit import *\n",
    "from math import pi\n",
    "from qiskit.visualization import *\n",
    "from qiskit import QuantumCircuit, ClassicalRegister, QuantumRegister\n",
    "from qiskit import execute, BasicAer\n",
    "from qiskit.compiler import transpile\n",
    "from qiskit.quantum_info.operators import Operator, Pauli\n",
    "from qiskit.extensions import RXGate, XGate, CXGate\n",
    "from qiskit.ignis.mitigation.measurement import (complete_meas_cal,CompleteMeasFitter)\n",
    "\n",
    "import time\n",
    "import qiskit.quantum_info as qi\n",
    "from qiskit.ignis.verification.tomography import state_tomography_circuits, StateTomographyFitter\n",
    "from qiskit.quantum_info import state_fidelity\n",
    "from qiskit.providers.ibmq.managed import IBMQJobManager"
   ]
  },
  {
   "cell_type": "code",
   "execution_count": 2,
   "id": "personalized-czech",
   "metadata": {},
   "outputs": [
    {
     "data": {
      "text/plain": [
       "<AccountProvider for IBMQ(hub='ibm-q', group='open', project='main')>"
      ]
     },
     "execution_count": 2,
     "metadata": {},
     "output_type": "execute_result"
    }
   ],
   "source": [
    "IBMQ.load_account()"
   ]
  },
  {
   "cell_type": "code",
   "execution_count": 3,
   "id": "super-communications",
   "metadata": {},
   "outputs": [],
   "source": [
    "provider = IBMQ.get_provider(hub='ibm-q-research', group='independent-12', project='main')"
   ]
  },
  {
   "cell_type": "code",
   "execution_count": 4,
   "id": "floating-border",
   "metadata": {},
   "outputs": [
    {
     "data": {
      "text/plain": [
       "[<IBMQSimulator('ibmq_qasm_simulator') from IBMQ(hub='ibm-q-research', group='independent-12', project='main')>,\n",
       " <IBMQBackend('ibmq_armonk') from IBMQ(hub='ibm-q-research', group='independent-12', project='main')>,\n",
       " <IBMQBackend('ibmq_santiago') from IBMQ(hub='ibm-q-research', group='independent-12', project='main')>,\n",
       " <IBMQBackend('ibmq_bogota') from IBMQ(hub='ibm-q-research', group='independent-12', project='main')>,\n",
       " <IBMQBackend('ibmq_lima') from IBMQ(hub='ibm-q-research', group='independent-12', project='main')>,\n",
       " <IBMQBackend('ibmq_belem') from IBMQ(hub='ibm-q-research', group='independent-12', project='main')>,\n",
       " <IBMQBackend('ibmq_quito') from IBMQ(hub='ibm-q-research', group='independent-12', project='main')>,\n",
       " <IBMQSimulator('simulator_statevector') from IBMQ(hub='ibm-q-research', group='independent-12', project='main')>,\n",
       " <IBMQSimulator('simulator_mps') from IBMQ(hub='ibm-q-research', group='independent-12', project='main')>,\n",
       " <IBMQSimulator('simulator_extended_stabilizer') from IBMQ(hub='ibm-q-research', group='independent-12', project='main')>,\n",
       " <IBMQSimulator('simulator_stabilizer') from IBMQ(hub='ibm-q-research', group='independent-12', project='main')>,\n",
       " <IBMQBackend('ibmq_jakarta') from IBMQ(hub='ibm-q-research', group='independent-12', project='main')>,\n",
       " <IBMQBackend('ibmq_manila') from IBMQ(hub='ibm-q-research', group='independent-12', project='main')>,\n",
       " <IBMQBackend('ibm_lagos') from IBMQ(hub='ibm-q-research', group='independent-12', project='main')>,\n",
       " <IBMQBackend('ibm_perth') from IBMQ(hub='ibm-q-research', group='independent-12', project='main')>]"
      ]
     },
     "execution_count": 4,
     "metadata": {},
     "output_type": "execute_result"
    }
   ],
   "source": [
    "provider.backends()"
   ]
  },
  {
   "cell_type": "code",
   "execution_count": 5,
   "id": "interpreted-logistics",
   "metadata": {},
   "outputs": [],
   "source": [
    "def A_gate(theta, qubits, circ, phi=0, l = 0, f = True):\n",
    "    a = qubits[0] #this will be the first qubit\n",
    "    b = qubits[1] #this will be the second\n",
    "    \n",
    "    if f == True:\n",
    "        circ.cx(b,a) #I add the first CNOT, for which qubit b is the control and qubit a is the target\n",
    "    else: \n",
    "        circ.x(a)\n",
    "    #now comes the R dagger gate which has two parameters: theta and phi\n",
    "    #but in our case phi is always zero\n",
    "    ry1 = r\"Y_\"+str(l)+\"^-1\"\n",
    "    ry  = r\"Y_\"+str(l)\n",
    "    rz = r\"Z_\"+str(l)\n",
    "    rz1 = r\"Z_\"+str(l)+\"^-1\"\n",
    "    circ.ry(-(theta+np.pi/2),b, label = ry1) #rotation around the y axis\n",
    "    circ.rz(-(phi+np.pi),b) #rotation around the z axis \n",
    "    \n",
    "    #now the second CNOT for which target: b, control:a\n",
    "    circ.cx(a,b)\n",
    "    \n",
    "    #and now the R gate for which we use the same two parameters\n",
    "    circ.rz((phi+np.pi),b)\n",
    "    circ.ry((theta+np.pi/2),b, label = ry)\n",
    "    \n",
    "    #and the last CNOT\n",
    "    circ.cx(b,a)\n",
    "    \n",
    "    #we dont need to return the circuit itself because it is now updated"
   ]
  },
  {
   "cell_type": "code",
   "execution_count": 6,
   "id": "sophisticated-athletics",
   "metadata": {},
   "outputs": [],
   "source": [
    "def circ_maker(n, qubits, measure = False, f = True, classic = False): \n",
    "    \n",
    "    theta1 = 3*np.pi/4\n",
    "    theta2 = -2.97167\n",
    "    theta3 = -2.18628 \n",
    "    theta4 = np.pi\n",
    "    theta5 = 5.23599\n",
    "    \n",
    "    a = qubits[0]\n",
    "    b = qubits[1]\n",
    "    c = qubits[2]\n",
    "    d = qubits[3]\n",
    "    \n",
    "    qreg = QuantumRegister(n)\n",
    "    if classic == True: \n",
    "        creg = ClassicalRegister(4)\n",
    "        circ = QuantumCircuit(qreg, creg)\n",
    "    else: \n",
    "        circ = QuantumCircuit(qreg)\n",
    "    circ.x(b)\n",
    "    circ.x(d)\n",
    "    \n",
    "    A_gate(theta=theta1, qubits = [a,b], circ = circ, l = 1, f = f)\n",
    "    A_gate(theta=theta2, qubits = [c,d], circ = circ, l = 2, f = f)\n",
    "    A_gate(theta=theta3, qubits = [b,c], circ = circ, l = 3)\n",
    "    A_gate(theta=theta4, qubits = [a,b], circ = circ, l = 4)\n",
    "    A_gate(theta=theta5, qubits = [c,d], circ = circ, l = 5)\n",
    "    A_gate(theta=theta3, qubits = [b,c], circ = circ, l = 3)\n",
    "\n",
    "    if measure == True:\n",
    "        circ.measure([a,b,c,d], [0,1,2,3])\n",
    "    else: \n",
    "        pass \n",
    "    if classic == True:\n",
    "        return circ, qreg, creg\n",
    "    else: \n",
    "        return circ, qreg"
   ]
  },
  {
   "cell_type": "code",
   "execution_count": 7,
   "id": "expired-grass",
   "metadata": {},
   "outputs": [],
   "source": [
    "def saver(filename, backend_name, time, shots, qubits, F, rho_mes, target_state, tomo_fitter_data, F_mit, \n",
    "          rho_mit, cal_matrix):  \n",
    "    with open (filename+\".txt\", \"w\") as f: \n",
    "        f.write(\"Backend: \"+backend_name+\"\\n\")\n",
    "        f.write(\"date: \"+ str(time)+\"\\n\")\n",
    "        f.write(\"Qubits in use: \"+str(qubits)+\"\\n\")\n",
    "        f.write(\"Shots: \"+str(shots)+\"\\n\")\n",
    "        f.write(\"\\n\")\n",
    "        f.write(\"Target state: \"+ str(target_state)+\"\\n\"+\"\\n\")\n",
    "        f.write(\"Fidelity: \"+str(F)+\"\\n\")\n",
    "        f.write(\"Mitigated Fidelity: \"+str(F_mit)+\"\\n\"+\"\\n\")\n",
    "        \n",
    "        f.write(\"Measured density matrix:\"+ \"\\n\")\n",
    "        for i, line in enumerate(rho_mes):\n",
    "            f.write(str(line))\n",
    "            f.write(\"\\n\")\n",
    "        f.write(\"\\n\")\n",
    "            \n",
    "        f.write(\"Mitigated density matrix:\"+\"\\n\")\n",
    "        for i, line in enumerate(rho_mit):\n",
    "            f.write(str(line))\n",
    "            f.write(\"\\n\")\n",
    "                    \n",
    "        f.write(\"\\n\")\n",
    "        f.write(\"Measurement results for the circuits:\"+ \"\\n\")\n",
    "        \n",
    "        \n",
    "        #print(dictionary, file = f)\n",
    "        for key in tomo_fitter_data:\n",
    "            f.write(str(key)+\": \"+\"\\n\")\n",
    "            for subkey in tomo_fitter_data[key]:\n",
    "                f.write(\"\\t\"+str(subkey)+\": \"+str(tomo_fitter_data[key][subkey])+\"\\n\")\n",
    "                \n",
    "        f.write(\"\\n\")\n",
    "        \n",
    "        f.write(\"Calibration matrix:\"+\"\\n\")\n",
    "        for line in cal_matrix:\n",
    "            f.write(str(line)+\"\\n\")"
   ]
  },
  {
   "cell_type": "code",
   "execution_count": 8,
   "id": "finite-divorce",
   "metadata": {},
   "outputs": [
    {
     "name": "stdout",
     "output_type": "stream",
     "text": [
      "Statevector([-1.25196530e-17+2.93780988e-17j,\n",
      "              0.00000000e+00+0.00000000e+00j,\n",
      "              0.00000000e+00+0.00000000e+00j,\n",
      "             -5.77350310e-01-2.90185755e-16j,\n",
      "              0.00000000e+00+0.00000000e+00j,\n",
      "              2.88675671e-01+1.24752636e-16j,\n",
      "              2.88674690e-01+2.16227266e-16j,\n",
      "              0.00000000e+00+0.00000000e+00j,\n",
      "              0.00000000e+00+0.00000000e+00j,\n",
      "              2.88674517e-01+8.26955458e-17j,\n",
      "              2.88668804e-01+2.60761812e-16j,\n",
      "              0.00000000e+00+0.00000000e+00j,\n",
      "             -5.77353657e-01-5.55801360e-16j,\n",
      "              0.00000000e+00+0.00000000e+00j,\n",
      "              0.00000000e+00+0.00000000e+00j,\n",
      "              2.12462951e-20-2.98888736e-18j],\n",
      "            dims=(2, 2, 2, 2))\n"
     ]
    }
   ],
   "source": [
    "circ, qreg = circ_maker(n = 4, qubits = [0,1,2,3])\n",
    "job = execute(circ, backend = Aer.get_backend('statevector_simulator'))\n",
    "target_state = job.result().get_statevector(circ)\n",
    "print(target_state)"
   ]
  },
  {
   "cell_type": "markdown",
   "id": "similar-object",
   "metadata": {},
   "source": [
    "## Santiago "
   ]
  },
  {
   "cell_type": "code",
   "execution_count": 20,
   "id": "indian-unemployment",
   "metadata": {},
   "outputs": [],
   "source": [
    "backend = provider.get_backend('ibmq_santiago')\n",
    "backend_name = 'Santiago'\n",
    "\n",
    "time = \"2022.06.01.\"\n",
    "n=5\n",
    "shots = 8192\n",
    "\n",
    "filename = \"Athens1\"\n",
    "qubits = np.array([3,2,1,0])"
   ]
  },
  {
   "cell_type": "code",
   "execution_count": 21,
   "id": "lasting-federal",
   "metadata": {},
   "outputs": [],
   "source": [
    "circ,qreg = circ_maker(n = n, qubits=qubits, f =False)\n",
    "initial_layout = {}\n",
    "for i in range(n):\n",
    "    initial_layout[qreg[i]] = i"
   ]
  },
  {
   "cell_type": "code",
   "execution_count": 22,
   "id": "saving-slide",
   "metadata": {
    "scrolled": true
   },
   "outputs": [
    {
     "data": {
      "text/html": [
       "<pre style=\"word-wrap: normal;white-space: pre;background: #fff0;line-height: 1.1;font-family: &quot;Courier New&quot;,Courier,monospace\">       ┌───┐┌────────────────┐┌────────┐┌───┐┌───────┐┌──────────────┐     »\n",
       "q17_0: ┤ X ├┤ Y_2^-1(1.4009) ├┤ Rz(-π) ├┤ X ├┤ Rz(π) ├┤ Y_2(-1.4009) ├──■──»\n",
       "       ├───┤└────────────────┘└────────┘└─┬─┘└───────┘└──────────────┘┌─┴─┐»\n",
       "q17_1: ┤ X ├──────────────────────────────■───────────────────────────┤ X ├»\n",
       "       ├───┤┌───────────────┐ ┌────────┐┌───┐┌───────┐ ┌───────────┐  └───┘»\n",
       "q17_2: ┤ X ├┤ Y_1^-1(-5π/4) ├─┤ Rz(-π) ├┤ X ├┤ Rz(π) ├─┤ Y_1(5π/4) ├────■──»\n",
       "       ├───┤└───────────────┘ └────────┘└─┬─┘└───────┘ └───────────┘  ┌─┴─┐»\n",
       "q17_3: ┤ X ├──────────────────────────────■───────────────────────────┤ X ├»\n",
       "       └───┘                                                          └───┘»\n",
       "q17_4: ────────────────────────────────────────────────────────────────────»\n",
       "                                                                           »\n",
       "«                                                                             »\n",
       "«q17_0: ──────────────────────────────────────────────────────────────────────»\n",
       "«            ┌─────────────────┐┌────────┐┌───┐┌───────┐┌───────────────┐     »\n",
       "«q17_1: ──■──┤ Y_3^-1(0.61548) ├┤ Rz(-π) ├┤ X ├┤ Rz(π) ├┤ Y_3(-0.61548) ├──■──»\n",
       "«       ┌─┴─┐└─────────────────┘└────────┘└─┬─┘└───────┘└───────────────┘┌─┴─┐»\n",
       "«q17_2: ┤ X ├───────────────────────────────■────────────────────────────┤ X ├»\n",
       "«       └───┘                                                            └───┘»\n",
       "«q17_3: ──────────────────────────────────────────────────────────────────────»\n",
       "«                                                                             »\n",
       "«q17_4: ──────────────────────────────────────────────────────────────────────»\n",
       "«                                                                             »\n",
       "«            ┌─────────────────┐┌────────┐┌───┐┌───────┐┌─────────────┐     »\n",
       "«q17_0: ──■──┤ Y_5^-1(-6.8068) ├┤ Rz(-π) ├┤ X ├┤ Rz(π) ├┤ Y_5(6.8068) ├──■──»\n",
       "«       ┌─┴─┐└─────────────────┘└────────┘└─┬─┘└───────┘└─────────────┘┌─┴─┐»\n",
       "«q17_1: ┤ X ├───────────────────────────────■──────────────────────────┤ X ├»\n",
       "«       └───┘ ┌───────────────┐ ┌────────┐┌───┐┌───────┐ ┌───────────┐ └───┘»\n",
       "«q17_2: ──■───┤ Y_4^-1(-3π/2) ├─┤ Rz(-π) ├┤ X ├┤ Rz(π) ├─┤ Y_4(3π/2) ├───■──»\n",
       "«       ┌─┴─┐ └───────────────┘ └────────┘└─┬─┘└───────┘ └───────────┘ ┌─┴─┐»\n",
       "«q17_3: ┤ X ├───────────────────────────────■──────────────────────────┤ X ├»\n",
       "«       └───┘                                                          └───┘»\n",
       "«q17_4: ────────────────────────────────────────────────────────────────────»\n",
       "«                                                                           »\n",
       "«                                                                             \n",
       "«q17_0: ──────────────────────────────────────────────────────────────────────\n",
       "«            ┌─────────────────┐┌────────┐┌───┐┌───────┐┌───────────────┐     \n",
       "«q17_1: ──■──┤ Y_3^-1(0.61548) ├┤ Rz(-π) ├┤ X ├┤ Rz(π) ├┤ Y_3(-0.61548) ├──■──\n",
       "«       ┌─┴─┐└─────────────────┘└────────┘└─┬─┘└───────┘└───────────────┘┌─┴─┐\n",
       "«q17_2: ┤ X ├───────────────────────────────■────────────────────────────┤ X ├\n",
       "«       └───┘                                                            └───┘\n",
       "«q17_3: ──────────────────────────────────────────────────────────────────────\n",
       "«                                                                             \n",
       "«q17_4: ──────────────────────────────────────────────────────────────────────\n",
       "«                                                                             </pre>"
      ],
      "text/plain": [
       "       ┌───┐┌────────────────┐┌────────┐┌───┐┌───────┐┌──────────────┐     »\n",
       "q17_0: ┤ X ├┤ Y_2^-1(1.4009) ├┤ Rz(-π) ├┤ X ├┤ Rz(π) ├┤ Y_2(-1.4009) ├──■──»\n",
       "       ├───┤└────────────────┘└────────┘└─┬─┘└───────┘└──────────────┘┌─┴─┐»\n",
       "q17_1: ┤ X ├──────────────────────────────■───────────────────────────┤ X ├»\n",
       "       ├───┤┌───────────────┐ ┌────────┐┌───┐┌───────┐ ┌───────────┐  └───┘»\n",
       "q17_2: ┤ X ├┤ Y_1^-1(-5π/4) ├─┤ Rz(-π) ├┤ X ├┤ Rz(π) ├─┤ Y_1(5π/4) ├────■──»\n",
       "       ├───┤└───────────────┘ └────────┘└─┬─┘└───────┘ └───────────┘  ┌─┴─┐»\n",
       "q17_3: ┤ X ├──────────────────────────────■───────────────────────────┤ X ├»\n",
       "       └───┘                                                          └───┘»\n",
       "q17_4: ────────────────────────────────────────────────────────────────────»\n",
       "                                                                           »\n",
       "«                                                                             »\n",
       "«q17_0: ──────────────────────────────────────────────────────────────────────»\n",
       "«            ┌─────────────────┐┌────────┐┌───┐┌───────┐┌───────────────┐     »\n",
       "«q17_1: ──■──┤ Y_3^-1(0.61548) ├┤ Rz(-π) ├┤ X ├┤ Rz(π) ├┤ Y_3(-0.61548) ├──■──»\n",
       "«       ┌─┴─┐└─────────────────┘└────────┘└─┬─┘└───────┘└───────────────┘┌─┴─┐»\n",
       "«q17_2: ┤ X ├───────────────────────────────■────────────────────────────┤ X ├»\n",
       "«       └───┘                                                            └───┘»\n",
       "«q17_3: ──────────────────────────────────────────────────────────────────────»\n",
       "«                                                                             »\n",
       "«q17_4: ──────────────────────────────────────────────────────────────────────»\n",
       "«                                                                             »\n",
       "«            ┌─────────────────┐┌────────┐┌───┐┌───────┐┌─────────────┐     »\n",
       "«q17_0: ──■──┤ Y_5^-1(-6.8068) ├┤ Rz(-π) ├┤ X ├┤ Rz(π) ├┤ Y_5(6.8068) ├──■──»\n",
       "«       ┌─┴─┐└─────────────────┘└────────┘└─┬─┘└───────┘└─────────────┘┌─┴─┐»\n",
       "«q17_1: ┤ X ├───────────────────────────────■──────────────────────────┤ X ├»\n",
       "«       └───┘ ┌───────────────┐ ┌────────┐┌───┐┌───────┐ ┌───────────┐ └───┘»\n",
       "«q17_2: ──■───┤ Y_4^-1(-3π/2) ├─┤ Rz(-π) ├┤ X ├┤ Rz(π) ├─┤ Y_4(3π/2) ├───■──»\n",
       "«       ┌─┴─┐ └───────────────┘ └────────┘└─┬─┘└───────┘ └───────────┘ ┌─┴─┐»\n",
       "«q17_3: ┤ X ├───────────────────────────────■──────────────────────────┤ X ├»\n",
       "«       └───┘                                                          └───┘»\n",
       "«q17_4: ────────────────────────────────────────────────────────────────────»\n",
       "«                                                                           »\n",
       "«                                                                             \n",
       "«q17_0: ──────────────────────────────────────────────────────────────────────\n",
       "«            ┌─────────────────┐┌────────┐┌───┐┌───────┐┌───────────────┐     \n",
       "«q17_1: ──■──┤ Y_3^-1(0.61548) ├┤ Rz(-π) ├┤ X ├┤ Rz(π) ├┤ Y_3(-0.61548) ├──■──\n",
       "«       ┌─┴─┐└─────────────────┘└────────┘└─┬─┘└───────┘└───────────────┘┌─┴─┐\n",
       "«q17_2: ┤ X ├───────────────────────────────■────────────────────────────┤ X ├\n",
       "«       └───┘                                                            └───┘\n",
       "«q17_3: ──────────────────────────────────────────────────────────────────────\n",
       "«                                                                             \n",
       "«q17_4: ──────────────────────────────────────────────────────────────────────\n",
       "«                                                                             "
      ]
     },
     "execution_count": 22,
     "metadata": {},
     "output_type": "execute_result"
    }
   ],
   "source": [
    "circ.draw()"
   ]
  },
  {
   "cell_type": "code",
   "execution_count": 23,
   "id": "announced-imagination",
   "metadata": {},
   "outputs": [],
   "source": [
    "a = qubits[0]\n",
    "b = qubits[1]\n",
    "c = qubits[2]\n",
    "d = qubits[3]    \n",
    "\n",
    "meas_calibs, state_labels = complete_meas_cal(qubit_list=qubits)\n",
    "qst_circs = state_tomography_circuits(circ, [qreg[a],qreg[b], qreg[c], qreg[d]])"
   ]
  },
  {
   "cell_type": "code",
   "execution_count": 24,
   "id": "furnished-prescription",
   "metadata": {},
   "outputs": [],
   "source": [
    "qst_circs = transpile(qst_circs, backend = backend, optimization_level = 0, initial_layout = initial_layout)\n",
    "meas_calibs = transpile(meas_calibs,backend = backend)"
   ]
  },
  {
   "cell_type": "code",
   "execution_count": 25,
   "id": "legendary-apparatus",
   "metadata": {},
   "outputs": [],
   "source": [
    "job_manager = IBMQJobManager()"
   ]
  },
  {
   "cell_type": "code",
   "execution_count": 26,
   "id": "historical-sister",
   "metadata": {},
   "outputs": [],
   "source": [
    "cal_job = job_manager.run(meas_calibs, backend = backend)\n",
    "tomo_job = job_manager.run(qst_circs, backend = backend)"
   ]
  },
  {
   "cell_type": "code",
   "execution_count": 27,
   "id": "bottom-import",
   "metadata": {},
   "outputs": [],
   "source": [
    "cal_job_r = cal_job.results()\n",
    "tomo_job_r = tomo_job.results()"
   ]
  },
  {
   "cell_type": "code",
   "execution_count": 28,
   "id": "contemporary-private",
   "metadata": {},
   "outputs": [],
   "source": [
    "meas_fitter = CompleteMeasFitter(cal_job_r.combine_results(), state_labels)\n",
    "tomo_fitter = StateTomographyFitter(tomo_job_r.combine_results(), qst_circs)"
   ]
  },
  {
   "cell_type": "code",
   "execution_count": 29,
   "id": "selected-military",
   "metadata": {},
   "outputs": [
    {
     "name": "stdout",
     "output_type": "stream",
     "text": [
      "Fidelity without readout error mitigation:  0.4007074475015424\n"
     ]
    }
   ],
   "source": [
    "rho = tomo_fitter.fit()\n",
    "F = state_fidelity(rho,target_state)\n",
    "print(\"Fidelity without readout error mitigation: \",F)"
   ]
  },
  {
   "cell_type": "code",
   "execution_count": 30,
   "id": "capital-charleston",
   "metadata": {},
   "outputs": [
    {
     "name": "stdout",
     "output_type": "stream",
     "text": [
      "Fidelity with readout error mitigation:  0.47677098695114384\n"
     ]
    }
   ],
   "source": [
    "correct_tomo_results = meas_fitter.filter.apply(tomo_job_r.combine_results(), method='least_squares')\n",
    "tomo_mit = StateTomographyFitter(correct_tomo_results, qst_circs)\n",
    "rho_mit = tomo_mit.fit(method='lstsq')\n",
    "F_mit = state_fidelity(rho_mit, target_state)\n",
    "print(\"Fidelity with readout error mitigation: \", F_mit)"
   ]
  },
  {
   "cell_type": "code",
   "execution_count": 56,
   "id": "continent-tongue",
   "metadata": {},
   "outputs": [],
   "source": [
    "saver(filename = filename, backend_name=backend_name, time = time, shots = shots, qubits = qubits, \n",
    "     F=F, rho_mes = rho, target_state = target_state, tomo_fitter_data=tomo_fitter.data, F_mit = F_mit,\n",
    "     rho_mit = rho_mit, cal_matrix = meas_fitter.filter.cal_matrix)"
   ]
  },
  {
   "cell_type": "markdown",
   "id": "seventh-morning",
   "metadata": {},
   "source": [
    "## Santiago"
   ]
  },
  {
   "cell_type": "code",
   "execution_count": 10,
   "id": "final-terminology",
   "metadata": {},
   "outputs": [],
   "source": [
    "backend = provider.get_backend('ibmq_santiago')\n",
    "backend_name = 'Santiago'\n",
    "\n",
    "time = \"2021.04.26\"\n",
    "n=5\n",
    "shots = 8192\n",
    "\n",
    "filename = \"Santiago4\"\n",
    "qubits = np.array([4,3,2,1])"
   ]
  },
  {
   "cell_type": "code",
   "execution_count": 11,
   "id": "finnish-blanket",
   "metadata": {},
   "outputs": [],
   "source": [
    "circ,qreg = circ_maker(n = n, qubits=qubits, f =False)\n",
    "initial_layout = {}\n",
    "for i in range(n):\n",
    "    initial_layout[qreg[i]] = i"
   ]
  },
  {
   "cell_type": "code",
   "execution_count": 12,
   "id": "liquid-discharge",
   "metadata": {
    "scrolled": true
   },
   "outputs": [
    {
     "data": {
      "text/html": [
       "<pre style=\"word-wrap: normal;white-space: pre;background: #fff0;line-height: 1.1;font-family: &quot;Courier New&quot;,Courier,monospace\">                                                                         »\n",
       "q19_0: ──────────────────────────────────────────────────────────────────»\n",
       "       ┌───┐┌────────┐┌────────┐┌───┐┌───────┐┌─────┐                    »\n",
       "q19_1: ┤ X ├┤ Y_2^-1 ├┤ RZ(-π) ├┤ X ├┤ RZ(π) ├┤ Y_2 ├──■─────────────────»\n",
       "       ├───┤└────────┘└────────┘└─┬─┘└───────┘└─────┘┌─┴─┐     ┌────────┐»\n",
       "q19_2: ┤ X ├──────────────────────■──────────────────┤ X ├──■──┤ Y_3^-1 ├»\n",
       "       ├───┤┌────────┐┌────────┐┌───┐┌───────┐┌─────┐└───┘┌─┴─┐└────────┘»\n",
       "q19_3: ┤ X ├┤ Y_1^-1 ├┤ RZ(-π) ├┤ X ├┤ RZ(π) ├┤ Y_1 ├──■──┤ X ├──────────»\n",
       "       ├───┤└────────┘└────────┘└─┬─┘└───────┘└─────┘┌─┴─┐└───┘          »\n",
       "q19_4: ┤ X ├──────────────────────■──────────────────┤ X ├───────────────»\n",
       "       └───┘                                         └───┘               »\n",
       "«                                                                         »\n",
       "«q19_0: ──────────────────────────────────────────────────────────────────»\n",
       "«                                                ┌────────┐┌────────┐┌───┐»\n",
       "«q19_1: ──────────────────────────────────────■──┤ Y_5^-1 ├┤ RZ(-π) ├┤ X ├»\n",
       "«       ┌────────┐┌───┐┌───────┐┌─────┐     ┌─┴─┐└────────┘└────────┘└─┬─┘»\n",
       "«q19_2: ┤ RZ(-π) ├┤ X ├┤ RZ(π) ├┤ Y_3 ├──■──┤ X ├──────────────────────■──»\n",
       "«       └────────┘└─┬─┘└───────┘└─────┘┌─┴─┐└───┘┌────────┐┌────────┐┌───┐»\n",
       "«q19_3: ────────────■──────────────────┤ X ├──■──┤ Y_4^-1 ├┤ RZ(-π) ├┤ X ├»\n",
       "«                                      └───┘┌─┴─┐└────────┘└────────┘└─┬─┘»\n",
       "«q19_4: ────────────────────────────────────┤ X ├──────────────────────■──»\n",
       "«                                           └───┘                         »\n",
       "«                                                                          »\n",
       "«q19_0: ───────────────────────────────────────────────────────────────────»\n",
       "«       ┌───────┐┌─────┐                                                   »\n",
       "«q19_1: ┤ RZ(π) ├┤ Y_5 ├──■────────────────────────────────────────────────»\n",
       "«       └───────┘└─────┘┌─┴─┐     ┌────────┐┌────────┐┌───┐┌───────┐┌─────┐»\n",
       "«q19_2: ────────────────┤ X ├──■──┤ Y_3^-1 ├┤ RZ(-π) ├┤ X ├┤ RZ(π) ├┤ Y_3 ├»\n",
       "«       ┌───────┐┌─────┐└───┘┌─┴─┐└────────┘└────────┘└─┬─┘└───────┘└─────┘»\n",
       "«q19_3: ┤ RZ(π) ├┤ Y_4 ├──■──┤ X ├──────────────────────■──────────────────»\n",
       "«       └───────┘└─────┘┌─┴─┐└───┘                                         »\n",
       "«q19_4: ────────────────┤ X ├──────────────────────────────────────────────»\n",
       "«                       └───┘                                              »\n",
       "«            \n",
       "«q19_0: ─────\n",
       "«            \n",
       "«q19_1: ─────\n",
       "«            \n",
       "«q19_2: ──■──\n",
       "«       ┌─┴─┐\n",
       "«q19_3: ┤ X ├\n",
       "«       └───┘\n",
       "«q19_4: ─────\n",
       "«            </pre>"
      ],
      "text/plain": [
       "                                                                         »\n",
       "q19_0: ──────────────────────────────────────────────────────────────────»\n",
       "       ┌───┐┌────────┐┌────────┐┌───┐┌───────┐┌─────┐                    »\n",
       "q19_1: ┤ X ├┤ Y_2^-1 ├┤ RZ(-π) ├┤ X ├┤ RZ(π) ├┤ Y_2 ├──■─────────────────»\n",
       "       ├───┤└────────┘└────────┘└─┬─┘└───────┘└─────┘┌─┴─┐     ┌────────┐»\n",
       "q19_2: ┤ X ├──────────────────────■──────────────────┤ X ├──■──┤ Y_3^-1 ├»\n",
       "       ├───┤┌────────┐┌────────┐┌───┐┌───────┐┌─────┐└───┘┌─┴─┐└────────┘»\n",
       "q19_3: ┤ X ├┤ Y_1^-1 ├┤ RZ(-π) ├┤ X ├┤ RZ(π) ├┤ Y_1 ├──■──┤ X ├──────────»\n",
       "       ├───┤└────────┘└────────┘└─┬─┘└───────┘└─────┘┌─┴─┐└───┘          »\n",
       "q19_4: ┤ X ├──────────────────────■──────────────────┤ X ├───────────────»\n",
       "       └───┘                                         └───┘               »\n",
       "«                                                                         »\n",
       "«q19_0: ──────────────────────────────────────────────────────────────────»\n",
       "«                                                ┌────────┐┌────────┐┌───┐»\n",
       "«q19_1: ──────────────────────────────────────■──┤ Y_5^-1 ├┤ RZ(-π) ├┤ X ├»\n",
       "«       ┌────────┐┌───┐┌───────┐┌─────┐     ┌─┴─┐└────────┘└────────┘└─┬─┘»\n",
       "«q19_2: ┤ RZ(-π) ├┤ X ├┤ RZ(π) ├┤ Y_3 ├──■──┤ X ├──────────────────────■──»\n",
       "«       └────────┘└─┬─┘└───────┘└─────┘┌─┴─┐└───┘┌────────┐┌────────┐┌───┐»\n",
       "«q19_3: ────────────■──────────────────┤ X ├──■──┤ Y_4^-1 ├┤ RZ(-π) ├┤ X ├»\n",
       "«                                      └───┘┌─┴─┐└────────┘└────────┘└─┬─┘»\n",
       "«q19_4: ────────────────────────────────────┤ X ├──────────────────────■──»\n",
       "«                                           └───┘                         »\n",
       "«                                                                          »\n",
       "«q19_0: ───────────────────────────────────────────────────────────────────»\n",
       "«       ┌───────┐┌─────┐                                                   »\n",
       "«q19_1: ┤ RZ(π) ├┤ Y_5 ├──■────────────────────────────────────────────────»\n",
       "«       └───────┘└─────┘┌─┴─┐     ┌────────┐┌────────┐┌───┐┌───────┐┌─────┐»\n",
       "«q19_2: ────────────────┤ X ├──■──┤ Y_3^-1 ├┤ RZ(-π) ├┤ X ├┤ RZ(π) ├┤ Y_3 ├»\n",
       "«       ┌───────┐┌─────┐└───┘┌─┴─┐└────────┘└────────┘└─┬─┘└───────┘└─────┘»\n",
       "«q19_3: ┤ RZ(π) ├┤ Y_4 ├──■──┤ X ├──────────────────────■──────────────────»\n",
       "«       └───────┘└─────┘┌─┴─┐└───┘                                         »\n",
       "«q19_4: ────────────────┤ X ├──────────────────────────────────────────────»\n",
       "«                       └───┘                                              »\n",
       "«            \n",
       "«q19_0: ─────\n",
       "«            \n",
       "«q19_1: ─────\n",
       "«            \n",
       "«q19_2: ──■──\n",
       "«       ┌─┴─┐\n",
       "«q19_3: ┤ X ├\n",
       "«       └───┘\n",
       "«q19_4: ─────\n",
       "«            "
      ]
     },
     "execution_count": 12,
     "metadata": {},
     "output_type": "execute_result"
    }
   ],
   "source": [
    "circ.draw()"
   ]
  },
  {
   "cell_type": "code",
   "execution_count": 48,
   "id": "official-specialist",
   "metadata": {},
   "outputs": [],
   "source": [
    "a = qubits[0]\n",
    "b = qubits[1]\n",
    "c = qubits[2]\n",
    "d = qubits[3]    \n",
    "\n",
    "meas_calibs, state_labels = complete_meas_cal(qubit_list=qubits)\n",
    "qst_circs = state_tomography_circuits(circ, [qreg[a],qreg[b], qreg[c], qreg[d]])"
   ]
  },
  {
   "cell_type": "code",
   "execution_count": 49,
   "id": "known-hebrew",
   "metadata": {},
   "outputs": [],
   "source": [
    "qst_circs = transpile(qst_circs, backend = backend, optimization_level = 3, initial_layout = initial_layout)\n",
    "meas_calibs = transpile(meas_calibs,backend = backend)"
   ]
  },
  {
   "cell_type": "code",
   "execution_count": 50,
   "id": "activated-teaching",
   "metadata": {},
   "outputs": [],
   "source": [
    "job_manager = IBMQJobManager()"
   ]
  },
  {
   "cell_type": "code",
   "execution_count": 51,
   "id": "ancient-woman",
   "metadata": {},
   "outputs": [
    {
     "name": "stderr",
     "output_type": "stream",
     "text": [
      "/home/zoltan/anaconda3/lib/python3.8/site-packages/qiskit/providers/ibmq/managed/managedjob.py:114: DeprecationWarning: run keyword argument qobj is deprecated and replaced with circuits.\n",
      "  self.job = backend.run(\n",
      "/home/zoltan/anaconda3/lib/python3.8/site-packages/qiskit/providers/ibmq/managed/managedjob.py:114: DeprecationWarning: Passing a Qobj to Backend.run is deprecated and will be removed in a future release. Please pass in circuits or pulse schedules instead.\n",
      "  self.job = backend.run(\n",
      "/home/zoltan/anaconda3/lib/python3.8/site-packages/qiskit/providers/ibmq/managed/managedjob.py:114: DeprecationWarning: run keyword argument qobj is deprecated and replaced with circuits.\n",
      "  self.job = backend.run(\n",
      "/home/zoltan/anaconda3/lib/python3.8/site-packages/qiskit/providers/ibmq/managed/managedjob.py:114: DeprecationWarning: Passing a Qobj to Backend.run is deprecated and will be removed in a future release. Please pass in circuits or pulse schedules instead.\n",
      "  self.job = backend.run(\n"
     ]
    }
   ],
   "source": [
    "cal_job = job_manager.run(meas_calibs, backend=backend)\n",
    "tomo_job = job_manager.run(qst_circs, backend=backend)"
   ]
  },
  {
   "cell_type": "code",
   "execution_count": 52,
   "id": "behind-research",
   "metadata": {},
   "outputs": [
    {
     "name": "stderr",
     "output_type": "stream",
     "text": [
      "/home/zoltan/anaconda3/lib/python3.8/site-packages/qiskit/providers/ibmq/managed/managedjob.py:114: DeprecationWarning: run keyword argument qobj is deprecated and replaced with circuits.\n",
      "  self.job = backend.run(\n",
      "/home/zoltan/anaconda3/lib/python3.8/site-packages/qiskit/providers/ibmq/managed/managedjob.py:114: DeprecationWarning: Passing a Qobj to Backend.run is deprecated and will be removed in a future release. Please pass in circuits or pulse schedules instead.\n",
      "  self.job = backend.run(\n"
     ]
    }
   ],
   "source": [
    "cal_job_r = cal_job.results()\n",
    "tomo_job_r = tomo_job.results()"
   ]
  },
  {
   "cell_type": "code",
   "execution_count": 53,
   "id": "referenced-apparatus",
   "metadata": {},
   "outputs": [],
   "source": [
    "meas_fitter = CompleteMeasFitter(cal_job_r.combine_results(), state_labels)\n",
    "tomo_fitter = StateTomographyFitter(tomo_job_r.combine_results(), qst_circs)"
   ]
  },
  {
   "cell_type": "code",
   "execution_count": 54,
   "id": "applied-coordination",
   "metadata": {},
   "outputs": [
    {
     "name": "stdout",
     "output_type": "stream",
     "text": [
      "Fidelity without readout error mitigation:  0.6659364556915284\n"
     ]
    }
   ],
   "source": [
    "rho = tomo_fitter.fit()\n",
    "F = state_fidelity(rho,target_state)\n",
    "print(\"Fidelity without readout error mitigation: \",F)"
   ]
  },
  {
   "cell_type": "code",
   "execution_count": 55,
   "id": "soviet-heath",
   "metadata": {},
   "outputs": [
    {
     "name": "stdout",
     "output_type": "stream",
     "text": [
      "Fidelity with readout error mitigation:  0.7802556203451831\n"
     ]
    }
   ],
   "source": [
    "correct_tomo_results = meas_fitter.filter.apply(tomo_job_r.combine_results(), method='least_squares')\n",
    "tomo_mit = StateTomographyFitter(correct_tomo_results, qst_circs)\n",
    "rho_mit = tomo_mit.fit(method='lstsq')\n",
    "F_mit = state_fidelity(rho_mit, target_state)\n",
    "print(\"Fidelity with readout error mitigation: \", F_mit)"
   ]
  },
  {
   "cell_type": "code",
   "execution_count": 56,
   "id": "tested-airplane",
   "metadata": {},
   "outputs": [],
   "source": [
    "saver(filename = filename, backend_name=backend_name, time = time, shots = shots, qubits = qubits, \n",
    "     F=F, rho_mes = rho, target_state = target_state, tomo_fitter_data=tomo_fitter.data, F_mit = F_mit,\n",
    "     rho_mit = rho_mit, cal_matrix = meas_fitter.filter.cal_matrix)"
   ]
  },
  {
   "cell_type": "markdown",
   "id": "matched-qatar",
   "metadata": {},
   "source": [
    "## Bogota"
   ]
  },
  {
   "cell_type": "code",
   "execution_count": 21,
   "id": "chinese-calibration",
   "metadata": {},
   "outputs": [],
   "source": [
    "backend = provider.get_backend('ibmq_bogota')\n",
    "backend_name = 'Bogota'\n",
    "\n",
    "time = \"2021.04.27\"\n",
    "n=5\n",
    "shots = 8192\n",
    "\n",
    "filename = \"Bogota4\"\n",
    "qubits = np.array([4,3,2,1])"
   ]
  },
  {
   "cell_type": "code",
   "execution_count": 22,
   "id": "imperial-camcorder",
   "metadata": {},
   "outputs": [],
   "source": [
    "circ,qreg = circ_maker(n = n, qubits=qubits, f =False)\n",
    "initial_layout = {}\n",
    "for i in range(n):\n",
    "    initial_layout[qreg[i]] = i"
   ]
  },
  {
   "cell_type": "code",
   "execution_count": 23,
   "id": "sustainable-berry",
   "metadata": {
    "scrolled": true
   },
   "outputs": [
    {
     "data": {
      "text/html": [
       "<pre style=\"word-wrap: normal;white-space: pre;background: #fff0;line-height: 1.1;font-family: &quot;Courier New&quot;,Courier,monospace\">                                                                         »\n",
       "q21_0: ──────────────────────────────────────────────────────────────────»\n",
       "       ┌───┐┌────────┐┌────────┐┌───┐┌───────┐┌─────┐                    »\n",
       "q21_1: ┤ X ├┤ Y_2^-1 ├┤ RZ(-π) ├┤ X ├┤ RZ(π) ├┤ Y_2 ├──■─────────────────»\n",
       "       ├───┤└────────┘└────────┘└─┬─┘└───────┘└─────┘┌─┴─┐     ┌────────┐»\n",
       "q21_2: ┤ X ├──────────────────────■──────────────────┤ X ├──■──┤ Y_3^-1 ├»\n",
       "       ├───┤┌────────┐┌────────┐┌───┐┌───────┐┌─────┐└───┘┌─┴─┐└────────┘»\n",
       "q21_3: ┤ X ├┤ Y_1^-1 ├┤ RZ(-π) ├┤ X ├┤ RZ(π) ├┤ Y_1 ├──■──┤ X ├──────────»\n",
       "       ├───┤└────────┘└────────┘└─┬─┘└───────┘└─────┘┌─┴─┐└───┘          »\n",
       "q21_4: ┤ X ├──────────────────────■──────────────────┤ X ├───────────────»\n",
       "       └───┘                                         └───┘               »\n",
       "«                                                                         »\n",
       "«q21_0: ──────────────────────────────────────────────────────────────────»\n",
       "«                                                ┌────────┐┌────────┐┌───┐»\n",
       "«q21_1: ──────────────────────────────────────■──┤ Y_5^-1 ├┤ RZ(-π) ├┤ X ├»\n",
       "«       ┌────────┐┌───┐┌───────┐┌─────┐     ┌─┴─┐└────────┘└────────┘└─┬─┘»\n",
       "«q21_2: ┤ RZ(-π) ├┤ X ├┤ RZ(π) ├┤ Y_3 ├──■──┤ X ├──────────────────────■──»\n",
       "«       └────────┘└─┬─┘└───────┘└─────┘┌─┴─┐└───┘┌────────┐┌────────┐┌───┐»\n",
       "«q21_3: ────────────■──────────────────┤ X ├──■──┤ Y_4^-1 ├┤ RZ(-π) ├┤ X ├»\n",
       "«                                      └───┘┌─┴─┐└────────┘└────────┘└─┬─┘»\n",
       "«q21_4: ────────────────────────────────────┤ X ├──────────────────────■──»\n",
       "«                                           └───┘                         »\n",
       "«                                                                          »\n",
       "«q21_0: ───────────────────────────────────────────────────────────────────»\n",
       "«       ┌───────┐┌─────┐                                                   »\n",
       "«q21_1: ┤ RZ(π) ├┤ Y_5 ├──■────────────────────────────────────────────────»\n",
       "«       └───────┘└─────┘┌─┴─┐     ┌────────┐┌────────┐┌───┐┌───────┐┌─────┐»\n",
       "«q21_2: ────────────────┤ X ├──■──┤ Y_3^-1 ├┤ RZ(-π) ├┤ X ├┤ RZ(π) ├┤ Y_3 ├»\n",
       "«       ┌───────┐┌─────┐└───┘┌─┴─┐└────────┘└────────┘└─┬─┘└───────┘└─────┘»\n",
       "«q21_3: ┤ RZ(π) ├┤ Y_4 ├──■──┤ X ├──────────────────────■──────────────────»\n",
       "«       └───────┘└─────┘┌─┴─┐└───┘                                         »\n",
       "«q21_4: ────────────────┤ X ├──────────────────────────────────────────────»\n",
       "«                       └───┘                                              »\n",
       "«            \n",
       "«q21_0: ─────\n",
       "«            \n",
       "«q21_1: ─────\n",
       "«            \n",
       "«q21_2: ──■──\n",
       "«       ┌─┴─┐\n",
       "«q21_3: ┤ X ├\n",
       "«       └───┘\n",
       "«q21_4: ─────\n",
       "«            </pre>"
      ],
      "text/plain": [
       "                                                                         »\n",
       "q21_0: ──────────────────────────────────────────────────────────────────»\n",
       "       ┌───┐┌────────┐┌────────┐┌───┐┌───────┐┌─────┐                    »\n",
       "q21_1: ┤ X ├┤ Y_2^-1 ├┤ RZ(-π) ├┤ X ├┤ RZ(π) ├┤ Y_2 ├──■─────────────────»\n",
       "       ├───┤└────────┘└────────┘└─┬─┘└───────┘└─────┘┌─┴─┐     ┌────────┐»\n",
       "q21_2: ┤ X ├──────────────────────■──────────────────┤ X ├──■──┤ Y_3^-1 ├»\n",
       "       ├───┤┌────────┐┌────────┐┌───┐┌───────┐┌─────┐└───┘┌─┴─┐└────────┘»\n",
       "q21_3: ┤ X ├┤ Y_1^-1 ├┤ RZ(-π) ├┤ X ├┤ RZ(π) ├┤ Y_1 ├──■──┤ X ├──────────»\n",
       "       ├───┤└────────┘└────────┘└─┬─┘└───────┘└─────┘┌─┴─┐└───┘          »\n",
       "q21_4: ┤ X ├──────────────────────■──────────────────┤ X ├───────────────»\n",
       "       └───┘                                         └───┘               »\n",
       "«                                                                         »\n",
       "«q21_0: ──────────────────────────────────────────────────────────────────»\n",
       "«                                                ┌────────┐┌────────┐┌───┐»\n",
       "«q21_1: ──────────────────────────────────────■──┤ Y_5^-1 ├┤ RZ(-π) ├┤ X ├»\n",
       "«       ┌────────┐┌───┐┌───────┐┌─────┐     ┌─┴─┐└────────┘└────────┘└─┬─┘»\n",
       "«q21_2: ┤ RZ(-π) ├┤ X ├┤ RZ(π) ├┤ Y_3 ├──■──┤ X ├──────────────────────■──»\n",
       "«       └────────┘└─┬─┘└───────┘└─────┘┌─┴─┐└───┘┌────────┐┌────────┐┌───┐»\n",
       "«q21_3: ────────────■──────────────────┤ X ├──■──┤ Y_4^-1 ├┤ RZ(-π) ├┤ X ├»\n",
       "«                                      └───┘┌─┴─┐└────────┘└────────┘└─┬─┘»\n",
       "«q21_4: ────────────────────────────────────┤ X ├──────────────────────■──»\n",
       "«                                           └───┘                         »\n",
       "«                                                                          »\n",
       "«q21_0: ───────────────────────────────────────────────────────────────────»\n",
       "«       ┌───────┐┌─────┐                                                   »\n",
       "«q21_1: ┤ RZ(π) ├┤ Y_5 ├──■────────────────────────────────────────────────»\n",
       "«       └───────┘└─────┘┌─┴─┐     ┌────────┐┌────────┐┌───┐┌───────┐┌─────┐»\n",
       "«q21_2: ────────────────┤ X ├──■──┤ Y_3^-1 ├┤ RZ(-π) ├┤ X ├┤ RZ(π) ├┤ Y_3 ├»\n",
       "«       ┌───────┐┌─────┐└───┘┌─┴─┐└────────┘└────────┘└─┬─┘└───────┘└─────┘»\n",
       "«q21_3: ┤ RZ(π) ├┤ Y_4 ├──■──┤ X ├──────────────────────■──────────────────»\n",
       "«       └───────┘└─────┘┌─┴─┐└───┘                                         »\n",
       "«q21_4: ────────────────┤ X ├──────────────────────────────────────────────»\n",
       "«                       └───┘                                              »\n",
       "«            \n",
       "«q21_0: ─────\n",
       "«            \n",
       "«q21_1: ─────\n",
       "«            \n",
       "«q21_2: ──■──\n",
       "«       ┌─┴─┐\n",
       "«q21_3: ┤ X ├\n",
       "«       └───┘\n",
       "«q21_4: ─────\n",
       "«            "
      ]
     },
     "execution_count": 23,
     "metadata": {},
     "output_type": "execute_result"
    }
   ],
   "source": [
    "circ.draw()"
   ]
  },
  {
   "cell_type": "code",
   "execution_count": 24,
   "id": "junior-hello",
   "metadata": {},
   "outputs": [],
   "source": [
    "a = qubits[0]\n",
    "b = qubits[1]\n",
    "c = qubits[2]\n",
    "d = qubits[3]    \n",
    "\n",
    "meas_calibs, state_labels = complete_meas_cal(qubit_list=qubits)\n",
    "qst_circs = state_tomography_circuits(circ, [qreg[a],qreg[b], qreg[c], qreg[d]])"
   ]
  },
  {
   "cell_type": "code",
   "execution_count": 25,
   "id": "altered-anxiety",
   "metadata": {},
   "outputs": [],
   "source": [
    "qst_circs = transpile(qst_circs, backend = backend, optimization_level = 3, initial_layout = initial_layout)\n",
    "meas_calibs = transpile(meas_calibs,backend = backend)"
   ]
  },
  {
   "cell_type": "code",
   "execution_count": 26,
   "id": "fitted-saver",
   "metadata": {},
   "outputs": [],
   "source": [
    "job_manager = IBMQJobManager()"
   ]
  },
  {
   "cell_type": "code",
   "execution_count": 27,
   "id": "complete-assurance",
   "metadata": {},
   "outputs": [
    {
     "name": "stderr",
     "output_type": "stream",
     "text": [
      "/home/zoltan/anaconda3/lib/python3.8/site-packages/qiskit/providers/ibmq/managed/managedjob.py:114: DeprecationWarning: run keyword argument qobj is deprecated and replaced with circuits.\n",
      "  self.job = backend.run(\n",
      "/home/zoltan/anaconda3/lib/python3.8/site-packages/qiskit/providers/ibmq/managed/managedjob.py:114: DeprecationWarning: Passing a Qobj to Backend.run is deprecated and will be removed in a future release. Please pass in circuits or pulse schedules instead.\n",
      "  self.job = backend.run(\n",
      "/home/zoltan/anaconda3/lib/python3.8/site-packages/qiskit/providers/ibmq/managed/managedjob.py:114: DeprecationWarning: Passing a Qobj to Backend.run is deprecated and will be removed in a future release. Please pass in circuits or pulse schedules instead.\n",
      "  self.job = backend.run(\n",
      "/home/zoltan/anaconda3/lib/python3.8/site-packages/qiskit/providers/ibmq/managed/managedjob.py:114: DeprecationWarning: run keyword argument qobj is deprecated and replaced with circuits.\n",
      "  self.job = backend.run(\n",
      "/home/zoltan/anaconda3/lib/python3.8/site-packages/qiskit/providers/ibmq/managed/managedjob.py:114: DeprecationWarning: Passing a Qobj to Backend.run is deprecated and will be removed in a future release. Please pass in circuits or pulse schedules instead.\n",
      "  self.job = backend.run(\n"
     ]
    }
   ],
   "source": [
    "cal_job = job_manager.run(meas_calibs, backend=backend)\n",
    "tomo_job = job_manager.run(qst_circs, backend=backend)"
   ]
  },
  {
   "cell_type": "code",
   "execution_count": 28,
   "id": "affiliated-auckland",
   "metadata": {
    "scrolled": true
   },
   "outputs": [],
   "source": [
    "cal_job_r = cal_job.results()\n",
    "tomo_job_r = tomo_job.results()"
   ]
  },
  {
   "cell_type": "code",
   "execution_count": 29,
   "id": "emerging-shelf",
   "metadata": {},
   "outputs": [],
   "source": [
    "meas_fitter = CompleteMeasFitter(cal_job_r.combine_results(), state_labels)\n",
    "tomo_fitter = StateTomographyFitter(tomo_job_r.combine_results(), qst_circs)"
   ]
  },
  {
   "cell_type": "code",
   "execution_count": 30,
   "id": "italian-understanding",
   "metadata": {},
   "outputs": [
    {
     "name": "stdout",
     "output_type": "stream",
     "text": [
      "Fidelity without readout error mitigation:  0.40029984614373926\n"
     ]
    }
   ],
   "source": [
    "rho = tomo_fitter.fit()\n",
    "F = state_fidelity(rho,target_state)\n",
    "print(\"Fidelity without readout error mitigation: \",F)"
   ]
  },
  {
   "cell_type": "code",
   "execution_count": 31,
   "id": "indoor-jesus",
   "metadata": {},
   "outputs": [
    {
     "name": "stdout",
     "output_type": "stream",
     "text": [
      "Fidelity with readout error mitigation:  0.6268935868512479\n"
     ]
    }
   ],
   "source": [
    "correct_tomo_results = meas_fitter.filter.apply(tomo_job_r.combine_results(), method='least_squares')\n",
    "tomo_mit = StateTomographyFitter(correct_tomo_results, qst_circs)\n",
    "rho_mit = tomo_mit.fit(method='lstsq')\n",
    "F_mit = state_fidelity(rho_mit, target_state)\n",
    "print(\"Fidelity with readout error mitigation: \", F_mit)"
   ]
  },
  {
   "cell_type": "code",
   "execution_count": 32,
   "id": "satellite-judges",
   "metadata": {},
   "outputs": [],
   "source": [
    "saver(filename = filename, backend_name=backend_name, time = time, shots = shots, qubits = qubits, \n",
    "     F=F, rho_mes = rho, target_state = target_state, tomo_fitter_data=tomo_fitter.data, F_mit = F_mit,\n",
    "     rho_mit = rho_mit, cal_matrix = meas_fitter.filter.cal_matrix)"
   ]
  },
  {
   "cell_type": "markdown",
   "id": "numeric-hearing",
   "metadata": {},
   "source": [
    "## Rome"
   ]
  },
  {
   "cell_type": "code",
   "execution_count": 9,
   "id": "finished-chemical",
   "metadata": {},
   "outputs": [],
   "source": [
    "backend = provider.get_backend('ibmq_rome')\n",
    "backend_name = 'Rome'\n",
    "\n",
    "time = \"2021.04.26\"\n",
    "n=5\n",
    "shots = 8192\n",
    "\n",
    "filename = \"Rome3\"\n",
    "qubits = np.array([3,2,1,0])"
   ]
  },
  {
   "cell_type": "code",
   "execution_count": 10,
   "id": "exterior-gnome",
   "metadata": {},
   "outputs": [],
   "source": [
    "circ,qreg = circ_maker(n = n, qubits=qubits, f =False)\n",
    "initial_layout = {}\n",
    "for i in range(n):\n",
    "    initial_layout[qreg[i]] = i"
   ]
  },
  {
   "cell_type": "code",
   "execution_count": 11,
   "id": "subsequent-cornwall",
   "metadata": {
    "scrolled": true
   },
   "outputs": [
    {
     "data": {
      "text/html": [
       "<pre style=\"word-wrap: normal;white-space: pre;background: #fff0;line-height: 1.1;font-family: &quot;Courier New&quot;,Courier,monospace\">       ┌───┐┌────────┐┌────────┐┌───┐┌───────┐┌─────┐                    »\n",
       "q19_0: ┤ X ├┤ Y_2^-1 ├┤ RZ(-π) ├┤ X ├┤ RZ(π) ├┤ Y_2 ├──■─────────────────»\n",
       "       ├───┤└────────┘└────────┘└─┬─┘└───────┘└─────┘┌─┴─┐     ┌────────┐»\n",
       "q19_1: ┤ X ├──────────────────────■──────────────────┤ X ├──■──┤ Y_3^-1 ├»\n",
       "       ├───┤┌────────┐┌────────┐┌───┐┌───────┐┌─────┐└───┘┌─┴─┐└────────┘»\n",
       "q19_2: ┤ X ├┤ Y_1^-1 ├┤ RZ(-π) ├┤ X ├┤ RZ(π) ├┤ Y_1 ├──■──┤ X ├──────────»\n",
       "       ├───┤└────────┘└────────┘└─┬─┘└───────┘└─────┘┌─┴─┐└───┘          »\n",
       "q19_3: ┤ X ├──────────────────────■──────────────────┤ X ├───────────────»\n",
       "       └───┘                                         └───┘               »\n",
       "q19_4: ──────────────────────────────────────────────────────────────────»\n",
       "                                                                         »\n",
       "«                                                ┌────────┐┌────────┐┌───┐»\n",
       "«q19_0: ──────────────────────────────────────■──┤ Y_5^-1 ├┤ RZ(-π) ├┤ X ├»\n",
       "«       ┌────────┐┌───┐┌───────┐┌─────┐     ┌─┴─┐└────────┘└────────┘└─┬─┘»\n",
       "«q19_1: ┤ RZ(-π) ├┤ X ├┤ RZ(π) ├┤ Y_3 ├──■──┤ X ├──────────────────────■──»\n",
       "«       └────────┘└─┬─┘└───────┘└─────┘┌─┴─┐└───┘┌────────┐┌────────┐┌───┐»\n",
       "«q19_2: ────────────■──────────────────┤ X ├──■──┤ Y_4^-1 ├┤ RZ(-π) ├┤ X ├»\n",
       "«                                      └───┘┌─┴─┐└────────┘└────────┘└─┬─┘»\n",
       "«q19_3: ────────────────────────────────────┤ X ├──────────────────────■──»\n",
       "«                                           └───┘                         »\n",
       "«q19_4: ──────────────────────────────────────────────────────────────────»\n",
       "«                                                                         »\n",
       "«       ┌───────┐┌─────┐                                                   »\n",
       "«q19_0: ┤ RZ(π) ├┤ Y_5 ├──■────────────────────────────────────────────────»\n",
       "«       └───────┘└─────┘┌─┴─┐     ┌────────┐┌────────┐┌───┐┌───────┐┌─────┐»\n",
       "«q19_1: ────────────────┤ X ├──■──┤ Y_3^-1 ├┤ RZ(-π) ├┤ X ├┤ RZ(π) ├┤ Y_3 ├»\n",
       "«       ┌───────┐┌─────┐└───┘┌─┴─┐└────────┘└────────┘└─┬─┘└───────┘└─────┘»\n",
       "«q19_2: ┤ RZ(π) ├┤ Y_4 ├──■──┤ X ├──────────────────────■──────────────────»\n",
       "«       └───────┘└─────┘┌─┴─┐└───┘                                         »\n",
       "«q19_3: ────────────────┤ X ├──────────────────────────────────────────────»\n",
       "«                       └───┘                                              »\n",
       "«q19_4: ───────────────────────────────────────────────────────────────────»\n",
       "«                                                                          »\n",
       "«            \n",
       "«q19_0: ─────\n",
       "«            \n",
       "«q19_1: ──■──\n",
       "«       ┌─┴─┐\n",
       "«q19_2: ┤ X ├\n",
       "«       └───┘\n",
       "«q19_3: ─────\n",
       "«            \n",
       "«q19_4: ─────\n",
       "«            </pre>"
      ],
      "text/plain": [
       "       ┌───┐┌────────┐┌────────┐┌───┐┌───────┐┌─────┐                    »\n",
       "q19_0: ┤ X ├┤ Y_2^-1 ├┤ RZ(-π) ├┤ X ├┤ RZ(π) ├┤ Y_2 ├──■─────────────────»\n",
       "       ├───┤└────────┘└────────┘└─┬─┘└───────┘└─────┘┌─┴─┐     ┌────────┐»\n",
       "q19_1: ┤ X ├──────────────────────■──────────────────┤ X ├──■──┤ Y_3^-1 ├»\n",
       "       ├───┤┌────────┐┌────────┐┌───┐┌───────┐┌─────┐└───┘┌─┴─┐└────────┘»\n",
       "q19_2: ┤ X ├┤ Y_1^-1 ├┤ RZ(-π) ├┤ X ├┤ RZ(π) ├┤ Y_1 ├──■──┤ X ├──────────»\n",
       "       ├───┤└────────┘└────────┘└─┬─┘└───────┘└─────┘┌─┴─┐└───┘          »\n",
       "q19_3: ┤ X ├──────────────────────■──────────────────┤ X ├───────────────»\n",
       "       └───┘                                         └───┘               »\n",
       "q19_4: ──────────────────────────────────────────────────────────────────»\n",
       "                                                                         »\n",
       "«                                                ┌────────┐┌────────┐┌───┐»\n",
       "«q19_0: ──────────────────────────────────────■──┤ Y_5^-1 ├┤ RZ(-π) ├┤ X ├»\n",
       "«       ┌────────┐┌───┐┌───────┐┌─────┐     ┌─┴─┐└────────┘└────────┘└─┬─┘»\n",
       "«q19_1: ┤ RZ(-π) ├┤ X ├┤ RZ(π) ├┤ Y_3 ├──■──┤ X ├──────────────────────■──»\n",
       "«       └────────┘└─┬─┘└───────┘└─────┘┌─┴─┐└───┘┌────────┐┌────────┐┌───┐»\n",
       "«q19_2: ────────────■──────────────────┤ X ├──■──┤ Y_4^-1 ├┤ RZ(-π) ├┤ X ├»\n",
       "«                                      └───┘┌─┴─┐└────────┘└────────┘└─┬─┘»\n",
       "«q19_3: ────────────────────────────────────┤ X ├──────────────────────■──»\n",
       "«                                           └───┘                         »\n",
       "«q19_4: ──────────────────────────────────────────────────────────────────»\n",
       "«                                                                         »\n",
       "«       ┌───────┐┌─────┐                                                   »\n",
       "«q19_0: ┤ RZ(π) ├┤ Y_5 ├──■────────────────────────────────────────────────»\n",
       "«       └───────┘└─────┘┌─┴─┐     ┌────────┐┌────────┐┌───┐┌───────┐┌─────┐»\n",
       "«q19_1: ────────────────┤ X ├──■──┤ Y_3^-1 ├┤ RZ(-π) ├┤ X ├┤ RZ(π) ├┤ Y_3 ├»\n",
       "«       ┌───────┐┌─────┐└───┘┌─┴─┐└────────┘└────────┘└─┬─┘└───────┘└─────┘»\n",
       "«q19_2: ┤ RZ(π) ├┤ Y_4 ├──■──┤ X ├──────────────────────■──────────────────»\n",
       "«       └───────┘└─────┘┌─┴─┐└───┘                                         »\n",
       "«q19_3: ────────────────┤ X ├──────────────────────────────────────────────»\n",
       "«                       └───┘                                              »\n",
       "«q19_4: ───────────────────────────────────────────────────────────────────»\n",
       "«                                                                          »\n",
       "«            \n",
       "«q19_0: ─────\n",
       "«            \n",
       "«q19_1: ──■──\n",
       "«       ┌─┴─┐\n",
       "«q19_2: ┤ X ├\n",
       "«       └───┘\n",
       "«q19_3: ─────\n",
       "«            \n",
       "«q19_4: ─────\n",
       "«            "
      ]
     },
     "execution_count": 11,
     "metadata": {},
     "output_type": "execute_result"
    }
   ],
   "source": [
    "circ.draw()"
   ]
  },
  {
   "cell_type": "code",
   "execution_count": 12,
   "id": "exciting-helping",
   "metadata": {},
   "outputs": [
    {
     "name": "stderr",
     "output_type": "stream",
     "text": [
      "/home/zoltan/anaconda3/lib/python3.8/site-packages/qiskit/ignis/verification/tomography/basis/circuits.py:468: DeprecationWarning: The QuantumCircuit.__iadd__() method is being deprecated. Use the compose() (potentially with the inplace=True argument) and tensor() methods which are more flexible w.r.t circuit register compatibility.\n",
      "  prep += circuit\n",
      "/home/zoltan/anaconda3/lib/python3.8/site-packages/qiskit/circuit/quantumcircuit.py:876: DeprecationWarning: The QuantumCircuit.extend() method is being deprecated. Use the compose() (potentially with the inplace=True argument) and tensor() methods which are more flexible w.r.t circuit register compatibility.\n",
      "  return self.extend(rhs)\n",
      "/home/zoltan/anaconda3/lib/python3.8/site-packages/qiskit/ignis/verification/tomography/basis/circuits.py:478: DeprecationWarning: The QuantumCircuit.__add__() method is being deprecated.Use the compose() method which is more flexible w.r.t circuit register compatibility.\n",
      "  circ = prep + meas\n",
      "/home/zoltan/anaconda3/lib/python3.8/site-packages/qiskit/circuit/quantumcircuit.py:869: DeprecationWarning: The QuantumCircuit.combine() method is being deprecated. Use the compose() method which is more flexible w.r.t circuit register compatibility.\n",
      "  return self.combine(rhs)\n"
     ]
    }
   ],
   "source": [
    "a = qubits[0]\n",
    "b = qubits[1]\n",
    "c = qubits[2]\n",
    "d = qubits[3]    \n",
    "\n",
    "meas_calibs, state_labels = complete_meas_cal(qubit_list=qubits)\n",
    "qst_circs = state_tomography_circuits(circ, [qreg[a],qreg[b], qreg[c], qreg[d]])"
   ]
  },
  {
   "cell_type": "code",
   "execution_count": 13,
   "id": "exempt-skiing",
   "metadata": {},
   "outputs": [],
   "source": [
    "qst_circs = transpile(qst_circs, backend = backend, optimization_level = 3, initial_layout = initial_layout)\n",
    "meas_calibs = transpile(meas_calibs,backend = backend)"
   ]
  },
  {
   "cell_type": "code",
   "execution_count": 14,
   "id": "subsequent-spanish",
   "metadata": {},
   "outputs": [],
   "source": [
    "job_manager = IBMQJobManager()"
   ]
  },
  {
   "cell_type": "code",
   "execution_count": 15,
   "id": "premium-windsor",
   "metadata": {},
   "outputs": [
    {
     "name": "stderr",
     "output_type": "stream",
     "text": [
      "/home/zoltan/anaconda3/lib/python3.8/site-packages/qiskit/providers/ibmq/managed/managedjob.py:114: DeprecationWarning: run keyword argument qobj is deprecated and replaced with circuits.\n",
      "  self.job = backend.run(\n",
      "/home/zoltan/anaconda3/lib/python3.8/site-packages/qiskit/providers/ibmq/managed/managedjob.py:114: DeprecationWarning: Passing a Qobj to Backend.run is deprecated and will be removed in a future release. Please pass in circuits or pulse schedules instead.\n",
      "  self.job = backend.run(\n",
      "/home/zoltan/anaconda3/lib/python3.8/site-packages/qiskit/providers/ibmq/managed/managedjob.py:114: DeprecationWarning: run keyword argument qobj is deprecated and replaced with circuits.\n",
      "  self.job = backend.run(\n",
      "/home/zoltan/anaconda3/lib/python3.8/site-packages/qiskit/providers/ibmq/managed/managedjob.py:114: DeprecationWarning: Passing a Qobj to Backend.run is deprecated and will be removed in a future release. Please pass in circuits or pulse schedules instead.\n",
      "  self.job = backend.run(\n"
     ]
    }
   ],
   "source": [
    "cal_job = job_manager.run(meas_calibs, backend=backend)\n",
    "tomo_job = job_manager.run(qst_circs, backend=backend)"
   ]
  },
  {
   "cell_type": "code",
   "execution_count": 16,
   "id": "regulation-external",
   "metadata": {},
   "outputs": [],
   "source": [
    "cal_job_r = cal_job.results()\n",
    "tomo_job_r = tomo_job.results()"
   ]
  },
  {
   "cell_type": "code",
   "execution_count": 17,
   "id": "patent-revision",
   "metadata": {},
   "outputs": [],
   "source": [
    "meas_fitter = CompleteMeasFitter(cal_job_r.combine_results(), state_labels)\n",
    "tomo_fitter = StateTomographyFitter(tomo_job_r.combine_results(), qst_circs)"
   ]
  },
  {
   "cell_type": "code",
   "execution_count": 18,
   "id": "injured-drama",
   "metadata": {},
   "outputs": [
    {
     "name": "stdout",
     "output_type": "stream",
     "text": [
      "Fidelity without readout error mitigation:  0.14266133922987814\n"
     ]
    }
   ],
   "source": [
    "rho = tomo_fitter.fit()\n",
    "F = state_fidelity(rho,target_state)\n",
    "print(\"Fidelity without readout error mitigation: \",F)"
   ]
  },
  {
   "cell_type": "code",
   "execution_count": 19,
   "id": "built-decade",
   "metadata": {},
   "outputs": [
    {
     "name": "stdout",
     "output_type": "stream",
     "text": [
      "Fidelity with readout error mitigation:  0.15787340790350565\n"
     ]
    }
   ],
   "source": [
    "correct_tomo_results = meas_fitter.filter.apply(tomo_job_r.combine_results(), method='least_squares')\n",
    "tomo_mit = StateTomographyFitter(correct_tomo_results, qst_circs)\n",
    "rho_mit = tomo_mit.fit(method='lstsq')\n",
    "F_mit = state_fidelity(rho_mit, target_state)\n",
    "print(\"Fidelity with readout error mitigation: \", F_mit)"
   ]
  },
  {
   "cell_type": "code",
   "execution_count": 43,
   "id": "healthy-habitat",
   "metadata": {},
   "outputs": [],
   "source": [
    "saver(filename = filename, backend_name=backend_name, time = time, shots = shots, qubits = qubits, \n",
    "     F=F, rho_mes = rho, target_state = target_state, tomo_fitter_data=tomo_fitter.data, F_mit = F_mit,\n",
    "     rho_mit = rho_mit, cal_matrix = meas_fitter.filter.cal_matrix)"
   ]
  },
  {
   "cell_type": "markdown",
   "id": "social-consistency",
   "metadata": {},
   "source": [
    "## Casablanca"
   ]
  },
  {
   "cell_type": "code",
   "execution_count": 36,
   "id": "equivalent-presentation",
   "metadata": {},
   "outputs": [],
   "source": [
    "backend = provider.get_backend('ibmq_casablanca')\n",
    "backend_name = 'Casablanca'\n",
    "\n",
    "time = \"2021.04.28\"\n",
    "n=7\n",
    "shots = 8192\n",
    "\n",
    "filename = \"Casablanca1\"\n",
    "qubits = np.array([0,1,3,5])"
   ]
  },
  {
   "cell_type": "code",
   "execution_count": 37,
   "id": "parallel-dubai",
   "metadata": {
    "scrolled": true
   },
   "outputs": [],
   "source": [
    "circ,qreg = circ_maker(n = n, qubits=qubits, f =False)\n",
    "initial_layout = {}\n",
    "for i in range(n):\n",
    "    initial_layout[qreg[i]] = i"
   ]
  },
  {
   "cell_type": "code",
   "execution_count": 38,
   "id": "smooth-architect",
   "metadata": {
    "scrolled": true
   },
   "outputs": [
    {
     "data": {
      "text/html": [
       "<pre style=\"word-wrap: normal;white-space: pre;background: #fff0;line-height: 1.1;font-family: &quot;Courier New&quot;,Courier,monospace\">       ┌───┐                                         ┌───┐               »\n",
       "q24_0: ┤ X ├──────────────────────■──────────────────┤ X ├───────────────»\n",
       "       ├───┤┌────────┐┌────────┐┌─┴─┐┌───────┐┌─────┐└─┬─┘┌───┐          »\n",
       "q24_1: ┤ X ├┤ Y_1^-1 ├┤ RZ(-π) ├┤ X ├┤ RZ(π) ├┤ Y_1 ├──■──┤ X ├──────────»\n",
       "       └───┘└────────┘└────────┘└───┘└───────┘└─────┘     └─┬─┘          »\n",
       "q24_2: ─────────────────────────────────────────────────────┼────────────»\n",
       "       ┌───┐                                         ┌───┐  │  ┌────────┐»\n",
       "q24_3: ┤ X ├──────────────────────■──────────────────┤ X ├──■──┤ Y_3^-1 ├»\n",
       "       └───┘                      │                  └─┬─┘     └────────┘»\n",
       "q24_4: ───────────────────────────┼────────────────────┼─────────────────»\n",
       "       ┌───┐┌────────┐┌────────┐┌─┴─┐┌───────┐┌─────┐  │                 »\n",
       "q24_5: ┤ X ├┤ Y_2^-1 ├┤ RZ(-π) ├┤ X ├┤ RZ(π) ├┤ Y_2 ├──■─────────────────»\n",
       "       └───┘└────────┘└────────┘└───┘└───────┘└─────┘                    »\n",
       "q24_6: ──────────────────────────────────────────────────────────────────»\n",
       "                                                                         »\n",
       "«                                           ┌───┐                         »\n",
       "«q24_0: ────────────────────────────────────┤ X ├──────────────────────■──»\n",
       "«                                      ┌───┐└─┬─┘┌────────┐┌────────┐┌─┴─┐»\n",
       "«q24_1: ────────────■──────────────────┤ X ├──■──┤ Y_4^-1 ├┤ RZ(-π) ├┤ X ├»\n",
       "«                   │                  └─┬─┘     └────────┘└────────┘└───┘»\n",
       "«q24_2: ────────────┼────────────────────┼────────────────────────────────»\n",
       "«       ┌────────┐┌─┴─┐┌───────┐┌─────┐  │  ┌───┐                         »\n",
       "«q24_3: ┤ RZ(-π) ├┤ X ├┤ RZ(π) ├┤ Y_3 ├──■──┤ X ├──────────────────────■──»\n",
       "«       └────────┘└───┘└───────┘└─────┘     └─┬─┘                      │  »\n",
       "«q24_4: ──────────────────────────────────────┼────────────────────────┼──»\n",
       "«                                             │  ┌────────┐┌────────┐┌─┴─┐»\n",
       "«q24_5: ──────────────────────────────────────■──┤ Y_5^-1 ├┤ RZ(-π) ├┤ X ├»\n",
       "«                                                └────────┘└────────┘└───┘»\n",
       "«q24_6: ──────────────────────────────────────────────────────────────────»\n",
       "«                                                                         »\n",
       "«                       ┌───┐                                              »\n",
       "«q24_0: ────────────────┤ X ├──────────────────────────────────────────────»\n",
       "«       ┌───────┐┌─────┐└─┬─┘┌───┐                                         »\n",
       "«q24_1: ┤ RZ(π) ├┤ Y_4 ├──■──┤ X ├──────────────────────■──────────────────»\n",
       "«       └───────┘└─────┘     └─┬─┘                      │                  »\n",
       "«q24_2: ───────────────────────┼────────────────────────┼──────────────────»\n",
       "«                       ┌───┐  │  ┌────────┐┌────────┐┌─┴─┐┌───────┐┌─────┐»\n",
       "«q24_3: ────────────────┤ X ├──■──┤ Y_3^-1 ├┤ RZ(-π) ├┤ X ├┤ RZ(π) ├┤ Y_3 ├»\n",
       "«                       └─┬─┘     └────────┘└────────┘└───┘└───────┘└─────┘»\n",
       "«q24_4: ──────────────────┼────────────────────────────────────────────────»\n",
       "«       ┌───────┐┌─────┐  │                                                »\n",
       "«q24_5: ┤ RZ(π) ├┤ Y_5 ├──■────────────────────────────────────────────────»\n",
       "«       └───────┘└─────┘                                                   »\n",
       "«q24_6: ───────────────────────────────────────────────────────────────────»\n",
       "«                                                                          »\n",
       "«            \n",
       "«q24_0: ─────\n",
       "«       ┌───┐\n",
       "«q24_1: ┤ X ├\n",
       "«       └─┬─┘\n",
       "«q24_2: ──┼──\n",
       "«         │  \n",
       "«q24_3: ──■──\n",
       "«            \n",
       "«q24_4: ─────\n",
       "«            \n",
       "«q24_5: ─────\n",
       "«            \n",
       "«q24_6: ─────\n",
       "«            </pre>"
      ],
      "text/plain": [
       "       ┌───┐                                         ┌───┐               »\n",
       "q24_0: ┤ X ├──────────────────────■──────────────────┤ X ├───────────────»\n",
       "       ├───┤┌────────┐┌────────┐┌─┴─┐┌───────┐┌─────┐└─┬─┘┌───┐          »\n",
       "q24_1: ┤ X ├┤ Y_1^-1 ├┤ RZ(-π) ├┤ X ├┤ RZ(π) ├┤ Y_1 ├──■──┤ X ├──────────»\n",
       "       └───┘└────────┘└────────┘└───┘└───────┘└─────┘     └─┬─┘          »\n",
       "q24_2: ─────────────────────────────────────────────────────┼────────────»\n",
       "       ┌───┐                                         ┌───┐  │  ┌────────┐»\n",
       "q24_3: ┤ X ├──────────────────────■──────────────────┤ X ├──■──┤ Y_3^-1 ├»\n",
       "       └───┘                      │                  └─┬─┘     └────────┘»\n",
       "q24_4: ───────────────────────────┼────────────────────┼─────────────────»\n",
       "       ┌───┐┌────────┐┌────────┐┌─┴─┐┌───────┐┌─────┐  │                 »\n",
       "q24_5: ┤ X ├┤ Y_2^-1 ├┤ RZ(-π) ├┤ X ├┤ RZ(π) ├┤ Y_2 ├──■─────────────────»\n",
       "       └───┘└────────┘└────────┘└───┘└───────┘└─────┘                    »\n",
       "q24_6: ──────────────────────────────────────────────────────────────────»\n",
       "                                                                         »\n",
       "«                                           ┌───┐                         »\n",
       "«q24_0: ────────────────────────────────────┤ X ├──────────────────────■──»\n",
       "«                                      ┌───┐└─┬─┘┌────────┐┌────────┐┌─┴─┐»\n",
       "«q24_1: ────────────■──────────────────┤ X ├──■──┤ Y_4^-1 ├┤ RZ(-π) ├┤ X ├»\n",
       "«                   │                  └─┬─┘     └────────┘└────────┘└───┘»\n",
       "«q24_2: ────────────┼────────────────────┼────────────────────────────────»\n",
       "«       ┌────────┐┌─┴─┐┌───────┐┌─────┐  │  ┌───┐                         »\n",
       "«q24_3: ┤ RZ(-π) ├┤ X ├┤ RZ(π) ├┤ Y_3 ├──■──┤ X ├──────────────────────■──»\n",
       "«       └────────┘└───┘└───────┘└─────┘     └─┬─┘                      │  »\n",
       "«q24_4: ──────────────────────────────────────┼────────────────────────┼──»\n",
       "«                                             │  ┌────────┐┌────────┐┌─┴─┐»\n",
       "«q24_5: ──────────────────────────────────────■──┤ Y_5^-1 ├┤ RZ(-π) ├┤ X ├»\n",
       "«                                                └────────┘└────────┘└───┘»\n",
       "«q24_6: ──────────────────────────────────────────────────────────────────»\n",
       "«                                                                         »\n",
       "«                       ┌───┐                                              »\n",
       "«q24_0: ────────────────┤ X ├──────────────────────────────────────────────»\n",
       "«       ┌───────┐┌─────┐└─┬─┘┌───┐                                         »\n",
       "«q24_1: ┤ RZ(π) ├┤ Y_4 ├──■──┤ X ├──────────────────────■──────────────────»\n",
       "«       └───────┘└─────┘     └─┬─┘                      │                  »\n",
       "«q24_2: ───────────────────────┼────────────────────────┼──────────────────»\n",
       "«                       ┌───┐  │  ┌────────┐┌────────┐┌─┴─┐┌───────┐┌─────┐»\n",
       "«q24_3: ────────────────┤ X ├──■──┤ Y_3^-1 ├┤ RZ(-π) ├┤ X ├┤ RZ(π) ├┤ Y_3 ├»\n",
       "«                       └─┬─┘     └────────┘└────────┘└───┘└───────┘└─────┘»\n",
       "«q24_4: ──────────────────┼────────────────────────────────────────────────»\n",
       "«       ┌───────┐┌─────┐  │                                                »\n",
       "«q24_5: ┤ RZ(π) ├┤ Y_5 ├──■────────────────────────────────────────────────»\n",
       "«       └───────┘└─────┘                                                   »\n",
       "«q24_6: ───────────────────────────────────────────────────────────────────»\n",
       "«                                                                          »\n",
       "«            \n",
       "«q24_0: ─────\n",
       "«       ┌───┐\n",
       "«q24_1: ┤ X ├\n",
       "«       └─┬─┘\n",
       "«q24_2: ──┼──\n",
       "«         │  \n",
       "«q24_3: ──■──\n",
       "«            \n",
       "«q24_4: ─────\n",
       "«            \n",
       "«q24_5: ─────\n",
       "«            \n",
       "«q24_6: ─────\n",
       "«            "
      ]
     },
     "execution_count": 38,
     "metadata": {},
     "output_type": "execute_result"
    }
   ],
   "source": [
    "circ.draw()"
   ]
  },
  {
   "cell_type": "code",
   "execution_count": 39,
   "id": "white-london",
   "metadata": {},
   "outputs": [],
   "source": [
    "a = qubits[0]\n",
    "b = qubits[1]\n",
    "c = qubits[2]\n",
    "d = qubits[3]    \n",
    "\n",
    "meas_calibs, state_labels = complete_meas_cal(qubit_list=qubits)\n",
    "qst_circs = state_tomography_circuits(circ, [qreg[a],qreg[b], qreg[c], qreg[d]])"
   ]
  },
  {
   "cell_type": "code",
   "execution_count": 40,
   "id": "respected-tongue",
   "metadata": {},
   "outputs": [],
   "source": [
    "qst_circs = transpile(qst_circs, backend = backend, optimization_level = 3, initial_layout = initial_layout)\n",
    "meas_calibs = transpile(meas_calibs,backend = backend)"
   ]
  },
  {
   "cell_type": "code",
   "execution_count": 41,
   "id": "voluntary-classics",
   "metadata": {},
   "outputs": [],
   "source": [
    "job_manager = IBMQJobManager()"
   ]
  },
  {
   "cell_type": "code",
   "execution_count": 42,
   "id": "tested-damage",
   "metadata": {},
   "outputs": [
    {
     "name": "stderr",
     "output_type": "stream",
     "text": [
      "/home/zoltan/anaconda3/lib/python3.8/site-packages/qiskit/providers/ibmq/managed/managedjob.py:114: DeprecationWarning: run keyword argument qobj is deprecated and replaced with circuits.\n",
      "  self.job = backend.run(\n",
      "/home/zoltan/anaconda3/lib/python3.8/site-packages/qiskit/providers/ibmq/managed/managedjob.py:114: DeprecationWarning: Passing a Qobj to Backend.run is deprecated and will be removed in a future release. Please pass in circuits or pulse schedules instead.\n",
      "  self.job = backend.run(\n",
      "/home/zoltan/anaconda3/lib/python3.8/site-packages/qiskit/providers/ibmq/managed/managedjob.py:114: DeprecationWarning: run keyword argument qobj is deprecated and replaced with circuits.\n",
      "  self.job = backend.run(\n",
      "/home/zoltan/anaconda3/lib/python3.8/site-packages/qiskit/providers/ibmq/managed/managedjob.py:114: DeprecationWarning: Passing a Qobj to Backend.run is deprecated and will be removed in a future release. Please pass in circuits or pulse schedules instead.\n",
      "  self.job = backend.run(\n"
     ]
    }
   ],
   "source": [
    "cal_job = job_manager.run(meas_calibs, backend=backend)\n",
    "tomo_job = job_manager.run(qst_circs, backend=backend)"
   ]
  },
  {
   "cell_type": "code",
   "execution_count": 43,
   "id": "utility-persian",
   "metadata": {},
   "outputs": [],
   "source": [
    "cal_job_r = cal_job.results()\n",
    "tomo_job_r = tomo_job.results()"
   ]
  },
  {
   "cell_type": "code",
   "execution_count": 44,
   "id": "political-fantasy",
   "metadata": {},
   "outputs": [],
   "source": [
    "meas_fitter = CompleteMeasFitter(cal_job_r.combine_results(), state_labels)\n",
    "tomo_fitter = StateTomographyFitter(tomo_job_r.combine_results(), qst_circs)"
   ]
  },
  {
   "cell_type": "code",
   "execution_count": 45,
   "id": "dental-benefit",
   "metadata": {},
   "outputs": [
    {
     "name": "stdout",
     "output_type": "stream",
     "text": [
      "Fidelity without readout error mitigation:  0.18117803412830827\n"
     ]
    }
   ],
   "source": [
    "rho = tomo_fitter.fit()\n",
    "F = state_fidelity(rho,target_state)\n",
    "print(\"Fidelity without readout error mitigation: \",F)"
   ]
  },
  {
   "cell_type": "code",
   "execution_count": 46,
   "id": "subject-execution",
   "metadata": {},
   "outputs": [
    {
     "name": "stdout",
     "output_type": "stream",
     "text": [
      "Fidelity with readout error mitigation:  0.20705116529698017\n"
     ]
    }
   ],
   "source": [
    "correct_tomo_results = meas_fitter.filter.apply(tomo_job_r.combine_results(), method='least_squares')\n",
    "tomo_mit = StateTomographyFitter(correct_tomo_results, qst_circs)\n",
    "rho_mit = tomo_mit.fit(method='lstsq')\n",
    "F_mit = state_fidelity(rho_mit, target_state)\n",
    "print(\"Fidelity with readout error mitigation: \", F_mit)"
   ]
  },
  {
   "cell_type": "code",
   "execution_count": 47,
   "id": "worth-enhancement",
   "metadata": {},
   "outputs": [],
   "source": [
    "saver(filename = filename, backend_name=backend_name, time = time, shots = shots, qubits = qubits, \n",
    "     F=F, rho_mes = rho, target_state = target_state, tomo_fitter_data=tomo_fitter.data, F_mit = F_mit,\n",
    "     rho_mit = rho_mit, cal_matrix = meas_fitter.filter.cal_matrix)"
   ]
  },
  {
   "cell_type": "code",
   "execution_count": null,
   "id": "russian-founder",
   "metadata": {},
   "outputs": [],
   "source": []
  },
  {
   "cell_type": "code",
   "execution_count": null,
   "id": "expanded-incident",
   "metadata": {},
   "outputs": [],
   "source": []
  }
 ],
 "metadata": {
  "kernelspec": {
   "display_name": "Python 3 (ipykernel)",
   "language": "python",
   "name": "python3"
  },
  "language_info": {
   "codemirror_mode": {
    "name": "ipython",
    "version": 3
   },
   "file_extension": ".py",
   "mimetype": "text/x-python",
   "name": "python",
   "nbconvert_exporter": "python",
   "pygments_lexer": "ipython3",
   "version": "3.9.7"
  }
 },
 "nbformat": 4,
 "nbformat_minor": 5
}
