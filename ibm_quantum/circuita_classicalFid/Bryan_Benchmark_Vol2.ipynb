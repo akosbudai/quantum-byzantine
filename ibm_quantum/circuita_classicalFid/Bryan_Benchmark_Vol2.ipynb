{
 "cells": [
  {
   "cell_type": "code",
   "execution_count": 1,
   "id": "tested-french",
   "metadata": {},
   "outputs": [
    {
     "name": "stderr",
     "output_type": "stream",
     "text": [
      "/tmp/ipykernel_22022/3599017300.py:11: DeprecationWarning: The qiskit.ignis package is deprecated and has been supersceded by the qiskit-experiments project. Refer to the migration guide: https://github.com/Qiskit/qiskit-ignis#migration-guide on how to migrate to the new project.\n",
      "  from qiskit.ignis.mitigation.measurement import (complete_meas_cal,CompleteMeasFitter)\n"
     ]
    }
   ],
   "source": [
    "import numpy as np\n",
    "from qiskit import *\n",
    "from math import pi\n",
    "from qiskit.visualization import *\n",
    "from qiskit import QuantumCircuit, ClassicalRegister, QuantumRegister\n",
    "from qiskit import execute, BasicAer\n",
    "from qiskit.compiler import transpile\n",
    "from qiskit.quantum_info.operators import Operator, Pauli\n",
    "from qiskit.quantum_info import process_fidelity\n",
    "from qiskit.extensions import RXGate, XGate, CXGate\n",
    "from qiskit.ignis.mitigation.measurement import (complete_meas_cal,CompleteMeasFitter)"
   ]
  },
  {
   "cell_type": "code",
   "execution_count": 2,
   "id": "c1b0888c-a812-46e5-bba2-5bf6949346ae",
   "metadata": {},
   "outputs": [
    {
     "name": "stderr",
     "output_type": "stream",
     "text": [
      "configrc.store_credentials:WARNING:2022-06-01 20:34:12,059: Credentials already present. Set overwrite=True to overwrite.\n"
     ]
    }
   ],
   "source": [
    "IBMQ.save_account(token=\"40903e935c997971dbac23a512b0c89305b35e083cc67d595f2eb38651a3af6987418780564641e75141632fc5df363647d83c784c0024fd3305f5f9b50a1a73\")"
   ]
  },
  {
   "cell_type": "code",
   "execution_count": 3,
   "id": "published-expression",
   "metadata": {},
   "outputs": [
    {
     "data": {
      "text/plain": [
       "<AccountProvider for IBMQ(hub='ibm-q', group='open', project='main')>"
      ]
     },
     "execution_count": 3,
     "metadata": {},
     "output_type": "execute_result"
    }
   ],
   "source": [
    "IBMQ.load_account()"
   ]
  },
  {
   "cell_type": "code",
   "execution_count": 4,
   "id": "usual-america",
   "metadata": {},
   "outputs": [],
   "source": [
    "provider = IBMQ.get_provider(hub='ibm-q-research', group='independent-12', project='main')"
   ]
  },
  {
   "cell_type": "code",
   "execution_count": 5,
   "id": "swedish-professor",
   "metadata": {},
   "outputs": [
    {
     "data": {
      "text/plain": [
       "[<IBMQSimulator('ibmq_qasm_simulator') from IBMQ(hub='ibm-q-research', group='independent-12', project='main')>,\n",
       " <IBMQBackend('ibmq_armonk') from IBMQ(hub='ibm-q-research', group='independent-12', project='main')>,\n",
       " <IBMQBackend('ibmq_santiago') from IBMQ(hub='ibm-q-research', group='independent-12', project='main')>,\n",
       " <IBMQBackend('ibmq_bogota') from IBMQ(hub='ibm-q-research', group='independent-12', project='main')>,\n",
       " <IBMQBackend('ibmq_lima') from IBMQ(hub='ibm-q-research', group='independent-12', project='main')>,\n",
       " <IBMQBackend('ibmq_belem') from IBMQ(hub='ibm-q-research', group='independent-12', project='main')>,\n",
       " <IBMQBackend('ibmq_quito') from IBMQ(hub='ibm-q-research', group='independent-12', project='main')>,\n",
       " <IBMQSimulator('simulator_statevector') from IBMQ(hub='ibm-q-research', group='independent-12', project='main')>,\n",
       " <IBMQSimulator('simulator_mps') from IBMQ(hub='ibm-q-research', group='independent-12', project='main')>,\n",
       " <IBMQSimulator('simulator_extended_stabilizer') from IBMQ(hub='ibm-q-research', group='independent-12', project='main')>,\n",
       " <IBMQSimulator('simulator_stabilizer') from IBMQ(hub='ibm-q-research', group='independent-12', project='main')>,\n",
       " <IBMQBackend('ibmq_jakarta') from IBMQ(hub='ibm-q-research', group='independent-12', project='main')>,\n",
       " <IBMQBackend('ibmq_manila') from IBMQ(hub='ibm-q-research', group='independent-12', project='main')>,\n",
       " <IBMQBackend('ibm_lagos') from IBMQ(hub='ibm-q-research', group='independent-12', project='main')>,\n",
       " <IBMQBackend('ibm_perth') from IBMQ(hub='ibm-q-research', group='independent-12', project='main')>]"
      ]
     },
     "execution_count": 5,
     "metadata": {},
     "output_type": "execute_result"
    }
   ],
   "source": [
    "provider.backends()"
   ]
  },
  {
   "cell_type": "code",
   "execution_count": 6,
   "id": "increased-picnic",
   "metadata": {},
   "outputs": [],
   "source": [
    "def A_gate(theta, qubits, circ, phi=0, l = 0, f = True):\n",
    "    a = qubits[0] #this will be the first qubit\n",
    "    b = qubits[1] #this will be the second\n",
    "    \n",
    "    if f == True:\n",
    "        circ.cx(b,a) #I add the first CNOT, for which qubit b is the control and qubit a is the target\n",
    "    else: \n",
    "        circ.x(a)\n",
    "    #now comes the R dagger gate which has two parameters: theta and phi\n",
    "    #but in our case phi is always zero\n",
    "    ry1 = r\"Y_\"+str(l)+\"^-1\"\n",
    "    ry  = r\"Y_\"+str(l)\n",
    "    rz = r\"Z_\"+str(l)\n",
    "    rz1 = r\"Z_\"+str(l)+\"^-1\"\n",
    "    circ.ry(-(theta+np.pi/2),b, label = ry1) #rotation around the y axis\n",
    "    circ.rz(-(phi+np.pi),b) #rotation around the z axis \n",
    "    \n",
    "    #now the second CNOT for which target: b, control:a\n",
    "    circ.cx(a,b)\n",
    "    \n",
    "    #and now the R gate for which we use the same two parameters\n",
    "    circ.rz((phi+np.pi),b)\n",
    "    circ.ry((theta+np.pi/2),b, label = ry)\n",
    "    \n",
    "    #and the last CNOT\n",
    "    circ.cx(b,a)\n",
    "    \n",
    "    #we dont need to return the circuit itself because it is now updated"
   ]
  },
  {
   "cell_type": "code",
   "execution_count": 7,
   "id": "bizarre-toronto",
   "metadata": {},
   "outputs": [],
   "source": [
    "def circ_maker(n, qubits, measure = False, f = True): \n",
    "    \n",
    "    theta1 = 3*np.pi/4\n",
    "    theta2 = -2.97167\n",
    "    theta3 = -2.18628 \n",
    "    theta4 = np.pi\n",
    "    theta5 = 5.23599\n",
    "    \n",
    "    a = qubits[0]\n",
    "    b = qubits[1]\n",
    "    c = qubits[2]\n",
    "    d = qubits[3]\n",
    "\n",
    "    qreg = QuantumRegister(n)\n",
    "    creg = ClassicalRegister(4)\n",
    "    circ = QuantumCircuit(qreg, creg)\n",
    "    circ.x(b)\n",
    "    circ.x(d)\n",
    "    \n",
    "    A_gate(theta=theta1, qubits = [a,b], circ = circ, l = 1, f = f)\n",
    "    A_gate(theta=theta2, qubits = [c,d], circ = circ, l = 2, f = f)\n",
    "    A_gate(theta=theta3, qubits = [b,c], circ = circ, l = 3)\n",
    "    A_gate(theta=theta4, qubits = [a,b], circ = circ, l = 4)\n",
    "    A_gate(theta=theta5, qubits = [c,d], circ = circ, l = 5)\n",
    "    A_gate(theta=theta3, qubits = [b,c], circ = circ, l = 3)\n",
    "\n",
    "    if measure == True:\n",
    "        circ.measure([a,b,c,d], [0,1,2,3])\n",
    "    else: \n",
    "        pass \n",
    "    \n",
    "    return circ,qreg, creg"
   ]
  },
  {
   "cell_type": "code",
   "execution_count": 8,
   "id": "subsequent-mailman",
   "metadata": {},
   "outputs": [],
   "source": [
    "def class_fid(dict1, dict2 = None, comp_to_Cab = False): \n",
    "    \n",
    "    dict_perfect = {\n",
    "    \"0011\" : 1/3,\n",
    "    \"1100\" : 1/3,\n",
    "    \"0101\" : 1/12,\n",
    "    \"0110\" : 1/12,\n",
    "    \"1001\" : 1/12,\n",
    "    \"1010\" : 1/12\n",
    "    }\n",
    "    \n",
    "    if comp_to_Cab == True: \n",
    "        dict2 = dict_perfect\n",
    "    else: \n",
    "        pass\n",
    "    fid = 0 \n",
    "    len1 = 0\n",
    "    len2 = 0\n",
    "    for key in dict1: \n",
    "        len1 += dict1[key]\n",
    "    for key in dict2: \n",
    "        len2 += dict2[key]\n",
    "        \n",
    "    for key in dict1: \n",
    "        if key in dict2: \n",
    "            fid += (dict1[key]* dict2[key]/(len1*len2))**0.5\n",
    "        else: \n",
    "            pass\n",
    "    return fid"
   ]
  },
  {
   "cell_type": "code",
   "execution_count": 9,
   "id": "electric-incentive",
   "metadata": {},
   "outputs": [],
   "source": [
    "def mitigation(backend, n, qubits, shots, direct_counts):\n",
    "   \n",
    "    qr = QuantumRegister(n)\n",
    "    meas_calibs, state_labels = complete_meas_cal(qubit_list = qubits, qr=qr, circlabel='mcal')\n",
    "    cal_job = execute(meas_calibs, backend=backend, shots=shots)\n",
    "    cal_results = cal_job.result()\n",
    "    meas_fitter = CompleteMeasFitter(cal_results, state_labels, circlabel='mcal')\n",
    "    meas_filter = meas_fitter.filter\n",
    "    mitigated_counts = meas_filter.apply(direct_counts) \n",
    "    \n",
    "    return mitigated_counts, meas_filter"
   ]
  },
  {
   "cell_type": "code",
   "execution_count": 10,
   "id": "greatest-healing",
   "metadata": {},
   "outputs": [],
   "source": [
    "def saver(filename, backend_name, time, shots, qubits, direct_counts, mitigated_counts, meas_filter):  \n",
    "    with open (filename+\".txt\", \"w\") as f: \n",
    "        f.write(\"Backend: \"+backend_name+\"\\n\")\n",
    "        f.write(\"date: \"+ str(time)+\"\\n\")\n",
    "        f.write(\"Qubits in use: \"+str(qubits)+\"\\n\")\n",
    "        f.write(\"Shots: \"+str(shots)+\"\\n\")\n",
    "        f.write(\"\\n\")\n",
    "        f.write(\"Classical fidelities:\"+\"\\n\")\n",
    "        f.write(\"\\t\"+\"direct: \"+str(class_fid(dict1=direct_counts, comp_to_Cab = True))+\"\\n\")\n",
    "        f.write(\"\\t\"+\"mitigated:\"+str(class_fid(dict1=mitigated_counts, comp_to_Cab=True))+\"\\n\")\n",
    "        f.write(\"Direct counts: \"+\"\\n\")\n",
    "        for key in direct_counts:\n",
    "            f.write(str(key)+\": \"+str(direct_counts[key])+\"\\n\")\n",
    "\n",
    "        f.write(\"Mitigated_counts: \"+\"\\n\")\n",
    "        for key in mitigated_counts:\n",
    "            f.write(str(key)+\": \"+str(mitigated_counts[key])+\"\\n\")\n",
    "                \n",
    "\n",
    "        f.write(\"Readout error mitigation matrix:\"+\"\\n\")\n",
    "        for line in meas_filter.cal_matrix:\n",
    "            f.write(str(line)+\"\\n\")"
   ]
  },
  {
   "cell_type": "markdown",
   "id": "polar-queensland",
   "metadata": {},
   "source": [
    "## Test 1 "
   ]
  },
  {
   "cell_type": "code",
   "execution_count": 11,
   "id": "committed-ticket",
   "metadata": {
    "scrolled": true
   },
   "outputs": [],
   "source": [
    "backend = Aer.get_backend('qasm_simulator')\n",
    "backend_name = 'Aer qasm_simulator'\n",
    "time = \"2021.04.23\"\n",
    "n=5\n",
    "shots = 8192\n",
    "qubits = np.array([0,1,2,3])"
   ]
  },
  {
   "cell_type": "code",
   "execution_count": 12,
   "id": "analyzed-spectrum",
   "metadata": {
    "scrolled": true
   },
   "outputs": [
    {
     "data": {
      "text/html": [
       "<pre style=\"word-wrap: normal;white-space: pre;background: #fff0;line-height: 1.1;font-family: &quot;Courier New&quot;,Courier,monospace\">      ┌───┐                                                          ┌───┐     »\n",
       "q0_0: ┤ X ├──────────────────────────────■───────────────────────────┤ X ├─────»\n",
       "      ├───┤┌───────────────┐ ┌────────┐┌─┴─┐┌───────┐ ┌───────────┐  └─┬─┘┌───┐»\n",
       "q0_1: ┤ X ├┤ Y_1^-1(-5π/4) ├─┤ Rz(-π) ├┤ X ├┤ Rz(π) ├─┤ Y_1(5π/4) ├────■──┤ X ├»\n",
       "      ├───┤└───────────────┘ └────────┘└───┘└───────┘ └───────────┘  ┌───┐└─┬─┘»\n",
       "q0_2: ┤ X ├──────────────────────────────■───────────────────────────┤ X ├──■──»\n",
       "      ├───┤┌────────────────┐┌────────┐┌─┴─┐┌───────┐┌──────────────┐└─┬─┘     »\n",
       "q0_3: ┤ X ├┤ Y_2^-1(1.4009) ├┤ Rz(-π) ├┤ X ├┤ Rz(π) ├┤ Y_2(-1.4009) ├──■───────»\n",
       "      └───┘└────────────────┘└────────┘└───┘└───────┘└──────────────┘          »\n",
       "q0_4: ─────────────────────────────────────────────────────────────────────────»\n",
       "                                                                               »\n",
       "c0: 4/═════════════════════════════════════════════════════════════════════════»\n",
       "                                                                               »\n",
       "«                                                                       ┌───┐»\n",
       "«q0_0: ─────────────────────────────────────────────────────────────────┤ X ├»\n",
       "«                                                                  ┌───┐└─┬─┘»\n",
       "«q0_1: ───────────────────────────────■────────────────────────────┤ X ├──■──»\n",
       "«      ┌─────────────────┐┌────────┐┌─┴─┐┌───────┐┌───────────────┐└─┬─┘┌───┐»\n",
       "«q0_2: ┤ Y_3^-1(0.61548) ├┤ Rz(-π) ├┤ X ├┤ Rz(π) ├┤ Y_3(-0.61548) ├──■──┤ X ├»\n",
       "«      └─────────────────┘└────────┘└───┘└───────┘└───────────────┘     └─┬─┘»\n",
       "«q0_3: ───────────────────────────────────────────────────────────────────■──»\n",
       "«                                                                            »\n",
       "«q0_4: ──────────────────────────────────────────────────────────────────────»\n",
       "«                                                                            »\n",
       "«c0: 4/══════════════════════════════════════════════════════════════════════»\n",
       "«                                                                            »\n",
       "«                                                                ┌───┐     »\n",
       "«q0_0: ───────────────────────────────■──────────────────────────┤ X ├─────»\n",
       "«       ┌───────────────┐ ┌────────┐┌─┴─┐┌───────┐ ┌───────────┐ └─┬─┘┌───┐»\n",
       "«q0_1: ─┤ Y_4^-1(-3π/2) ├─┤ Rz(-π) ├┤ X ├┤ Rz(π) ├─┤ Y_4(3π/2) ├───■──┤ X ├»\n",
       "«       └───────────────┘ └────────┘└───┘└───────┘ └───────────┘ ┌───┐└─┬─┘»\n",
       "«q0_2: ───────────────────────────────■──────────────────────────┤ X ├──■──»\n",
       "«      ┌─────────────────┐┌────────┐┌─┴─┐┌───────┐┌─────────────┐└─┬─┘     »\n",
       "«q0_3: ┤ Y_5^-1(-6.8068) ├┤ Rz(-π) ├┤ X ├┤ Rz(π) ├┤ Y_5(6.8068) ├──■───────»\n",
       "«      └─────────────────┘└────────┘└───┘└───────┘└─────────────┘          »\n",
       "«q0_4: ────────────────────────────────────────────────────────────────────»\n",
       "«                                                                          »\n",
       "«c0: 4/════════════════════════════════════════════════════════════════════»\n",
       "«                                                                          »\n",
       "«                                                                       \n",
       "«q0_0: ─────────────────────────────────────────────────────────────────\n",
       "«                                                                  ┌───┐\n",
       "«q0_1: ───────────────────────────────■────────────────────────────┤ X ├\n",
       "«      ┌─────────────────┐┌────────┐┌─┴─┐┌───────┐┌───────────────┐└─┬─┘\n",
       "«q0_2: ┤ Y_3^-1(0.61548) ├┤ Rz(-π) ├┤ X ├┤ Rz(π) ├┤ Y_3(-0.61548) ├──■──\n",
       "«      └─────────────────┘└────────┘└───┘└───────┘└───────────────┘     \n",
       "«q0_3: ─────────────────────────────────────────────────────────────────\n",
       "«                                                                       \n",
       "«q0_4: ─────────────────────────────────────────────────────────────────\n",
       "«                                                                       \n",
       "«c0: 4/═════════════════════════════════════════════════════════════════\n",
       "«                                                                       </pre>"
      ],
      "text/plain": [
       "      ┌───┐                                                          ┌───┐     »\n",
       "q0_0: ┤ X ├──────────────────────────────■───────────────────────────┤ X ├─────»\n",
       "      ├───┤┌───────────────┐ ┌────────┐┌─┴─┐┌───────┐ ┌───────────┐  └─┬─┘┌───┐»\n",
       "q0_1: ┤ X ├┤ Y_1^-1(-5π/4) ├─┤ Rz(-π) ├┤ X ├┤ Rz(π) ├─┤ Y_1(5π/4) ├────■──┤ X ├»\n",
       "      ├───┤└───────────────┘ └────────┘└───┘└───────┘ └───────────┘  ┌───┐└─┬─┘»\n",
       "q0_2: ┤ X ├──────────────────────────────■───────────────────────────┤ X ├──■──»\n",
       "      ├───┤┌────────────────┐┌────────┐┌─┴─┐┌───────┐┌──────────────┐└─┬─┘     »\n",
       "q0_3: ┤ X ├┤ Y_2^-1(1.4009) ├┤ Rz(-π) ├┤ X ├┤ Rz(π) ├┤ Y_2(-1.4009) ├──■───────»\n",
       "      └───┘└────────────────┘└────────┘└───┘└───────┘└──────────────┘          »\n",
       "q0_4: ─────────────────────────────────────────────────────────────────────────»\n",
       "                                                                               »\n",
       "c0: 4/═════════════════════════════════════════════════════════════════════════»\n",
       "                                                                               »\n",
       "«                                                                       ┌───┐»\n",
       "«q0_0: ─────────────────────────────────────────────────────────────────┤ X ├»\n",
       "«                                                                  ┌───┐└─┬─┘»\n",
       "«q0_1: ───────────────────────────────■────────────────────────────┤ X ├──■──»\n",
       "«      ┌─────────────────┐┌────────┐┌─┴─┐┌───────┐┌───────────────┐└─┬─┘┌───┐»\n",
       "«q0_2: ┤ Y_3^-1(0.61548) ├┤ Rz(-π) ├┤ X ├┤ Rz(π) ├┤ Y_3(-0.61548) ├──■──┤ X ├»\n",
       "«      └─────────────────┘└────────┘└───┘└───────┘└───────────────┘     └─┬─┘»\n",
       "«q0_3: ───────────────────────────────────────────────────────────────────■──»\n",
       "«                                                                            »\n",
       "«q0_4: ──────────────────────────────────────────────────────────────────────»\n",
       "«                                                                            »\n",
       "«c0: 4/══════════════════════════════════════════════════════════════════════»\n",
       "«                                                                            »\n",
       "«                                                                ┌───┐     »\n",
       "«q0_0: ───────────────────────────────■──────────────────────────┤ X ├─────»\n",
       "«       ┌───────────────┐ ┌────────┐┌─┴─┐┌───────┐ ┌───────────┐ └─┬─┘┌───┐»\n",
       "«q0_1: ─┤ Y_4^-1(-3π/2) ├─┤ Rz(-π) ├┤ X ├┤ Rz(π) ├─┤ Y_4(3π/2) ├───■──┤ X ├»\n",
       "«       └───────────────┘ └────────┘└───┘└───────┘ └───────────┘ ┌───┐└─┬─┘»\n",
       "«q0_2: ───────────────────────────────■──────────────────────────┤ X ├──■──»\n",
       "«      ┌─────────────────┐┌────────┐┌─┴─┐┌───────┐┌─────────────┐└─┬─┘     »\n",
       "«q0_3: ┤ Y_5^-1(-6.8068) ├┤ Rz(-π) ├┤ X ├┤ Rz(π) ├┤ Y_5(6.8068) ├──■───────»\n",
       "«      └─────────────────┘└────────┘└───┘└───────┘└─────────────┘          »\n",
       "«q0_4: ────────────────────────────────────────────────────────────────────»\n",
       "«                                                                          »\n",
       "«c0: 4/════════════════════════════════════════════════════════════════════»\n",
       "«                                                                          »\n",
       "«                                                                       \n",
       "«q0_0: ─────────────────────────────────────────────────────────────────\n",
       "«                                                                  ┌───┐\n",
       "«q0_1: ───────────────────────────────■────────────────────────────┤ X ├\n",
       "«      ┌─────────────────┐┌────────┐┌─┴─┐┌───────┐┌───────────────┐└─┬─┘\n",
       "«q0_2: ┤ Y_3^-1(0.61548) ├┤ Rz(-π) ├┤ X ├┤ Rz(π) ├┤ Y_3(-0.61548) ├──■──\n",
       "«      └─────────────────┘└────────┘└───┘└───────┘└───────────────┘     \n",
       "«q0_3: ─────────────────────────────────────────────────────────────────\n",
       "«                                                                       \n",
       "«q0_4: ─────────────────────────────────────────────────────────────────\n",
       "«                                                                       \n",
       "«c0: 4/═════════════════════════════════════════════════════════════════\n",
       "«                                                                       "
      ]
     },
     "execution_count": 12,
     "metadata": {},
     "output_type": "execute_result"
    }
   ],
   "source": [
    "circ,qreg,creg = circ_maker(n = n, qubits=qubits, f = False)\n",
    "#tr_circ = transpile(circ ,backend = backend, optimization_level = 3)\n",
    "\n",
    "circ.draw()"
   ]
  },
  {
   "cell_type": "code",
   "execution_count": 13,
   "id": "historical-airport",
   "metadata": {},
   "outputs": [
    {
     "data": {
      "text/plain": [
       "<qiskit.circuit.instructionset.InstructionSet at 0x7f660a2ef640>"
      ]
     },
     "execution_count": 13,
     "metadata": {},
     "output_type": "execute_result"
    }
   ],
   "source": [
    "circ.measure(qubits,[0,1,2,3])"
   ]
  },
  {
   "cell_type": "code",
   "execution_count": 14,
   "id": "toxic-substitute",
   "metadata": {},
   "outputs": [
    {
     "ename": "TypeError",
     "evalue": "mitigation() got an unexpected keyword argument 'backend_name'",
     "output_type": "error",
     "traceback": [
      "\u001b[0;31m---------------------------------------------------------------------------\u001b[0m",
      "\u001b[0;31mTypeError\u001b[0m                                 Traceback (most recent call last)",
      "\u001b[0;32m/tmp/ipykernel_22022/2054793007.py\u001b[0m in \u001b[0;36m<module>\u001b[0;34m\u001b[0m\n\u001b[1;32m      2\u001b[0m \u001b[0mdirect_counts\u001b[0m \u001b[0;34m=\u001b[0m \u001b[0mjob\u001b[0m\u001b[0;34m.\u001b[0m\u001b[0mresult\u001b[0m\u001b[0;34m(\u001b[0m\u001b[0;34m)\u001b[0m\u001b[0;34m.\u001b[0m\u001b[0mget_counts\u001b[0m\u001b[0;34m(\u001b[0m\u001b[0;34m)\u001b[0m\u001b[0;34m\u001b[0m\u001b[0;34m\u001b[0m\u001b[0m\n\u001b[1;32m      3\u001b[0m \u001b[0;34m\u001b[0m\u001b[0m\n\u001b[0;32m----> 4\u001b[0;31m mitigated_counts, meas_filter  = mitigation(backend = backend, backend_name = backend_name, n=n, qubits = qubits, shots = shots, \n\u001b[0m\u001b[1;32m      5\u001b[0m                                        \u001b[0mtime\u001b[0m \u001b[0;34m=\u001b[0m \u001b[0;34m\"2021.02.16\"\u001b[0m\u001b[0;34m,\u001b[0m \u001b[0mfilename\u001b[0m \u001b[0;34m=\u001b[0m \u001b[0;34m\"test_mitigating\"\u001b[0m\u001b[0;34m,\u001b[0m\u001b[0;34m\u001b[0m\u001b[0;34m\u001b[0m\u001b[0m\n\u001b[1;32m      6\u001b[0m                                        direct_counts = direct_counts)\n",
      "\u001b[0;31mTypeError\u001b[0m: mitigation() got an unexpected keyword argument 'backend_name'"
     ]
    }
   ],
   "source": [
    "job = execute(circ, backend = backend, shots = shots, optimization_level=0)\n",
    "direct_counts = job.result().get_counts()\n",
    "\n",
    "mitigated_counts, meas_filter  = mitigation(backend = backend, backend_name = backend_name, n=n, qubits = qubits, shots = shots, \n",
    "                                       time = \"2021.02.16\", filename = \"test_mitigating\",\n",
    "                                       direct_counts = direct_counts)"
   ]
  },
  {
   "cell_type": "code",
   "execution_count": 15,
   "id": "spoken-tiger",
   "metadata": {},
   "outputs": [
    {
     "ename": "NameError",
     "evalue": "name 'mitigated_counts' is not defined",
     "output_type": "error",
     "traceback": [
      "\u001b[0;31m---------------------------------------------------------------------------\u001b[0m",
      "\u001b[0;31mNameError\u001b[0m                                 Traceback (most recent call last)",
      "\u001b[0;32m/tmp/ipykernel_22022/3500511199.py\u001b[0m in \u001b[0;36m<module>\u001b[0;34m\u001b[0m\n\u001b[1;32m      1\u001b[0m saver(filename = \"Test\", time=time,backend_name = backend_name, shots = shots, qubits = qubits,\n\u001b[0;32m----> 2\u001b[0;31m      direct_counts=direct_counts, mitigated_counts=mitigated_counts, meas_filter=meas_filter)\n\u001b[0m",
      "\u001b[0;31mNameError\u001b[0m: name 'mitigated_counts' is not defined"
     ]
    }
   ],
   "source": [
    "saver(filename = \"Test\", time=time,backend_name = backend_name, shots = shots, qubits = qubits,\n",
    "     direct_counts=direct_counts, mitigated_counts=mitigated_counts, meas_filter=meas_filter)"
   ]
  },
  {
   "cell_type": "markdown",
   "id": "unauthorized-fighter",
   "metadata": {},
   "source": [
    "## Casablanca"
   ]
  },
  {
   "cell_type": "code",
   "execution_count": null,
   "id": "three-identity",
   "metadata": {},
   "outputs": [],
   "source": [
    "backend = provider.get_backend('ibmq_casablanca')\n",
    "backend_name = 'Casablanca'\n",
    "\n",
    "time = \"2021.04.26\"\n",
    "n=7\n",
    "shots = 8192\n",
    "\n",
    "filename = \"Casablanca0\"\n",
    "qubits = np.array([0,1,3,5])"
   ]
  },
  {
   "cell_type": "code",
   "execution_count": null,
   "id": "premium-table",
   "metadata": {
    "scrolled": true
   },
   "outputs": [],
   "source": [
    "circ,qreg,creg = circ_maker(n = n, qubits=qubits, f =False)\n",
    "initial_layout = {\n",
    "    qreg[0]: 0,\n",
    "    qreg[1]: 1,\n",
    "    qreg[2]: 2,\n",
    "    qreg[3]: 3,\n",
    "    qreg[4]: 4,\n",
    "    qreg[5]: 5,\n",
    "    qreg[6]: 6,   \n",
    "}\n",
    "\n",
    "tr_circ = transpile(circ ,backend = backend, optimization_level = 3, initial_layout = initial_layout)\n",
    "\n",
    "tr_circ.draw()"
   ]
  },
  {
   "cell_type": "code",
   "execution_count": null,
   "id": "improved-healing",
   "metadata": {
    "scrolled": true
   },
   "outputs": [],
   "source": [
    "circ.draw()"
   ]
  },
  {
   "cell_type": "code",
   "execution_count": null,
   "id": "sonic-checklist",
   "metadata": {},
   "outputs": [],
   "source": [
    "tr_circ.measure(qubits,[0,1,2,3])"
   ]
  },
  {
   "cell_type": "code",
   "execution_count": null,
   "id": "collect-chambers",
   "metadata": {},
   "outputs": [],
   "source": [
    "job = execute(tr_circ, backend = backend, shots = shots, optimization_level=0)\n",
    "direct_counts = job.result().get_counts()\n",
    "\n",
    "mitigated_counts, meas_filter  = mitigation(backend = backend, n=n, qubits = qubits, \n",
    "                                            shots = shots, direct_counts = direct_counts)"
   ]
  },
  {
   "cell_type": "code",
   "execution_count": null,
   "id": "resident-catalog",
   "metadata": {},
   "outputs": [],
   "source": [
    "class_fid(direct_counts, comp_to_Cab=True)"
   ]
  },
  {
   "cell_type": "code",
   "execution_count": null,
   "id": "realistic-retro",
   "metadata": {},
   "outputs": [],
   "source": [
    "class_fid(mitigated_counts, comp_to_Cab=True)"
   ]
  },
  {
   "cell_type": "code",
   "execution_count": null,
   "id": "dirty-halloween",
   "metadata": {},
   "outputs": [],
   "source": [
    "saver(filename = filename, time=time,backend_name = backend_name, shots = shots, qubits = qubits,\n",
    "     direct_counts=direct_counts, mitigated_counts=mitigated_counts, meas_filter=meas_filter)"
   ]
  },
  {
   "cell_type": "markdown",
   "id": "breathing-documentary",
   "metadata": {},
   "source": [
    "## Athens"
   ]
  },
  {
   "cell_type": "code",
   "execution_count": null,
   "id": "saving-westminster",
   "metadata": {},
   "outputs": [],
   "source": [
    "backend = provider.get_backend('ibmq_athens')\n",
    "backend_name = 'Athens'\n",
    "\n",
    "time = \"2021.04.23\"\n",
    "n=5\n",
    "shots = 8192\n",
    "\n",
    "filename = \"Athens3\"\n",
    "qubits = np.array([3,2,1,0])"
   ]
  },
  {
   "cell_type": "code",
   "execution_count": null,
   "id": "focal-polish",
   "metadata": {
    "scrolled": true
   },
   "outputs": [],
   "source": [
    "circ,qreg,creg = circ_maker(n = n, qubits=qubits, f =False)\n",
    "\n",
    "initial_layout = {\n",
    "    qreg[0]: 0,\n",
    "    qreg[1]: 1,\n",
    "    qreg[2]: 2,\n",
    "    qreg[3]: 3,\n",
    "    qreg[4]: 4,  \n",
    "}\n",
    "\n",
    "\n",
    "\n",
    "tr_circ = transpile(circ ,backend = backend, optimization_level = 3, initial_layout=initial_layout)\n",
    "\n",
    "tr_circ.draw()"
   ]
  },
  {
   "cell_type": "code",
   "execution_count": null,
   "id": "industrial-trash",
   "metadata": {
    "scrolled": true
   },
   "outputs": [],
   "source": [
    "circ.draw()"
   ]
  },
  {
   "cell_type": "code",
   "execution_count": null,
   "id": "ordered-suggestion",
   "metadata": {},
   "outputs": [],
   "source": [
    "tr_circ.measure(qubits,[0,1,2,3])"
   ]
  },
  {
   "cell_type": "code",
   "execution_count": null,
   "id": "awful-percentage",
   "metadata": {},
   "outputs": [],
   "source": [
    "job = execute(tr_circ, backend = backend, shots = shots, optimization_level=0)\n",
    "direct_counts = job.result().get_counts()\n",
    "\n",
    "mitigated_counts, meas_filter  = mitigation(backend = backend, n=n, qubits = qubits, \n",
    "                                            shots = shots, direct_counts = direct_counts)"
   ]
  },
  {
   "cell_type": "code",
   "execution_count": null,
   "id": "organic-brunswick",
   "metadata": {},
   "outputs": [],
   "source": [
    "class_fid(direct_counts, comp_to_Cab=True)"
   ]
  },
  {
   "cell_type": "code",
   "execution_count": null,
   "id": "vocational-exhaust",
   "metadata": {},
   "outputs": [],
   "source": [
    "class_fid(mitigated_counts, comp_to_Cab=True)"
   ]
  },
  {
   "cell_type": "code",
   "execution_count": null,
   "id": "focused-burlington",
   "metadata": {},
   "outputs": [],
   "source": []
  },
  {
   "cell_type": "code",
   "execution_count": null,
   "id": "mexican-example",
   "metadata": {},
   "outputs": [],
   "source": [
    "saver(filename = filename, time=time,backend_name = backend_name, shots = shots, qubits = qubits,\n",
    "     direct_counts=direct_counts, mitigated_counts=mitigated_counts, meas_filter=meas_filter)"
   ]
  },
  {
   "cell_type": "markdown",
   "id": "homeless-sharp",
   "metadata": {},
   "source": [
    "<style type=\"text/css\">\n",
    ".tg  {border-collapse:collapse;border-spacing:0;}\n",
    ".tg td{border-color:black;border-style:solid;border-width:1px;font-family:Arial, sans-serif;font-size:14px;\n",
    "  overflow:hidden;padding:10px 5px;word-break:normal;}\n",
    ".tg th{border-color:black;border-style:solid;border-width:1px;font-family:Arial, sans-serif;font-size:14px;\n",
    "  font-weight:normal;overflow:hidden;padding:10px 5px;word-break:normal;}\n",
    ".tg .tg-c3ow{border-color:inherit;text-align:center;vertical-align:top}\n",
    "</style>\n",
    "<table class=\"tg\">\n",
    "<thead>\n",
    "  <tr>\n",
    "    <th class=\"tg-c3ow\" rowspan=\"2\">qubits</th>\n",
    "    <th class=\"tg-c3ow\" colspan=\"2\">old<br></th>\n",
    "    <th class=\"tg-c3ow\" colspan=\"2\">new</th>\n",
    "  </tr>\n",
    "  <tr>\n",
    "    <td class=\"tg-c3ow\">direct</td>\n",
    "    <td class=\"tg-c3ow\">mitigated</td>\n",
    "    <td class=\"tg-c3ow\">direct</td>\n",
    "    <td class=\"tg-c3ow\">mitigated</td>\n",
    "  </tr>\n",
    "</thead>\n",
    "<tbody>\n",
    "  <tr>\n",
    "    <td class=\"tg-c3ow\">0-1-2-3</td>\n",
    "    <td class=\"tg-c3ow\">0.8657</td>\n",
    "    <td class=\"tg-c3ow\">0.8984</td>\n",
    "    <td class=\"tg-c3ow\">0.8852</td>\n",
    "    <td class=\"tg-c3ow\">0.9149</td>\n",
    "  </tr>\n",
    "  <tr>\n",
    "    <td class=\"tg-c3ow\">1-2-3-4</td>\n",
    "    <td class=\"tg-c3ow\">0.8666</td>\n",
    "    <td class=\"tg-c3ow\">0.9123</td>\n",
    "    <td class=\"tg-c3ow\">0.8972</td>\n",
    "    <td class=\"tg-c3ow\">0.9278</td>\n",
    "  </tr>\n",
    "  <tr>\n",
    "    <td class=\"tg-c3ow\">3-2-1-0</td>\n",
    "    <td class=\"tg-c3ow\">0.853</td>\n",
    "    <td class=\"tg-c3ow\">0.8877</td>\n",
    "    <td class=\"tg-c3ow\">0.8767</td>\n",
    "    <td class=\"tg-c3ow\">0.907</td>\n",
    "  </tr>\n",
    "  <tr>\n",
    "    <td class=\"tg-c3ow\">4-3-2-1</td>\n",
    "    <td class=\"tg-c3ow\">0.8417</td>\n",
    "    <td class=\"tg-c3ow\">0.8802</td>\n",
    "    <td class=\"tg-c3ow\">0.8958</td>\n",
    "    <td class=\"tg-c3ow\">0.926</td>\n",
    "  </tr>\n",
    "</tbody>\n",
    "</table>"
   ]
  },
  {
   "cell_type": "markdown",
   "id": "thick-robert",
   "metadata": {},
   "source": [
    "## Santiago"
   ]
  },
  {
   "cell_type": "code",
   "execution_count": null,
   "id": "prescription-soundtrack",
   "metadata": {},
   "outputs": [],
   "source": [
    "backend = provider.get_backend('ibmq_santiago')\n",
    "backend_name = 'Santiago'\n",
    "\n",
    "time = \"2021.04.25\"\n",
    "n=5\n",
    "shots = 8192\n",
    "\n",
    "filename = \"Santiago4\"\n",
    "qubits = np.array([4,3,2,1])"
   ]
  },
  {
   "cell_type": "code",
   "execution_count": null,
   "id": "instant-folks",
   "metadata": {
    "scrolled": true
   },
   "outputs": [],
   "source": [
    "circ.draw()"
   ]
  },
  {
   "cell_type": "code",
   "execution_count": null,
   "id": "expensive-newcastle",
   "metadata": {
    "scrolled": true
   },
   "outputs": [],
   "source": [
    "circ,qreg,creg = circ_maker(n = n, qubits=qubits, f =False)\n",
    "tr_circ = transpile(circ ,backend = backend, optimization_level = 3)\n",
    "\n",
    "tr_circ.draw()"
   ]
  },
  {
   "cell_type": "code",
   "execution_count": null,
   "id": "ranging-panama",
   "metadata": {},
   "outputs": [],
   "source": [
    "tr_circ.measure(qubits,[0,1,2,3])"
   ]
  },
  {
   "cell_type": "code",
   "execution_count": null,
   "id": "fresh-chile",
   "metadata": {},
   "outputs": [],
   "source": [
    "job = execute(tr_circ, backend = backend, shots = shots, optimization_level=0)\n",
    "direct_counts = job.result().get_counts()\n",
    "\n",
    "mitigated_counts, meas_filter  = mitigation(backend = backend, n=n, qubits = qubits, \n",
    "                                            shots = shots, direct_counts = direct_counts)"
   ]
  },
  {
   "cell_type": "code",
   "execution_count": null,
   "id": "rental-newfoundland",
   "metadata": {},
   "outputs": [],
   "source": [
    "class_fid(direct_counts, comp_to_Cab=True)"
   ]
  },
  {
   "cell_type": "code",
   "execution_count": null,
   "id": "prostate-violin",
   "metadata": {},
   "outputs": [],
   "source": [
    "class_fid(mitigated_counts, comp_to_Cab=True)"
   ]
  },
  {
   "cell_type": "code",
   "execution_count": null,
   "id": "compatible-spray",
   "metadata": {},
   "outputs": [],
   "source": [
    "saver(filename = filename, time=time,backend_name = backend_name, shots = shots, qubits = qubits,\n",
    "     direct_counts=direct_counts, mitigated_counts=mitigated_counts, meas_filter=meas_filter)"
   ]
  },
  {
   "cell_type": "markdown",
   "id": "green-tobacco",
   "metadata": {},
   "source": [
    "## Rome"
   ]
  },
  {
   "cell_type": "code",
   "execution_count": null,
   "id": "lesbian-reason",
   "metadata": {},
   "outputs": [],
   "source": [
    "backend = provider.get_backend('ibmq_rome')\n",
    "backend_name = 'Rome'\n",
    "\n",
    "time = \"2021.04.26\"\n",
    "n=5\n",
    "shots = 8192\n",
    "\n",
    "filename = \"Rome4\"\n",
    "qubits = np.array([4,3,2,1])"
   ]
  },
  {
   "cell_type": "code",
   "execution_count": null,
   "id": "visible-spencer",
   "metadata": {
    "scrolled": true
   },
   "outputs": [],
   "source": [
    "circ,qreg,creg = circ_maker(n = n, qubits=qubits, f =False)\n",
    "tr_circ = transpile(circ ,backend = backend, optimization_level = 3)\n",
    "\n",
    "tr_circ.draw()"
   ]
  },
  {
   "cell_type": "code",
   "execution_count": null,
   "id": "marine-effects",
   "metadata": {
    "scrolled": true
   },
   "outputs": [],
   "source": [
    "circ.draw()"
   ]
  },
  {
   "cell_type": "code",
   "execution_count": null,
   "id": "urban-royalty",
   "metadata": {},
   "outputs": [],
   "source": [
    "tr_circ.measure(qubits,[0,1,2,3])"
   ]
  },
  {
   "cell_type": "code",
   "execution_count": null,
   "id": "stupid-metallic",
   "metadata": {},
   "outputs": [],
   "source": [
    "job = execute(tr_circ, backend = backend, shots = shots, optimization_level=0)\n",
    "direct_counts = job.result().get_counts()\n",
    "\n",
    "mitigated_counts, meas_filter  = mitigation(backend = backend, n=n, qubits = qubits, \n",
    "                                            shots = shots, direct_counts = direct_counts)"
   ]
  },
  {
   "cell_type": "code",
   "execution_count": null,
   "id": "received-breach",
   "metadata": {},
   "outputs": [],
   "source": [
    "class_fid(direct_counts, comp_to_Cab=True)"
   ]
  },
  {
   "cell_type": "code",
   "execution_count": null,
   "id": "joint-third",
   "metadata": {},
   "outputs": [],
   "source": [
    "class_fid(mitigated_counts, comp_to_Cab=True)"
   ]
  },
  {
   "cell_type": "code",
   "execution_count": null,
   "id": "false-spyware",
   "metadata": {},
   "outputs": [],
   "source": [
    "saver(filename = filename, time=time,backend_name = backend_name, shots = shots, qubits = qubits,\n",
    "     direct_counts=direct_counts, mitigated_counts=mitigated_counts, meas_filter=meas_filter)"
   ]
  },
  {
   "cell_type": "markdown",
   "id": "correct-voluntary",
   "metadata": {},
   "source": [
    "## Bogota"
   ]
  },
  {
   "cell_type": "code",
   "execution_count": null,
   "id": "protected-friend",
   "metadata": {},
   "outputs": [],
   "source": [
    "backend = provider.get_backend('ibmq_bogota')\n",
    "backend_name = 'Bogota'\n",
    "\n",
    "time = \"2021.04.26\"\n",
    "n=5\n",
    "shots = 8192\n",
    "\n",
    "filename = \"Bogota4\"\n",
    "qubits = np.array([4,3,2,1])"
   ]
  },
  {
   "cell_type": "code",
   "execution_count": null,
   "id": "combined-observation",
   "metadata": {
    "scrolled": true
   },
   "outputs": [],
   "source": [
    "circ,qreg,creg = circ_maker(n = n, qubits=qubits, f =False)\n",
    "tr_circ = transpile(circ ,backend = backend, optimization_level = 3)\n",
    "\n",
    "tr_circ.draw()"
   ]
  },
  {
   "cell_type": "code",
   "execution_count": null,
   "id": "alike-guinea",
   "metadata": {
    "scrolled": true
   },
   "outputs": [],
   "source": [
    "circ.draw()"
   ]
  },
  {
   "cell_type": "code",
   "execution_count": null,
   "id": "protected-answer",
   "metadata": {},
   "outputs": [],
   "source": [
    "tr_circ.measure(qubits,[0,1,2,3])"
   ]
  },
  {
   "cell_type": "code",
   "execution_count": null,
   "id": "brave-champagne",
   "metadata": {},
   "outputs": [],
   "source": [
    "job = execute(tr_circ, backend = backend, shots = shots, optimization_level=0)\n",
    "direct_counts = job.result().get_counts()\n",
    "\n",
    "mitigated_counts, meas_filter  = mitigation(backend = backend, n=n, qubits = qubits, \n",
    "                                            shots = shots, direct_counts = direct_counts)"
   ]
  },
  {
   "cell_type": "code",
   "execution_count": null,
   "id": "unique-installation",
   "metadata": {},
   "outputs": [],
   "source": [
    "class_fid(direct_counts, comp_to_Cab=True)"
   ]
  },
  {
   "cell_type": "code",
   "execution_count": null,
   "id": "tutorial-academy",
   "metadata": {},
   "outputs": [],
   "source": [
    "class_fid(mitigated_counts, comp_to_Cab=True)"
   ]
  },
  {
   "cell_type": "code",
   "execution_count": null,
   "id": "quality-inspiration",
   "metadata": {},
   "outputs": [],
   "source": [
    "saver(filename = filename, time=time,backend_name = backend_name, shots = shots, qubits = qubits,\n",
    "     direct_counts=direct_counts, mitigated_counts=mitigated_counts, meas_filter=meas_filter)"
   ]
  },
  {
   "cell_type": "markdown",
   "id": "measured-extra",
   "metadata": {},
   "source": [
    "## Manila"
   ]
  },
  {
   "cell_type": "code",
   "execution_count": 17,
   "id": "ordinary-tumor",
   "metadata": {},
   "outputs": [],
   "source": [
    "backend = provider.get_backend('ibmq_manila')\n",
    "backend_name = 'Manila'\n",
    "\n",
    "time = \"2021.05.26\"\n",
    "n=5\n",
    "shots = 8192\n",
    "\n",
    "filename = \"Manila4\"\n",
    "qubits = np.array([4,3,2,1])"
   ]
  },
  {
   "cell_type": "code",
   "execution_count": 21,
   "id": "buried-frank",
   "metadata": {
    "scrolled": true
   },
   "outputs": [
    {
     "data": {
      "text/html": [
       "<pre style=\"word-wrap: normal;white-space: pre;background: #fff0;line-height: 1.1;font-family: &quot;Courier New&quot;,Courier,monospace\">global phase: π\n",
       "                                                                              »\n",
       "q160_0 -> 0 ──────────────────────────────────────────────────────────────────»\n",
       "            ┌────┐┌────────────┐┌────┐┌───────┐┌───┐┌────┐┌────────────┐┌────┐»\n",
       "q160_1 -> 1 ┤ √X ├┤ RZ(4.8823) ├┤ √X ├┤ RZ(π) ├┤ X ├┤ √X ├┤ RZ(4.5425) ├┤ √X ├»\n",
       "            ├───┬┘└────────────┘└────┘└───────┘└─┬─┘└────┘└────────────┘└────┘»\n",
       "q160_2 -> 2 ┤ X ├────────────────────────────────■────────────────────────────»\n",
       "            ├───┴┐ ┌──────────┐ ┌────┐┌───────┐┌───┐┌────┐ ┌──────────┐ ┌────┐»\n",
       "q160_3 -> 3 ┤ √X ├─┤ RZ(5π/4) ├─┤ √X ├┤ RZ(π) ├┤ X ├┤ √X ├─┤ RZ(7π/4) ├─┤ √X ├»\n",
       "            ├───┬┘ └──────────┘ └────┘└───────┘└─┬─┘└────┘ └──────────┘ └────┘»\n",
       "q160_4 -> 4 ┤ X ├────────────────────────────────■────────────────────────────»\n",
       "            └───┘                                                             »\n",
       "      c5: 4/══════════════════════════════════════════════════════════════════»\n",
       "                                                                              »\n",
       "«                                                                 »\n",
       "«q160_0 -> 0 ─────────────────────────────────────────────────────»\n",
       "«                                                                 »\n",
       "«q160_1 -> 1 ──■──────────────────────────────────────────────────»\n",
       "«            ┌─┴─┐           ┌────┐┌────────────┐┌────┐┌───┐┌────┐»\n",
       "«q160_2 -> 2 ┤ X ├─────■─────┤ √X ├┤ RZ(3.7571) ├┤ √X ├┤ X ├┤ √X ├»\n",
       "«            └───┘   ┌─┴─┐   └────┘└────────────┘└────┘└─┬─┘└────┘»\n",
       "«q160_3 -> 3 ──■─────┤ X ├───────────────────────────────■────────»\n",
       "«            ┌─┴─┐┌──┴───┴──┐┌────┐ ┌──────────┐                  »\n",
       "«q160_4 -> 4 ┤ X ├┤ RZ(π/2) ├┤ √X ├─┤ RZ(3π/2) ├──────────────────»\n",
       "«            └───┘└─────────┘└────┘ └──────────┘                  »\n",
       "«      c5: 4/═════════════════════════════════════════════════════»\n",
       "«                                                                 »\n",
       "«                                                                 »\n",
       "«q160_0 -> 0 ─────────────────────────────────────────────────────»\n",
       "«                                                 ┌────────┐┌────┐»\n",
       "«q160_1 -> 1 ──────────────────────────────■──────┤ RZ(-π) ├┤ √X ├»\n",
       "«            ┌────────────┐┌────┐        ┌─┴─┐    └────────┘└────┘»\n",
       "«q160_2 -> 2 ┤ RZ(3.7571) ├┤ √X ├──■─────┤ X ├────────────────────»\n",
       "«            └────────────┘└────┘┌─┴─┐┌──┴───┴───┐  ┌────┐  ┌────┐»\n",
       "«q160_3 -> 3 ────────────────────┤ X ├┤ RZ(-π/2) ├──┤ √X ├──┤ √X ├»\n",
       "«                                └───┘└──────────┘  └────┘  └────┘»\n",
       "«q160_4 -> 4 ─────────────────────────────────────────────────────»\n",
       "«                                                                 »\n",
       "«      c5: 4/═════════════════════════════════════════════════════»\n",
       "«                                                                 »\n",
       "«                                                                   »\n",
       "«q160_0 -> 0 ───────────────────────────────────────────────────────»\n",
       "«            ┌────────────┐┌────┐ ┌───────┐  ┌───┐  ┌────────┐┌────┐»\n",
       "«q160_1 -> 1 ┤ RZ(3.6652) ├┤ √X ├─┤ RZ(π) ├──┤ X ├──┤ RZ(-π) ├┤ √X ├»\n",
       "«            └────────────┘└────┘ └───────┘  └─┬─┘  └────────┘└────┘»\n",
       "«q160_2 -> 2 ──────────────────────────────────■────────────────────»\n",
       "«             ┌──────────┐          ┌────┐   ┌────┐ ┌───────┐       »\n",
       "«q160_3 -> 3 ─┤ RZ(3π/2) ├───■──────┤ √X ├───┤ √X ├─┤ RZ(π) ├───────»\n",
       "«             └──────────┘ ┌─┴─┐ ┌──┴────┴──┐├────┤┌┴───────┴┐      »\n",
       "«q160_4 -> 4 ──────────────┤ X ├─┤ RZ(3π/2) ├┤ √X ├┤ RZ(π/2) ├──────»\n",
       "«                          └───┘ └──────────┘└────┘└─────────┘      »\n",
       "«      c5: 4/═══════════════════════════════════════════════════════»\n",
       "«                                                                   »\n",
       "«                                                                             »\n",
       "«q160_0 -> 0 ─────────────────────────────────────────────────────────────────»\n",
       "«            ┌────────────┐┌────┐┌───────┐                                    »\n",
       "«q160_1 -> 1 ┤ RZ(3.6652) ├┤ √X ├┤ RZ(π) ├──■─────────────────────────────────»\n",
       "«            └────────────┘└────┘└───────┘┌─┴─┐     ┌────┐┌────────────┐┌────┐»\n",
       "«q160_2 -> 2 ─────────────────────────────┤ X ├──■──┤ √X ├┤ RZ(3.7571) ├┤ √X ├»\n",
       "«                                         └───┘┌─┴─┐└────┘└────────────┘└────┘»\n",
       "«q160_3 -> 3 ──────────────────────────────────┤ X ├──────────────────────────»\n",
       "«                                              └───┘                          »\n",
       "«q160_4 -> 4 ─────────────────────────────────────────────────────────────────»\n",
       "«                                                                             »\n",
       "«      c5: 4/═════════════════════════════════════════════════════════════════»\n",
       "«                                                                             »\n",
       "«                                                \n",
       "«q160_0 -> 0 ────────────────────────────────────\n",
       "«                                                \n",
       "«q160_1 -> 1 ────────────────────────────────────\n",
       "«            ┌───┐┌────┐┌────────────┐┌────┐     \n",
       "«q160_2 -> 2 ┤ X ├┤ √X ├┤ RZ(3.7571) ├┤ √X ├──■──\n",
       "«            └─┬─┘└────┘└────────────┘└────┘┌─┴─┐\n",
       "«q160_3 -> 3 ──■────────────────────────────┤ X ├\n",
       "«                                           └───┘\n",
       "«q160_4 -> 4 ────────────────────────────────────\n",
       "«                                                \n",
       "«      c5: 4/════════════════════════════════════\n",
       "«                                                </pre>"
      ],
      "text/plain": [
       "global phase: π\n",
       "                                                                              »\n",
       "q160_0 -> 0 ──────────────────────────────────────────────────────────────────»\n",
       "            ┌────┐┌────────────┐┌────┐┌───────┐┌───┐┌────┐┌────────────┐┌────┐»\n",
       "q160_1 -> 1 ┤ √X ├┤ RZ(4.8823) ├┤ √X ├┤ RZ(π) ├┤ X ├┤ √X ├┤ RZ(4.5425) ├┤ √X ├»\n",
       "            ├───┬┘└────────────┘└────┘└───────┘└─┬─┘└────┘└────────────┘└────┘»\n",
       "q160_2 -> 2 ┤ X ├────────────────────────────────■────────────────────────────»\n",
       "            ├───┴┐ ┌──────────┐ ┌────┐┌───────┐┌───┐┌────┐ ┌──────────┐ ┌────┐»\n",
       "q160_3 -> 3 ┤ √X ├─┤ RZ(5π/4) ├─┤ √X ├┤ RZ(π) ├┤ X ├┤ √X ├─┤ RZ(7π/4) ├─┤ √X ├»\n",
       "            ├───┬┘ └──────────┘ └────┘└───────┘└─┬─┘└────┘ └──────────┘ └────┘»\n",
       "q160_4 -> 4 ┤ X ├────────────────────────────────■────────────────────────────»\n",
       "            └───┘                                                             »\n",
       "      c5: 4/══════════════════════════════════════════════════════════════════»\n",
       "                                                                              »\n",
       "«                                                                 »\n",
       "«q160_0 -> 0 ─────────────────────────────────────────────────────»\n",
       "«                                                                 »\n",
       "«q160_1 -> 1 ──■──────────────────────────────────────────────────»\n",
       "«            ┌─┴─┐           ┌────┐┌────────────┐┌────┐┌───┐┌────┐»\n",
       "«q160_2 -> 2 ┤ X ├─────■─────┤ √X ├┤ RZ(3.7571) ├┤ √X ├┤ X ├┤ √X ├»\n",
       "«            └───┘   ┌─┴─┐   └────┘└────────────┘└────┘└─┬─┘└────┘»\n",
       "«q160_3 -> 3 ──■─────┤ X ├───────────────────────────────■────────»\n",
       "«            ┌─┴─┐┌──┴───┴──┐┌────┐ ┌──────────┐                  »\n",
       "«q160_4 -> 4 ┤ X ├┤ RZ(π/2) ├┤ √X ├─┤ RZ(3π/2) ├──────────────────»\n",
       "«            └───┘└─────────┘└────┘ └──────────┘                  »\n",
       "«      c5: 4/═════════════════════════════════════════════════════»\n",
       "«                                                                 »\n",
       "«                                                                 »\n",
       "«q160_0 -> 0 ─────────────────────────────────────────────────────»\n",
       "«                                                 ┌────────┐┌────┐»\n",
       "«q160_1 -> 1 ──────────────────────────────■──────┤ RZ(-π) ├┤ √X ├»\n",
       "«            ┌────────────┐┌────┐        ┌─┴─┐    └────────┘└────┘»\n",
       "«q160_2 -> 2 ┤ RZ(3.7571) ├┤ √X ├──■─────┤ X ├────────────────────»\n",
       "«            └────────────┘└────┘┌─┴─┐┌──┴───┴───┐  ┌────┐  ┌────┐»\n",
       "«q160_3 -> 3 ────────────────────┤ X ├┤ RZ(-π/2) ├──┤ √X ├──┤ √X ├»\n",
       "«                                └───┘└──────────┘  └────┘  └────┘»\n",
       "«q160_4 -> 4 ─────────────────────────────────────────────────────»\n",
       "«                                                                 »\n",
       "«      c5: 4/═════════════════════════════════════════════════════»\n",
       "«                                                                 »\n",
       "«                                                                   »\n",
       "«q160_0 -> 0 ───────────────────────────────────────────────────────»\n",
       "«            ┌────────────┐┌────┐ ┌───────┐  ┌───┐  ┌────────┐┌────┐»\n",
       "«q160_1 -> 1 ┤ RZ(3.6652) ├┤ √X ├─┤ RZ(π) ├──┤ X ├──┤ RZ(-π) ├┤ √X ├»\n",
       "«            └────────────┘└────┘ └───────┘  └─┬─┘  └────────┘└────┘»\n",
       "«q160_2 -> 2 ──────────────────────────────────■────────────────────»\n",
       "«             ┌──────────┐          ┌────┐   ┌────┐ ┌───────┐       »\n",
       "«q160_3 -> 3 ─┤ RZ(3π/2) ├───■──────┤ √X ├───┤ √X ├─┤ RZ(π) ├───────»\n",
       "«             └──────────┘ ┌─┴─┐ ┌──┴────┴──┐├────┤┌┴───────┴┐      »\n",
       "«q160_4 -> 4 ──────────────┤ X ├─┤ RZ(3π/2) ├┤ √X ├┤ RZ(π/2) ├──────»\n",
       "«                          └───┘ └──────────┘└────┘└─────────┘      »\n",
       "«      c5: 4/═══════════════════════════════════════════════════════»\n",
       "«                                                                   »\n",
       "«                                                                             »\n",
       "«q160_0 -> 0 ─────────────────────────────────────────────────────────────────»\n",
       "«            ┌────────────┐┌────┐┌───────┐                                    »\n",
       "«q160_1 -> 1 ┤ RZ(3.6652) ├┤ √X ├┤ RZ(π) ├──■─────────────────────────────────»\n",
       "«            └────────────┘└────┘└───────┘┌─┴─┐     ┌────┐┌────────────┐┌────┐»\n",
       "«q160_2 -> 2 ─────────────────────────────┤ X ├──■──┤ √X ├┤ RZ(3.7571) ├┤ √X ├»\n",
       "«                                         └───┘┌─┴─┐└────┘└────────────┘└────┘»\n",
       "«q160_3 -> 3 ──────────────────────────────────┤ X ├──────────────────────────»\n",
       "«                                              └───┘                          »\n",
       "«q160_4 -> 4 ─────────────────────────────────────────────────────────────────»\n",
       "«                                                                             »\n",
       "«      c5: 4/═════════════════════════════════════════════════════════════════»\n",
       "«                                                                             »\n",
       "«                                                \n",
       "«q160_0 -> 0 ────────────────────────────────────\n",
       "«                                                \n",
       "«q160_1 -> 1 ────────────────────────────────────\n",
       "«            ┌───┐┌────┐┌────────────┐┌────┐     \n",
       "«q160_2 -> 2 ┤ X ├┤ √X ├┤ RZ(3.7571) ├┤ √X ├──■──\n",
       "«            └─┬─┘└────┘└────────────┘└────┘┌─┴─┐\n",
       "«q160_3 -> 3 ──■────────────────────────────┤ X ├\n",
       "«                                           └───┘\n",
       "«q160_4 -> 4 ────────────────────────────────────\n",
       "«                                                \n",
       "«      c5: 4/════════════════════════════════════\n",
       "«                                                "
      ]
     },
     "execution_count": 21,
     "metadata": {},
     "output_type": "execute_result"
    }
   ],
   "source": [
    "circ,qreg,creg = circ_maker(n = n, qubits=qubits, f =False)\n",
    "tr_circ = transpile(circ ,backend = backend, optimization_level = 3)\n",
    "\n",
    "tr_circ.draw()"
   ]
  },
  {
   "cell_type": "code",
   "execution_count": 22,
   "id": "rotary-beauty",
   "metadata": {},
   "outputs": [
    {
     "data": {
      "text/plain": [
       "<qiskit.circuit.instructionset.InstructionSet at 0x7f638e9a1220>"
      ]
     },
     "execution_count": 22,
     "metadata": {},
     "output_type": "execute_result"
    }
   ],
   "source": [
    "tr_circ.measure(qubits,[0,1,2,3])"
   ]
  },
  {
   "cell_type": "code",
   "execution_count": 23,
   "id": "seeing-circular",
   "metadata": {},
   "outputs": [],
   "source": [
    "job = execute(tr_circ, backend = backend, shots = shots, optimization_level=0)\n",
    "direct_counts = job.result().get_counts()\n",
    "\n",
    "mitigated_counts, meas_filter  = mitigation(backend = backend, n=n, qubits = qubits, \n",
    "                                            shots = shots, direct_counts = direct_counts)"
   ]
  },
  {
   "cell_type": "code",
   "execution_count": 24,
   "id": "nearby-genealogy",
   "metadata": {},
   "outputs": [
    {
     "data": {
      "text/plain": [
       "0.8788736009259748"
      ]
     },
     "execution_count": 24,
     "metadata": {},
     "output_type": "execute_result"
    }
   ],
   "source": [
    "class_fid(direct_counts, comp_to_Cab=True)"
   ]
  },
  {
   "cell_type": "code",
   "execution_count": 25,
   "id": "popular-honolulu",
   "metadata": {},
   "outputs": [
    {
     "data": {
      "text/plain": [
       "0.911096674077179"
      ]
     },
     "execution_count": 25,
     "metadata": {},
     "output_type": "execute_result"
    }
   ],
   "source": [
    "class_fid(mitigated_counts, comp_to_Cab=True)"
   ]
  },
  {
   "cell_type": "code",
   "execution_count": 26,
   "id": "private-reynolds",
   "metadata": {},
   "outputs": [],
   "source": [
    "saver(filename = filename, time=time,backend_name = backend_name, shots = shots, qubits = qubits,\n",
    "     direct_counts=direct_counts, mitigated_counts=mitigated_counts, meas_filter=meas_filter)"
   ]
  },
  {
   "cell_type": "code",
   "execution_count": null,
   "id": "mediterranean-conference",
   "metadata": {},
   "outputs": [],
   "source": []
  }
 ],
 "metadata": {
  "kernelspec": {
   "display_name": "Python 3 (ipykernel)",
   "language": "python",
   "name": "python3"
  },
  "language_info": {
   "codemirror_mode": {
    "name": "ipython",
    "version": 3
   },
   "file_extension": ".py",
   "mimetype": "text/x-python",
   "name": "python",
   "nbconvert_exporter": "python",
   "pygments_lexer": "ipython3",
   "version": "3.9.7"
  }
 },
 "nbformat": 4,
 "nbformat_minor": 5
}
