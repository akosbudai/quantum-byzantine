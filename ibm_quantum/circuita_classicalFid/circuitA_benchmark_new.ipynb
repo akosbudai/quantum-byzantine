{
 "cells": [
  {
   "cell_type": "markdown",
   "id": "17675819-4d14-4d10-9395-7d42c8128554",
   "metadata": {},
   "source": [
    "# Circuit A classical fidelity"
   ]
  },
  {
   "cell_type": "code",
   "execution_count": 2,
   "id": "106d15e7-b5e4-4cfe-8af4-e040a06be65e",
   "metadata": {
    "tags": []
   },
   "outputs": [],
   "source": [
    "import numpy as np\n",
    "from qiskit import *\n",
    "from qiskit.visualization import *\n",
    "from qiskit import QuantumCircuit, ClassicalRegister, QuantumRegister\n",
    "from qiskit import execute, BasicAer\n",
    "from qiskit.compiler import transpile\n",
    "from qiskit.quantum_info.operators import Operator, Pauli\n",
    "from qiskit.quantum_info import process_fidelity\n",
    "from qiskit.extensions import RXGate, XGate, CXGate\n",
    "from qiskit.utils.mitigation import (complete_meas_cal,CompleteMeasFitter)\n",
    "import qiskit_ibm_provider"
   ]
  },
  {
   "cell_type": "code",
   "execution_count": 36,
   "id": "59b8dcfe-26f9-455f-93d2-a3890a20a615",
   "metadata": {
    "tags": []
   },
   "outputs": [],
   "source": [
    "def A_gate(theta, qubits, circ, phi=0, l=0, f=True):\n",
    "    '''Adds the gate to the circuit circ'''\n",
    "    a = qubits[0] # first qubit\n",
    "    b = qubits[1] # second qubit\n",
    "    \n",
    "    if f:\n",
    "        circ.cx(b,a) # adding the first CNOT, for which qubit b is the control and qubit a is the target\n",
    "    else: \n",
    "        circ.x(a)\n",
    "    # now comes the R dagger gate which has two parameters: theta and phi\n",
    "    # but in our case phi is always zero\n",
    "    ry1 = f'Y_{str(l)}^{-1}'\n",
    "    ry  = f'Y_{str(l)}'\n",
    "    rz = f'Z_{str(l)}'\n",
    "    rz1 = f'Z_{str(l)}^{-1}'\n",
    "    circ.ry(-(theta+np.pi/2),b, label=ry1) # rotation around the y axis\n",
    "    circ.rz(-(phi+np.pi),b) # rotation around the z axis \n",
    "    \n",
    "    # now the second CNOT for which target: b, control:a\n",
    "    circ.cx(a,b)\n",
    "    \n",
    "    # and now the R gate for which we use the same two parameters\n",
    "    circ.rz((phi+np.pi),b)\n",
    "    circ.ry((theta+np.pi/2),b, label = ry)\n",
    "    \n",
    "    #and the last CNOT\n",
    "    circ.cx(b,a)"
   ]
  },
  {
   "cell_type": "code",
   "execution_count": 20,
   "id": "87b80e3e-f9e8-4e71-8992-6f635f0ad892",
   "metadata": {
    "tags": []
   },
   "outputs": [],
   "source": [
    "def circ_maker(n, qubits, measure=False, f=True): \n",
    "    '''Creates the full quantum circuit'''\n",
    "    \n",
    "    theta1 = 3*np.pi/4\n",
    "    theta2 = -2.97167\n",
    "    theta3 = -2.18628 \n",
    "    theta4 = np.pi\n",
    "    theta5 = 5.23599\n",
    "    \n",
    "    a = qubits[0]\n",
    "    b = qubits[1]\n",
    "    c = qubits[2]\n",
    "    d = qubits[3]\n",
    "\n",
    "    qreg = QuantumRegister(n)\n",
    "    creg = ClassicalRegister(4)\n",
    "    circ = QuantumCircuit(qreg, creg)\n",
    "    circ.x(b)\n",
    "    circ.x(d)\n",
    "    \n",
    "    A_gate(theta=theta1, qubits=[a,b], circ=circ, l=1, f=f)\n",
    "    A_gate(theta=theta2, qubits=[c,d], circ=circ, l=2, f=f)\n",
    "    A_gate(theta=theta3, qubits=[b,c], circ=circ, l=3)\n",
    "    A_gate(theta=theta4, qubits=[a,b], circ=circ, l=4)\n",
    "    A_gate(theta=theta5, qubits=[c,d], circ=circ, l=5)\n",
    "    A_gate(theta=theta3, qubits=[b,c], circ=circ, l=3)\n",
    "\n",
    "    if measure:\n",
    "        circ.measure([a,b,c,d], [0,1,2,3])\n",
    "    else: \n",
    "        pass \n",
    "    \n",
    "    return circ, qreg, creg"
   ]
  },
  {
   "cell_type": "code",
   "execution_count": 21,
   "id": "ca17bced-c016-4b1f-93ae-b1a26298ff6f",
   "metadata": {
    "tags": []
   },
   "outputs": [],
   "source": [
    "def class_fid(dict1, dict2=None, comp_to_Cab=False):\n",
    "    '''Measures classical fidelity of measured state'''\n",
    "    \n",
    "    dict_perfect = {\n",
    "    \"0011\" : 1/3,\n",
    "    \"1100\" : 1/3,\n",
    "    \"0101\" : 1/12,\n",
    "    \"0110\" : 1/12,\n",
    "    \"1001\" : 1/12,\n",
    "    \"1010\" : 1/12\n",
    "    }\n",
    "    \n",
    "    if comp_to_Cab == True: \n",
    "        dict2 = dict_perfect\n",
    "    else: \n",
    "        pass\n",
    "    fid = 0 \n",
    "    len1 = 0\n",
    "    len2 = 0\n",
    "    for key in dict1: \n",
    "        len1 += dict1[key]\n",
    "    for key in dict2: \n",
    "        len2 += dict2[key]\n",
    "        \n",
    "    for key in dict1: \n",
    "        if key in dict2: \n",
    "            fid += (dict1[key]* dict2[key]/(len1*len2))**0.5\n",
    "        else: \n",
    "            pass\n",
    "    return fid"
   ]
  },
  {
   "cell_type": "code",
   "execution_count": 22,
   "id": "8478ebaa-162c-4d8d-a40e-82d105bb286c",
   "metadata": {
    "tags": []
   },
   "outputs": [],
   "source": [
    "def mitigation(backend, n, qubits, shots, direct_counts):\n",
    "    '''Calculates mitigated shot numbers'''\n",
    "   \n",
    "    qr = QuantumRegister(n)\n",
    "    meas_calibs, state_labels = complete_meas_cal(qubit_list=qubits, qr=qr, circlabel='mcal')\n",
    "    cal_job = execute(meas_calibs, backend=backend, shots=shots)\n",
    "    cal_results = cal_job.result()\n",
    "    meas_fitter = CompleteMeasFitter(cal_results, state_labels, circlabel='mcal')\n",
    "    meas_filter = meas_fitter.filter\n",
    "    mitigated_counts = meas_filter.apply(direct_counts) \n",
    "    \n",
    "    return mitigated_counts, meas_filter"
   ]
  },
  {
   "cell_type": "code",
   "execution_count": 23,
   "id": "35cb9246-2274-4afc-a231-d304e608a0cb",
   "metadata": {
    "tags": []
   },
   "outputs": [],
   "source": [
    "def saver(filename, backend_name, time, shots, qubits, direct_counts, mitigated_counts, meas_filter):\n",
    "    '''Saves data to file'''\n",
    "    \n",
    "    with open (filename+\".txt\", \"w\") as f: \n",
    "        f.write(\"Backend: \"+backend_name+\"\\n\")\n",
    "        f.write(\"date: \"+ str(time)+\"\\n\")\n",
    "        f.write(\"Qubits in use: \"+str(qubits)+\"\\n\")\n",
    "        f.write(\"Shots: \"+str(shots)+\"\\n\")\n",
    "        f.write(\"\\n\")\n",
    "        f.write(\"Classical fidelities:\"+\"\\n\")\n",
    "        f.write(\"\\t\"+\"direct: \"+str(class_fid(dict1=direct_counts, comp_to_Cab = True))+\"\\n\")\n",
    "        f.write(\"\\t\"+\"mitigated:\"+str(class_fid(dict1=mitigated_counts, comp_to_Cab=True))+\"\\n\")\n",
    "        f.write(\"Direct counts: \"+\"\\n\")\n",
    "        for key in direct_counts:\n",
    "            f.write(str(key)+\": \"+str(direct_counts[key])+\"\\n\")\n",
    "\n",
    "        f.write(\"Mitigated_counts: \"+\"\\n\")\n",
    "        for key in mitigated_counts:\n",
    "            f.write(str(key)+\": \"+str(mitigated_counts[key])+\"\\n\")\n",
    "                \n",
    "\n",
    "        f.write(\"Readout error mitigation matrix:\"+\"\\n\")\n",
    "        for line in meas_filter.cal_matrix:\n",
    "            f.write(str(line)+\"\\n\")"
   ]
  },
  {
   "cell_type": "markdown",
   "id": "ee31d663-8432-4ceb-ac06-be656b26f99d",
   "metadata": {},
   "source": [
    "## Test"
   ]
  },
  {
   "cell_type": "code",
   "execution_count": 37,
   "id": "be151bbb-b4b5-4f89-9af9-82adbcbaa0c8",
   "metadata": {
    "tags": []
   },
   "outputs": [],
   "source": [
    "backend = Aer.get_backend('qasm_simulator')\n",
    "backend_name = 'Aer qasm_simulator'\n",
    "time = \"2021.04.23\"\n",
    "n = 5\n",
    "shots = 8192\n",
    "qubits = np.array([0,1,2,3])"
   ]
  },
  {
   "cell_type": "code",
   "execution_count": 38,
   "id": "61f64da5-ec17-433e-9962-30f19ec5251b",
   "metadata": {
    "tags": []
   },
   "outputs": [
    {
     "data": {
      "image/png": "[encoded data removed]",
      "text/plain": [
       "<Figure size 2228.98x1120.39 with 1 Axes>"
      ]
     },
     "execution_count": 38,
     "metadata": {},
     "output_type": "execute_result"
    }
   ],
   "source": [
    "circ,qreg,creg = circ_maker(n=n, qubits=qubits, f=False)\n",
    "\n",
    "circ.draw()"
   ]
  },
  {
   "cell_type": "code",
   "execution_count": null,
   "id": "76335549-f038-4f6b-9689-6ddc5b97caf4",
   "metadata": {},
   "outputs": [],
   "source": [
    "circ.measure(qubits,[0,1,2,3]) # append the measurement operations to the circuit"
   ]
  },
  {
   "cell_type": "code",
   "execution_count": 43,
   "id": "11a63dd1-4c97-4411-b9d4-5ca335d2df79",
   "metadata": {
    "tags": []
   },
   "outputs": [],
   "source": [
    "job = execute(circ, backend=backend, shots=shots, optimization_level=0)\n",
    "direct_counts = job.result().get_counts()\n",
    "\n",
    "mitigated_counts, meas_filter  = mitigation(backend=backend, n=n, qubits=qubits, shots = shots,\n",
    "                                       direct_counts=direct_counts)"
   ]
  },
  {
   "cell_type": "code",
   "execution_count": 44,
   "id": "bacb6815-fb97-4abf-9166-d90b5dd2949b",
   "metadata": {
    "tags": []
   },
   "outputs": [
    {
     "data": {
      "text/plain": [
       "0.9999365761428909"
      ]
     },
     "execution_count": 44,
     "metadata": {},
     "output_type": "execute_result"
    }
   ],
   "source": [
    "class_fid(direct_counts, comp_to_Cab=True)"
   ]
  },
  {
   "cell_type": "code",
   "execution_count": 46,
   "id": "2b5114ed-4253-4597-9a63-4ba297cad4b0",
   "metadata": {
    "tags": []
   },
   "outputs": [],
   "source": [
    "saver(filename=\"Test\", time=time, backend_name=backend_name, shots=shots, qubits = qubits,\n",
    "     direct_counts=direct_counts, mitigated_counts=mitigated_counts, meas_filter=meas_filter)"
   ]
  },
  {
   "cell_type": "markdown",
   "id": "13e414a6-f64a-4f5f-9f93-e92676bba849",
   "metadata": {
    "tags": []
   },
   "source": [
    "## Main runs"
   ]
  },
  {
   "cell_type": "code",
   "execution_count": null,
   "id": "2970cfa5-5cd8-4466-b0aa-498bd9c01b43",
   "metadata": {},
   "outputs": [],
   "source": [
    "# change relevant data manually for each run\n",
    "backend = provider.get_backend('ibmq_casablanca')\n",
    "backend_name = 'Casablanca'\n",
    "\n",
    "time = \"2021.04.26\"\n",
    "n = 7\n",
    "shots = 8192\n",
    "\n",
    "filename = \"Casablanca0\"\n",
    "qubits = np.array([0,1,3,5])"
   ]
  },
  {
   "cell_type": "code",
   "execution_count": null,
   "id": "3145b224-ea86-4060-879b-82900db5f6fb",
   "metadata": {},
   "outputs": [],
   "source": [
    "circ, qreg, creg = circ_maker(n=n, qubits=qubits, f=False)\n",
    "initial_layout = {\n",
    "    qreg[0]: 0,\n",
    "    qreg[1]: 1,\n",
    "    qreg[2]: 2,\n",
    "    qreg[3]: 3,\n",
    "    qreg[4]: 4,\n",
    "    qreg[5]: 5,\n",
    "    qreg[6]: 6,   \n",
    "}\n",
    "\n",
    "tr_circ = transpile(circ ,backend=backend, optimization_level=3, initial_layout=initial_layout)\n",
    "\n",
    "tr_circ.draw()"
   ]
  },
  {
   "cell_type": "code",
   "execution_count": null,
   "id": "93476006-cc6b-457a-969d-0255ecee5620",
   "metadata": {},
   "outputs": [],
   "source": [
    "tr_circ.measure(qubits,[0,1,2,3])"
   ]
  },
  {
   "cell_type": "code",
   "execution_count": null,
   "id": "f9c5fce9-a5ae-48c5-8c16-ec66044607eb",
   "metadata": {},
   "outputs": [],
   "source": [
    "job = execute(tr_circ, backend=backend, shots=shots, optimization_level=0)\n",
    "direct_counts = job.result().get_counts()\n",
    "\n",
    "mitigated_counts, meas_filter = mitigation(backend=backend, n=n, qubits=qubits, \n",
    "                                            shots=shots, direct_counts=direct_counts)"
   ]
  },
  {
   "cell_type": "code",
   "execution_count": null,
   "id": "25e9e435-8b61-4047-90a1-0923fdf45c60",
   "metadata": {},
   "outputs": [],
   "source": [
    "class_fid(direct_counts, comp_to_Cab=True)"
   ]
  },
  {
   "cell_type": "code",
   "execution_count": null,
   "id": "75da24c8-30f0-46a9-ba43-ad91f97b297d",
   "metadata": {},
   "outputs": [],
   "source": [
    "class_fid(mitigated_counts, comp_to_Cab=True)"
   ]
  },
  {
   "cell_type": "code",
   "execution_count": null,
   "id": "ddb0465b-94d6-43ed-a877-aa169905751d",
   "metadata": {},
   "outputs": [],
   "source": [
    "saver(filename=filename, time=time,backend_name=backend_name, shots=shots, qubits=qubits,\n",
    "     direct_counts=direct_counts, mitigated_counts=mitigated_counts, meas_filter=meas_filter)"
   ]
  }
 ],
 "metadata": {
  "kernelspec": {
   "display_name": "Python 3 (ipykernel)",
   "language": "python",
   "name": "python3"
  },
  "language_info": {
   "codemirror_mode": {
    "name": "ipython",
    "version": 3
   },
   "file_extension": ".py",
   "mimetype": "text/x-python",
   "name": "python",
   "nbconvert_exporter": "python",
   "pygments_lexer": "ipython3",
   "version": "3.10.8"
  },
  "widgets": {
   "application/vnd.jupyter.widget-state+json": {
    "state": {},
    "version_major": 2,
    "version_minor": 0
   }
  }
 },
 "nbformat": 4,
 "nbformat_minor": 5
}
