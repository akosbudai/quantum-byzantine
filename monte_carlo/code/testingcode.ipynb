{
 "cells": [
  {
   "cell_type": "markdown",
   "id": "ef415d3a-aace-4714-95ab-5957b9c9ff90",
   "metadata": {},
   "source": [
    "# Test for the byzantine_code python code"
   ]
  },
  {
   "cell_type": "markdown",
   "id": "96ce756d-d54e-4cc5-af2d-e744d9905dee",
   "metadata": {},
   "source": [
    "#### Import the necessary packages"
   ]
  },
  {
   "cell_type": "code",
   "execution_count": 1,
   "id": "7204d5d2-c940-4fcc-b0f6-952fba8e67cf",
   "metadata": {},
   "outputs": [],
   "source": [
    "import byzantine_code as eqc\n",
    "import numpy as np\n",
    "import matplotlib.pyplot as plt"
   ]
  },
  {
   "cell_type": "markdown",
   "id": "606e8e77-9569-46af-926e-ef27659ce853",
   "metadata": {},
   "source": [
    "### Example: Monte-Carlo simulations\n",
    "\n",
    "Task: set up and carry out a Monte-Carlo simulation using the byzantine_code.py code."
   ]
  },
  {
   "cell_type": "code",
   "execution_count": 2,
   "id": "c0347691-b873-4f85-98ce-85b9a3ebd741",
   "metadata": {},
   "outputs": [],
   "source": [
    "#define the possible values of m (the number of states used)\n",
    "ms = np.arange(20,101,20)\n",
    "\n",
    "#number of trials in the simulation for each m\n",
    "N = 10000\n",
    "\n",
    "#define the parameters of the protocol\n",
    "mu = 0.272\n",
    "l = 0.94\n",
    "\n",
    "#define the faulty scenario:\n",
    "#0 == no faulty\n",
    "#1 == s faulty\n",
    "#2 == r0 faulty\n",
    "\n",
    "faulty = 0"
   ]
  },
  {
   "cell_type": "code",
   "execution_count": 3,
   "id": "1954c760-ca75-4d54-b5dc-f0a96a871889",
   "metadata": {
    "tags": []
   },
   "outputs": [],
   "source": [
    "#carry out the simulations for all the m values\n",
    "data = eqc.total_stats(N = N, ms = ms, faulty = faulty, mu = mu, l = l)"
   ]
  },
  {
   "cell_type": "code",
   "execution_count": 4,
   "id": "8abd9d61-3611-479c-a340-74bba7809cbd",
   "metadata": {},
   "outputs": [
    {
     "data": {
      "text/plain": [
       "<matplotlib.collections.PathCollection at 0x7f56bdfd3a90>"
      ]
     },
     "execution_count": 4,
     "metadata": {},
     "output_type": "execute_result"
    },
    {
     "data": {
      "image/png": "[encoded data removed]",
      "text/plain": [
       "<Figure size 640x480 with 1 Axes>"
      ]
     },
     "metadata": {},
     "output_type": "display_data"
    }
   ],
   "source": [
    "#plot the resulting probabilities\n",
    "plt.scatter(ms,data[:])"
   ]
  },
  {
   "cell_type": "markdown",
   "id": "8fa0756c-c0e2-4038-bbee-b06b8c3c2b6c",
   "metadata": {},
   "source": [
    "### Example: Evaluation of the analytical failure probabilities\n",
    "\n",
    "Task: obtain the upper bound for the failure probability using the byzantine_code.py code."
   ]
  },
  {
   "cell_type": "code",
   "execution_count": 5,
   "id": "a29d89f0-1699-4daf-9c1e-15bfced12fd8",
   "metadata": {},
   "outputs": [],
   "source": [
    "#define the parameters of the protocol\n",
    "mu = 0.272\n",
    "l = 0.94\n",
    "\n",
    "#set a value for m\n",
    "m = 500"
   ]
  },
  {
   "cell_type": "code",
   "execution_count": 6,
   "id": "28d05c86-7663-4037-b605-a42421585491",
   "metadata": {},
   "outputs": [],
   "source": [
    "sfaulty_upper = eqc.fprob_sfaulty(m = m, mu = mu, l = l)"
   ]
  },
  {
   "cell_type": "code",
   "execution_count": 7,
   "id": "5178a508-df73-4dcb-b539-e079c2be32d9",
   "metadata": {},
   "outputs": [
    {
     "name": "stdout",
     "output_type": "stream",
     "text": [
      "S faulty p_f upper bound:  0.003333354626947879\n"
     ]
    }
   ],
   "source": [
    "print(\"S faulty p_f upper bound: \", sfaulty_upper)"
   ]
  }
 ],
 "metadata": {
  "kernelspec": {
   "display_name": "Python 3 (ipykernel)",
   "language": "python",
   "name": "python3"
  },
  "language_info": {
   "codemirror_mode": {
    "name": "ipython",
    "version": 3
   },
   "file_extension": ".py",
   "mimetype": "text/x-python",
   "name": "python",
   "nbconvert_exporter": "python",
   "pygments_lexer": "ipython3",
   "version": "3.9.15"
  }
 },
 "nbformat": 4,
 "nbformat_minor": 5
}
