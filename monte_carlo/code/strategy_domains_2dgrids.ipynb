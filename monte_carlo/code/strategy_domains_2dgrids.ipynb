{
 "cells": [
  {
   "cell_type": "code",
   "execution_count": 11,
   "id": "774eb773-2019-4a7a-bc4a-c1a2e5eed593",
   "metadata": {},
   "outputs": [],
   "source": [
    "import matplotlib.pyplot as plt\n",
    "import numpy as np \n",
    "from pandas import DataFrame\n",
    "import seaborn as sns\n",
    "import matplotlib\n",
    "from matplotlib.colors import ListedColormap"
   ]
  },
  {
   "cell_type": "code",
   "execution_count": 12,
   "id": "e0a5ddbd-6bc5-4401-984d-3633f209c22a",
   "metadata": {},
   "outputs": [],
   "source": [
    "def TQ(m,mu,lmbda):\n",
    "    T = np.ceil(mu*m)\n",
    "    Q = T-np.ceil(lmbda*T)+1\n",
    "    return T,Q"
   ]
  },
  {
   "cell_type": "code",
   "execution_count": 13,
   "id": "acacca38-2162-4926-8978-3f0b9231aed9",
   "metadata": {},
   "outputs": [],
   "source": [
    "mu = 0.272\n",
    "lmbda = 0.94\n",
    "\n",
    "m = 12\n",
    "\n",
    "T, Q = TQ(m,mu,lmbda)"
   ]
  },
  {
   "cell_type": "code",
   "execution_count": 14,
   "id": "c5fdd119-cdfb-46e9-9928-46c911dce3b6",
   "metadata": {},
   "outputs": [],
   "source": [
    "z3s = np.arange(0,m+1, dtype = \"int32\")\n",
    "z1s = np.arange(0,m+1, dtype = \"int32\")"
   ]
  },
  {
   "cell_type": "code",
   "execution_count": 15,
   "id": "27309ad7-3115-4a0f-b55a-de47ab7c8856",
   "metadata": {},
   "outputs": [
    {
     "data": {
      "image/png": "[encoded data removed]",
      "text/plain": [
       "<Figure size 432x432 with 1 Axes>"
      ]
     },
     "metadata": {},
     "output_type": "display_data"
    }
   ],
   "source": [
    "#set general plot parameters\n",
    "plt.rcParams['font.size'] = 10\n",
    "bg_color = (1,1,1)\n",
    "plt.rcParams['figure.facecolor'] = bg_color\n",
    "plt.rcParams['axes.labelsize'] = 20\n",
    "\n",
    "#create figure with two subplots\n",
    "sns.set(rc={'figure.figsize':(6,6)})\n",
    "fig, ax1 = plt.subplots(nrows = 1,ncols= 1)\n",
    "\n",
    "#create pandas dataframe\n",
    "Index= [z1 for z1 in z1s]\n",
    "Cols = [z3 for z3 in z3s]\n",
    "\n",
    "#create the colorful data\n",
    "data = np.zeros((m+1,m+1), dtype = \"int32\")\n",
    "\n",
    "for z1 in z1s:\n",
    "    for z3 in z3s:\n",
    "        if (z1 + z3 <= m): \n",
    "            data[z1,z3] = 1\n",
    "            if  z3 <= T-1:\n",
    "                data[z1,z3] = 2\n",
    "            if  z3 >= m-T+1:\n",
    "                data[z1,z3] = 2\n",
    "            if (z3 >= T and z3 <= m-T) and z1 <= T-Q-1:\n",
    "                data[z1,z3] = 2 \n",
    "            if (z3 >= T and z3 <= m-T) and z1 >= m-Q-z3+1:\n",
    "                data[z1,z3] = 2\n",
    "\n",
    "df = DataFrame(data, index=Index, columns=Cols)\n",
    "\n",
    "#create colorpallette\n",
    "cmap = sns.color_palette(\"Set2\",  data.max()-data.min()+1)\n",
    "cmap[0] = \"grey\"\n",
    "#cmap = ListedColormap([\"grey\", \"gold\", \"wheat\",\"lightblue\", \"slategrey\", \"orchid\"])\n",
    "ticks = np.arange(data.min(), data.max()+1,1)\n",
    "\n",
    "\n",
    "ylabels = np.arange(0,m+1,5)\n",
    "xlabels = np.arange(0,m+1,5)\n",
    "\n",
    "#dasd = sns.heatmap(df,cmap = cmap,cbar_kws={'label': r'', 'ticks': ticks}, vmin = data.min()-0.5, vmax = data.max()+0.5,\n",
    "#            linewidths = 2, rasterized=True, yticklabels=ylabels, xticklabels = xlabels, ax=ax1)\n",
    "\n",
    "dasd = sns.heatmap(df,cmap = cmap, vmin = data.min()-0.5, vmax = data.max()+0.5, cbar = False,\n",
    "            linewidths = 2, rasterized=True, yticklabels=ylabels, xticklabels = xlabels, ax=ax1)\n",
    "\n",
    "#rotate the labels on axis\n",
    "ax1.set_yticks(ylabels+0.5)\n",
    "ax1.set_xticks(xlabels+0.5)\n",
    "ax1.set_yticklabels(ylabels, rotation=0)\n",
    "ax1.set_xticklabels(xlabels, rotation=0)\n",
    "\n",
    "\n",
    "ax1.vlines(x = T, ymin = 0, ymax = m+1, color = \"red\", linewidth  = 4)\n",
    "ax1.hlines(y = T-Q, xmin = 0, xmax = m+1, color = \"blue\", linewidth = 4)    \n",
    "\n",
    "\n",
    "for i in range(m+1):\n",
    "    if i == 0:\n",
    "        pass\n",
    "    else:\n",
    "        ax1.vlines(x = i, ymin = m-i, ymax = m-i+1, color = \"black\", linewidth  = 4)\n",
    "    if i >= m:\n",
    "        pass\n",
    "    else:\n",
    "        ax1.hlines(y = m-i, xmin = i, xmax = i+1, color = \"black\", linewidth  = 4)\n",
    "    \n",
    "\n",
    "#add axis labels\n",
    "ax1.set_xlabel(r\"$\\ell_3$\", fontsize = 18)\n",
    "ax1.set_ylabel(r\"$\\ell_1$\", fontsize = 18)\n",
    "\n",
    "ax1.invert_yaxis()\n",
    "\n",
    "plt.tight_layout(pad=3.0)\n",
    "plt.savefig(\"../figures/sfaulty_upperbound_formula_domain_v4.pdf\", bbox_inches='tight', format = \"pdf\", dpi = 1500)"
   ]
  },
  {
   "cell_type": "code",
   "execution_count": 16,
   "id": "ae9bf9bd-d6f9-4007-a7b0-1ebdd4ba8f6d",
   "metadata": {},
   "outputs": [],
   "source": [
    "for i in range(m+1):\n",
    "    if i == 0:\n",
    "        pass\n",
    "    else:\n",
    "        ax1.vlines(x = i, ymin = m-i+1, ymax = m-i+2, color = \"orange\")\n",
    "    if i >= m:\n",
    "        pass\n",
    "    else:\n",
    "        ax1.hlines(y = m-i, xmin = i+1, xmax = i+2, color = \"orange\")"
   ]
  },
  {
   "cell_type": "code",
   "execution_count": 17,
   "id": "faee82cd-56e6-4650-9aba-7d4425f00a0b",
   "metadata": {},
   "outputs": [],
   "source": [
    "mu = 0.272\n",
    "lmbda = 0.94\n",
    "\n",
    "m = 12\n",
    "\n",
    "T, Q = TQ(m,mu,lmbda)"
   ]
  },
  {
   "cell_type": "code",
   "execution_count": 18,
   "id": "fba4b233-dd14-4ed7-abfd-d0018350df99",
   "metadata": {},
   "outputs": [],
   "source": [
    "z2s = np.arange(0,m+1, dtype = \"int32\")\n",
    "z1s = np.arange(0,m+1, dtype = \"int32\")"
   ]
  },
  {
   "cell_type": "code",
   "execution_count": 19,
   "id": "e6db88f5-5a3f-4b9e-8bc7-d1a799acbe92",
   "metadata": {},
   "outputs": [
    {
     "data": {
      "image/png": "[encoded data removed]",
      "text/plain": [
       "<Figure size 432x432 with 1 Axes>"
      ]
     },
     "metadata": {},
     "output_type": "display_data"
    }
   ],
   "source": [
    "#set general plot parameters\n",
    "plt.rcParams['font.size'] = 10\n",
    "bg_color = (1,1,1)\n",
    "plt.rcParams['figure.facecolor'] = bg_color\n",
    "plt.rcParams['axes.labelsize'] = 20\n",
    "\n",
    "#create figure with two subplots\n",
    "sns.set(rc={'figure.figsize':(6,6)})\n",
    "fig, ax1 = plt.subplots(nrows = 1,ncols= 1)\n",
    "\n",
    "#create pandas dataframe\n",
    "Index= [z1 for z1 in z1s]\n",
    "Cols = [z2 for z2 in z2s]\n",
    "\n",
    "#create the colorful data\n",
    "data = np.zeros((m+1,m+1), dtype = \"int32\")\n",
    "\n",
    "for z1 in z1s: \n",
    "    for z2 in z2s: \n",
    "        if (z1 + z2 <= m): \n",
    "            data[z1,z2] = 1\n",
    "            if z1 > m-T:\n",
    "                data[z1,z2] = 4\n",
    "            if z1 < T :\n",
    "                data[z1,z2] = 3\n",
    "            if T<= z1 and z1<=m-T:\n",
    "                if T-Q+1 <= z2 and z1+z2<=m:\n",
    "                    data[z1,z2] = 2\n",
    "\n",
    "df = DataFrame(data, index=Index, columns=Cols)\n",
    "\n",
    "#create colorpallette\n",
    "cmap = sns.color_palette(\"Set2\",  data.max()-data.min()+1)\n",
    "cmap[0] = \"grey\"\n",
    "#cmap = ListedColormap([\"grey\", \"gold\", \"wheat\",\"lightblue\", \"slategrey\", \"orchid\"])\n",
    "ticks = np.arange(data.min(), data.max()+1,1)\n",
    "\n",
    "\n",
    "ylabels = np.arange(0,m+1,5)\n",
    "xlabels = np.arange(0,m+1,5)\n",
    "\n",
    "dasd = sns.heatmap(df,cmap = cmap,cbar_kws={'label': r'', 'ticks': ticks}, vmin = data.min()-0.5, vmax = data.max()+0.5,cbar = False,\n",
    "            linewidths = 2, rasterized=True, yticklabels=ylabels, xticklabels = xlabels, ax=ax1)\n",
    "\n",
    "#rotate the labels on axis\n",
    "ax1.set_yticks(ylabels+0.5)\n",
    "ax1.set_xticks(xlabels+0.5)\n",
    "ax1.set_yticklabels(ylabels, rotation=0)\n",
    "ax1.set_xticklabels(xlabels, rotation=0)\n",
    "\n",
    "\n",
    "ax1.hlines(y = m -T +1, xmin = 0, xmax = m+1, color = \"red\", linewidth  = 4)\n",
    "ax1.hlines(y = T, xmin = 0, xmax = m+1, color = \"blue\", linewidth = 4)    \n",
    "ax1.vlines(x = T, ymin =T, ymax =m-T+1, color = \"black\", linewidth = 4)    \n",
    "\n",
    "#add axis labels\n",
    "ax1.set_xlabel(r\"$\\ell_2$\", fontsize = 18)\n",
    "ax1.set_ylabel(r\"$\\ell_1$\", fontsize = 18)\n",
    "\n",
    "ax1.invert_yaxis()\n",
    "\n",
    "plt.tight_layout(pad=3.0)\n",
    "plt.savefig(\"../figures/r0faulty_upperbound_formula_v4.pdf\", bbox_inches='tight', format = \"pdf\", dpi = 1500)"
   ]
  },
  {
   "cell_type": "code",
   "execution_count": null,
   "id": "667ebab8-26a2-47e0-8ec1-c0b7469244a7",
   "metadata": {},
   "outputs": [],
   "source": []
  }
 ],
 "metadata": {
  "kernelspec": {
   "display_name": "Python 3 (ipykernel)",
   "language": "python",
   "name": "python3"
  },
  "language_info": {
   "codemirror_mode": {
    "name": "ipython",
    "version": 3
   },
   "file_extension": ".py",
   "mimetype": "text/x-python",
   "name": "python",
   "nbconvert_exporter": "python",
   "pygments_lexer": "ipython3",
   "version": "3.9.7"
  }
 },
 "nbformat": 4,
 "nbformat_minor": 5
}
