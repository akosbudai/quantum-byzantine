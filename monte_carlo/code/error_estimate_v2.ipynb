{
 "cells": [
  {
   "cell_type": "code",
   "execution_count": 3,
   "metadata": {},
   "outputs": [],
   "source": [
    "import numpy as np\n",
    "import multiprocessing\n",
    "import itertools\n",
    "import byzantine_code as eqc"
   ]
  },
  {
   "cell_type": "code",
   "execution_count": 4,
   "metadata": {},
   "outputs": [],
   "source": [
    "def error_func(m):\n",
    "    mu = 0.272\n",
    "    l = 0.94\n",
    "\n",
    "    #define error rate\n",
    "    q = 1e-4    \n",
    "\n",
    "    #calculate the failure probability for all the scenarios\n",
    "    pfno = eqc.fprob_nofaulty(m = m, mu = mu, l = l)\n",
    "    pfs = eqc.fprob_sfaulty(m = m, mu = mu, l = l)\n",
    "    pfr0 = eqc.fprob_r0faulty(m = m, mu = mu, l = l)\n",
    "\n",
    "    #calculate the maximum of the failure probabilities\n",
    "    pf = max([pfno, pfs, pfr0])\n",
    "\n",
    "    #calculate the probability of a leakage event\n",
    "    P_err = 1-(1-q)**m\n",
    "\n",
    "    #calculate the total probability of failure\n",
    "    P_total = (1 - P_err) * pf + P_err\n",
    "\n",
    "    return P_total"
   ]
  },
  {
   "cell_type": "code",
   "execution_count": 5,
   "metadata": {},
   "outputs": [],
   "source": [
    "#define the quantum states for which pf is evaluated\n",
    "ms = np.arange(100, 120, 1)\n",
    "miter = itertools.product(ms)"
   ]
  },
  {
   "cell_type": "code",
   "execution_count": 6,
   "metadata": {},
   "outputs": [],
   "source": [
    "miter = itertools.product(ms)"
   ]
  },
  {
   "cell_type": "code",
   "execution_count": 7,
   "metadata": {},
   "outputs": [],
   "source": [
    "pool = multiprocessing.Pool()\n",
    "results = pool.map(error_func, miter)"
   ]
  }
 ],
 "metadata": {
  "kernelspec": {
   "display_name": "base",
   "language": "python",
   "name": "python3"
  },
  "language_info": {
   "codemirror_mode": {
    "name": "ipython",
    "version": 3
   },
   "file_extension": ".py",
   "mimetype": "text/x-python",
   "name": "python",
   "nbconvert_exporter": "python",
   "pygments_lexer": "ipython3",
   "version": "3.11.4"
  },
  "orig_nbformat": 4
 },
 "nbformat": 4,
 "nbformat_minor": 2
}
