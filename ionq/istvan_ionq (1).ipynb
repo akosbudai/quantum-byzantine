{
 "cells": [
  {
   "cell_type": "markdown",
   "id": "49a25f1d",
   "metadata": {},
   "source": [
    "# Counts.txt"
   ]
  },
  {
   "cell_type": "code",
   "execution_count": null,
   "id": "f743cdbd",
   "metadata": {},
   "outputs": [],
   "source": [
    "# the data in counts.txt are ordered according to the measurement basis, in lexicographical order from XXXX to ZZZZ\n",
    "# result '0' in the X basis means state |+>, in the Y basis |+i> and in the Z basis |0>"
   ]
  },
  {
   "cell_type": "markdown",
   "id": "c4d3e6af",
   "metadata": {},
   "source": [
    "# Imports"
   ]
  },
  {
   "cell_type": "code",
   "execution_count": 1,
   "id": "f0260d7d",
   "metadata": {},
   "outputs": [],
   "source": [
    "from braket.circuits import Circuit\n",
    "import numpy as np\n",
    "import matplotlib.pyplot as plt\n",
    "# AWS imports: Import Braket SDK modules\n",
    "from braket.circuits import Circuit, Gate, Instruction, circuit, Observable\n",
    "from braket.devices import LocalSimulator\n",
    "from braket.aws import AwsDevice, AwsQuantumTask\n",
    "import json\n",
    "from scipy.linalg import sqrtm"
   ]
  },
  {
   "cell_type": "code",
   "execution_count": 3,
   "id": "8c5a5930",
   "metadata": {},
   "outputs": [],
   "source": [
    "# Please enter the S3 bucket you created during onboarding in the code below\n",
    "my_bucket = \"amazon-braket-1232454\" # the name of the bucket\n",
    "my_prefix = \"test\" # the name of the folder in the bucket\n",
    "\n",
    "s3_folder = (my_bucket, my_prefix)"
   ]
  },
  {
   "cell_type": "code",
   "execution_count": 18,
   "id": "89afc35b",
   "metadata": {},
   "outputs": [
    {
     "name": "stdout",
     "output_type": "stream",
     "text": [
      "Gate set supported by the IonQ device:\n",
      " ['x', 'y', 'z', 'rx', 'ry', 'rz', 'h', 'cnot', 's', 'si', 't', 'ti', 'v', 'vi', 'xx', 'yy', 'zz', 'swap', 'i']\n"
     ]
    }
   ],
   "source": [
    "# the IonQ device\n",
    "device = AwsDevice(\"arn:aws:braket:::device/qpu/ionq/ionQdevice\")\n",
    "supported_gates = device.properties.action['braket.ir.jaqcd.program'].supportedOperations\n",
    "# print the supported gate set\n",
    "print('Gate set supported by the IonQ device:\\n', supported_gates)"
   ]
  },
  {
   "cell_type": "markdown",
   "id": "fde67044",
   "metadata": {},
   "source": [
    "# Creating the Cabello circuits"
   ]
  },
  {
   "cell_type": "code",
   "execution_count": 19,
   "id": "eae2b6c5",
   "metadata": {},
   "outputs": [],
   "source": [
    "def create_tomo_circuit(basis):\n",
    "    '''\n",
    "    create the quantum circuit of the cabello state and measure in the chosen basis\n",
    "    the basis is a 4-element vector containing 0s, 1s and 2s \n",
    "    from [0, 0, 0, 0] meaning XXXX to [2, 2, 2, 2] meaning ZZZZ\n",
    "    '''\n",
    "    # the cabello circuit creating the state 2|1100>+2|0011>-|1010>-|0101>-|1001>-|0110>\n",
    "    istvan_circ = Circuit()\n",
    "    istvan_circ.h(0)\n",
    "    istvan_circ.h(1)\n",
    "    istvan_circ.h(2)\n",
    "    istvan_circ.rz(0, -0.73304)\n",
    "    istvan_circ.rz(2, 2.67908)\n",
    "    istvan_circ.cnot(2, 0)\n",
    "    istvan_circ.ry(0, -2.67908)\n",
    "    istvan_circ.h(2)\n",
    "    istvan_circ.cnot(1, 0)\n",
    "    istvan_circ.cnot(2, 3)\n",
    "    istvan_circ.rz(2, 1.5708)\n",
    "    istvan_circ.cnot(1, 3)\n",
    "    istvan_circ.cnot(0, 2)\n",
    "    # measurement. result '0' in the X basis means state |+>, in the Y basis |+i> and in the Z basis |0>\n",
    "    for i in range(4):\n",
    "        if basis[i] == 0:\n",
    "            istvan_circ.h(i)\n",
    "        elif basis[i] == 1:\n",
    "            istvan_circ.si(i)\n",
    "            istvan_circ.h(i)\n",
    "    return istvan_circ"
   ]
  },
  {
   "cell_type": "code",
   "execution_count": 235,
   "id": "cb413af7",
   "metadata": {},
   "outputs": [],
   "source": [
    "# the bases we need to measure the state in, 81=3^4 in total\n",
    "# the bases go from XXXX to ZZZZ in lexicographical order, just like the results in counts.txt\n",
    "bases = []\n",
    "for i in range(3):\n",
    "    for j in range(3):\n",
    "        for k in range(3):\n",
    "            for l in range(3):\n",
    "                bases.append([i, j, k, l])"
   ]
  },
  {
   "cell_type": "code",
   "execution_count": 174,
   "id": "15ef31a2",
   "metadata": {},
   "outputs": [],
   "source": [
    "# extra bases, the bases containing the identity operator. we don't need to measure these\n",
    "# basis states here are of the form [i, j, k, l] with i, j, k, l going from 0 to 3, \n",
    "# 0 = X, 1 = Y, 2 = Z and 3 = I\n",
    "# and at least one of i, j, k, or l is 3\n",
    "extra_bases = []\n",
    "extra_bases.append([3, 3, 3, 3])\n",
    "for i in range(3):\n",
    "    extra_bases.append([i, 3, 3, 3])\n",
    "    extra_bases.append([3, i, 3, 3])\n",
    "    extra_bases.append([3, 3, i, 3])\n",
    "    extra_bases.append([3, 3, 3, i])\n",
    "    for j in range(3):\n",
    "        extra_bases.append([3, 3, i, j])\n",
    "        extra_bases.append([3, i, 3, j])\n",
    "        extra_bases.append([3, i, j, 3])\n",
    "        extra_bases.append([i, 3, 3, j])\n",
    "        extra_bases.append([i, 3, j, 3])\n",
    "        extra_bases.append([i, j, 3, 3])\n",
    "        for k in range(3):\n",
    "                extra_bases.append([i, j, k, 3])\n",
    "                extra_bases.append([i, j, 3, k])\n",
    "                extra_bases.append([i, 3, j, k])\n",
    "                extra_bases.append([3, i, j, k])"
   ]
  },
  {
   "cell_type": "markdown",
   "id": "d8316942",
   "metadata": {},
   "source": [
    "# Running the Cabello circuits (costs money) and storing the results"
   ]
  },
  {
   "cell_type": "code",
   "execution_count": null,
   "id": "e6c4d9a0",
   "metadata": {},
   "outputs": [],
   "source": [
    "# this cell costs money to run\n",
    "# runs and measures all 81 tomography circuits on the IonQ device with 8000 shots\n",
    "# writes the results into a file\n",
    "counts = []\n",
    "for basis in bases:\n",
    "    circ = create_tomo_circuit(basis)\n",
    "    res = device.run(circ, s3_folder, shots=8000).result()\n",
    "    counts.append(res.measurement_counts)\n",
    "    f = open(\"counts.txt\", \"a\")\n",
    "    f.write(str(res.measurement_counts)+'\\n')\n",
    "    f.close()"
   ]
  },
  {
   "cell_type": "code",
   "execution_count": 34,
   "id": "e62e0770",
   "metadata": {},
   "outputs": [],
   "source": [
    "# reads the results from the file and stores them in a list of dictionaries\n",
    "counts = []\n",
    "with open('counts.txt', 'r') as f:\n",
    "    for line in f:\n",
    "        l = line[8:-2].replace(\"'\", '\"')\n",
    "        counts.append(json.loads(l))"
   ]
  },
  {
   "cell_type": "code",
   "execution_count": 53,
   "id": "5be92c34",
   "metadata": {},
   "outputs": [],
   "source": [
    "# definition of basis measurement gates and pauli basis gates, needed for density matrix reconstruction\n",
    "I = np.array([[1, 0], [0, 1]])\n",
    "H = (1/np.sqrt(2))*np.array([[1, 1], [1, -1]])\n",
    "HSi = (1/np.sqrt(2))*np.array([[1, -1j], [1, 1j]])\n",
    "X = np.array([[0, 1], [1, 0]])\n",
    "Y = np.array([[0, -1j], [1j, 0]])\n",
    "Z = np.array([[1, 0], [0, -1]])"
   ]
  },
  {
   "cell_type": "markdown",
   "id": "83d13114",
   "metadata": {},
   "source": [
    "# Calculating and plotting the classical fidelities of the measurement results"
   ]
  },
  {
   "cell_type": "code",
   "execution_count": 10,
   "id": "9b062d71",
   "metadata": {},
   "outputs": [],
   "source": [
    "def classical_fidelity(basis, counts, shots=8000):\n",
    "    '''calculates the classical fidelity of the measured result (stored in the dictionary 'counts')\n",
    "    with respect to the ideal cabello state in the chosen basis'''\n",
    "    gates = [H, HSi, I]\n",
    "    state = (1/np.sqrt(3))*np.array([0, 0, 0, 1, 0, -0.5, -0.5, 0, 0, -0.5, -0.5, 0, 1, 0, 0, 0])\n",
    "    gate = np.kron(np.kron(np.kron(gates[basis[0]], gates[basis[1]]), gates[basis[2]]), gates[basis[3]])\n",
    "    final_state = gate.dot(state)\n",
    "    perf_probs = {f'{k:04b}': abs(final_state[k])**2 for k in range(16)}\n",
    "    meas_probs = {bitstring: count / shots for (bitstring, count) in counts.items()}\n",
    "    fidelity = 0\n",
    "    for bitstring in perf_probs:\n",
    "        fidelity += np.sqrt(perf_probs[bitstring]*meas_probs.get(bitstring, 0))\n",
    "    return fidelity**2"
   ]
  },
  {
   "cell_type": "code",
   "execution_count": 35,
   "id": "f2232862",
   "metadata": {},
   "outputs": [],
   "source": [
    "# this cell can be used to calculate all the classical fidelities\n",
    "fids = []\n",
    "for i in range(81):\n",
    "    fids.append(classical_fidelity(bases[i], counts[i], shots=8000))"
   ]
  },
  {
   "cell_type": "code",
   "execution_count": 37,
   "id": "1fd310c2",
   "metadata": {},
   "outputs": [
    {
     "data": {
      "image/png": "[encoded data removed]",
      "text/plain": [
       "<Figure size 1080x720 with 1 Axes>"
      ]
     },
     "metadata": {
      "needs_background": "light"
     },
     "output_type": "display_data"
    }
   ],
   "source": [
    "# plot the previously calculated classical fidelities\n",
    "def basis_string(base):\n",
    "    string = ''\n",
    "    case = {0: 'X', 1: 'Y', 2: 'Z'}\n",
    "    for i in range(len(base)):\n",
    "        string += case[base[i]]\n",
    "    return string\n",
    "plt.figure(figsize=(15, 10))\n",
    "plt.plot(fids, '.')\n",
    "plt.ylabel('classical fidelity', fontsize=15)\n",
    "xlabels = [f'{basis_string(b)}' for b in bases]\n",
    "plt.xlabel('basis', fontsize=15)\n",
    "plt.xticks(range(81), xlabels, rotation='vertical')\n",
    "plt.show()"
   ]
  },
  {
   "cell_type": "markdown",
   "id": "bcce5fd5",
   "metadata": {},
   "source": [
    "# Reconstructing the density matrix from tomography measurement results"
   ]
  },
  {
   "cell_type": "code",
   "execution_count": 274,
   "id": "e31c17db",
   "metadata": {},
   "outputs": [],
   "source": [
    "# definitions: basis gates for tomography measurement, pauli basis gates, \n",
    "# and the Cabello state in the computational basis\n",
    "tomo_gates = [H, HSi, I, I]\n",
    "pauli_gates = [X, Y, Z, I]\n",
    "state = (1/np.sqrt(3))*np.array([0, 0, 0, 1, 0, -0.5, -0.5, 0, 0, -0.5, -0.5, 0, 1, 0, 0, 0])"
   ]
  },
  {
   "cell_type": "code",
   "execution_count": 268,
   "id": "47bbc0e6",
   "metadata": {},
   "outputs": [],
   "source": [
    "def density_matrix():\n",
    "    '''\n",
    "    Reconstruting the ideal density matrix from ideal (no shot noise) measurement results. \n",
    "    This function is not needed and was only used for debugging purposes.\n",
    "    '''\n",
    "    rho = np.zeros((16, 16), dtype='complex128')\n",
    "    for (i, j, k, l) in bases:\n",
    "        state = (1/np.sqrt(3))*np.array([0, 0, 0, 1, 0, -0.5, -0.5, 0, 0, -0.5, -0.5, 0, 1, 0, 0, 0])\n",
    "        gate = np.kron(np.kron(np.kron(tomo_gates[i], tomo_gates[j]),\n",
    "                               tomo_gates[k]), tomo_gates[l])\n",
    "        final_state = gate.dot(state)\n",
    "        perf_probs = {f'{k:04b}': abs(final_state[k])**2 for k in range(16)}\n",
    "        pauli_matrix = np.kron(np.kron(np.kron(pauli_gates[i], pauli_gates[j]),\n",
    "                                       pauli_gates[k]), pauli_gates[l])\n",
    "        trace_rho = sum((-1)**(state.count('1') % 2)*perf_probs[state] for state in perf_probs)\n",
    "        rho += trace_rho * pauli_matrix\n",
    "    for basis in extra_bases:\n",
    "        state = (1/np.sqrt(3))*np.array([0, 0, 0, 1, 0, -0.5, -0.5, 0, 0, -0.5, -0.5, 0, 1, 0, 0, 0])\n",
    "        gate = np.kron(np.kron(np.kron(tomo_gates[basis[0]], tomo_gates[basis[1]]),\n",
    "                           tomo_gates[basis[2]]), tomo_gates[basis[3]])\n",
    "        final_state = gate.dot(state)\n",
    "        perf_probs = {f'{k:04b}': abs(final_state[k])**2 for k in range(16)}\n",
    "        pauli_matrix = np.kron(np.kron(np.kron(pauli_gates[basis[0]], pauli_gates[basis[1]]),\n",
    "                                       pauli_gates[basis[2]]), pauli_gates[basis[3]])\n",
    "        trace_rho = 0\n",
    "        for curr_state in perf_probs:\n",
    "            new_state = curr_state\n",
    "            for i in range(len(basis)):\n",
    "                if basis[i] == 3:\n",
    "                    new_state = new_state[:i] + '0' + new_state[i+1:]\n",
    "            trace_rho += (-1)**(new_state.count('1') % 2)*perf_probs[curr_state]\n",
    "        rho += trace_rho * pauli_matrix\n",
    "    return (1/16)*rho"
   ]
  },
  {
   "cell_type": "code",
   "execution_count": 308,
   "id": "c801b926",
   "metadata": {},
   "outputs": [],
   "source": [
    "def density_matrix(all_counts, shots=8000):\n",
    "    '''\n",
    "    Reconstructing the density matrix from the measurement results.\n",
    "    The equation used (\\sigma are the four Pauli matrices): \n",
    "    \\rho = (1/16)*sum_{ijkl=0}^{3} {\\sigma_i \\sigma_j \\sigma_k \\sigma_l \\Tr{\\sigma_i \\sigma_j \\sigma_k \\sigma_l \\rho}},\n",
    "    where \\Tr{\\sigma_i \\sigma_j \\sigma_k \\sigma_l \\rho} is estimated from the measurement results:\n",
    "    \\Tr{\\sigma_i \\sigma_j \\sigma_k \\sigma_l \\rho} = (estimated as)\n",
    "    = prob(measuring a bitstring with an even number of 1s in the ijkl basis) -\n",
    "    - prob(measuring a bitstring with an odd number of 1s in the ijkl basis)\n",
    "    with the special rule that if the basis on a qubit is \\sigma_0(=identity) (where we don't have actual measurements),\n",
    "    we consider it measuring 0 on that qubit by default.\n",
    "    Output: the reconstructed density matrix.\n",
    "    '''\n",
    "    rho = np.zeros((16, 16), dtype='complex128')\n",
    "    for (basis, counts) in zip(bases, all_counts):\n",
    "        meas_probs = {bitstring: count / shots for (bitstring, count) in counts.items()}\n",
    "        pauli_matrix = np.kron(np.kron(np.kron(pauli_gates[basis[0]], pauli_gates[basis[1]]),\n",
    "                                       pauli_gates[basis[2]]), pauli_gates[basis[3]])\n",
    "        trace_rho = sum((-1)**(state.count('1') % 2)*meas_probs[state] for state in meas_probs)\n",
    "        rho += trace_rho * pauli_matrix\n",
    "    for basis in extra_bases:\n",
    "        og_basis = [b if b!=3 else 2 for b in basis]\n",
    "        no = og_basis[0]*27+og_basis[1]*9+og_basis[2]*3+og_basis[3]\n",
    "        meas_probs = {bitstring: count / shots for (bitstring, count) in all_counts[no].items()}\n",
    "        pauli_matrix = np.kron(np.kron(np.kron(pauli_gates[basis[0]], pauli_gates[basis[1]]),\n",
    "                                       pauli_gates[basis[2]]), pauli_gates[basis[3]])\n",
    "        trace_rho = 0\n",
    "        for curr_state in meas_probs:\n",
    "            new_state = curr_state\n",
    "            for i in range(len(basis)):\n",
    "                if basis[i] == 3:\n",
    "                    new_state = new_state[:i] + '0' + new_state[i+1:]\n",
    "            trace_rho += (-1)**(new_state.count('1') % 2)*meas_probs[curr_state]\n",
    "        rho += trace_rho * pauli_matrix\n",
    "    return (1/16)*rho"
   ]
  },
  {
   "cell_type": "markdown",
   "id": "0fa6e76b",
   "metadata": {},
   "source": [
    "# Calculating the quantum fidelity"
   ]
  },
  {
   "cell_type": "code",
   "execution_count": 318,
   "id": "b2ed88ea",
   "metadata": {},
   "outputs": [],
   "source": [
    "def quantum_fidelity(rho1, rho2):\n",
    "    '''Function to calculate the quantum fidelity between two density matrices rho1 and rho2'''\n",
    "    return (np.trace(sqrtm(np.matmul(np.matmul(sqrtm(rho1), rho2), sqrtm(rho1)))))**2"
   ]
  },
  {
   "cell_type": "code",
   "execution_count": 309,
   "id": "3eca9932",
   "metadata": {},
   "outputs": [],
   "source": [
    "# the density matrix reconstructed from measurements\n",
    "rho_meas = density_matrix(all_counts)"
   ]
  },
  {
   "cell_type": "code",
   "execution_count": 162,
   "id": "4a243f33",
   "metadata": {},
   "outputs": [],
   "source": [
    "# calculate the density matrix of the ideal Cabello state\n",
    "state = (1/np.sqrt(3))*np.array([0, 0, 0, 1, 0, -0.5, -0.5, 0, 0, -0.5, -0.5, 0, 1, 0, 0, 0])\n",
    "rho_ideal = np.outer(state, state)"
   ]
  },
  {
   "cell_type": "code",
   "execution_count": null,
   "id": "487d9b7f",
   "metadata": {},
   "outputs": [],
   "source": [
    "# the quantum fidelity of the reconstructed density matrix\n",
    "quantum_fidelity(rho_meas, rho_ideal)"
   ]
  }
 ],
 "metadata": {
  "kernelspec": {
   "display_name": "conda_braket",
   "language": "python",
   "name": "conda_braket"
  },
  "language_info": {
   "codemirror_mode": {
    "name": "ipython",
    "version": 3
   },
   "file_extension": ".py",
   "mimetype": "text/x-python",
   "name": "python",
   "nbconvert_exporter": "python",
   "pygments_lexer": "ipython3",
   "version": "3.7.10"
  }
 },
 "nbformat": 4,
 "nbformat_minor": 5
}
